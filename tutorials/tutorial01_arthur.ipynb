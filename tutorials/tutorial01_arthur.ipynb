{
 "cells": [
  {
   "cell_type": "markdown",
   "metadata": {},
   "source": [
    "# Tutorial 01: Running Sumo/Flow Simulations\n",
    "\n",
    "This tutorial walks a reader through setting up a basic FLOW simulation environment, initializing an attacking model, and subsequently running a simulation to understand the behavior of the simulation. Information from the FLOW tutorials may be repeated.\n",
    "\n",
    "---\n",
    "\n",
    "Every simulation in Flow/Anti-Flow is executed by the `Experiment` object. The `Experiment` object expects 10 total arguments for the simulation configuration, which can be largely categorized into 2 types : *network* arguments, and *environment* arguments. **Network Arguments** describe the features of the transportation network used in simulation which includes properties of vehicles, traffic lights, inflows, etc. in the network. **Environment Arguments** deal with initializing and advancing simulations, and well as storing the simulation data for later use. Moreover, custom environments may be used to modify the dynamical features of a network. Below is a visual breakdown of the needed parameters. Exact descriptions for each parameter will be given further below.\n",
    "\n",
    "**Expeceted Arguments for** `Experiment`\n",
    "* Network Arguments\n",
    "    * name \n",
    "    * vehicles\n",
    "    * net_params\n",
    "    * initial_config\n",
    "    * traffic_lights\n",
    "* Environment Arguments\n",
    "    * network\n",
    "    * simulator\n",
    "    * sim_params\n",
    "    * Environment Name\n",
    "    * env_params\n",
    "    \n",
    "---"
   ]
  },
  {
   "cell_type": "markdown",
   "metadata": {},
   "source": [
    "## 1. The Ring Road Simulation without an Attacker\n",
    "\n",
    "In Part 1, we will begin with setting up one of the simplest traffic simulation environments, the ring-road. On a ring-road, a finite number of vehicles follow one another continuously. Part 1 will simulate a network without an attack vehicle, and Part 2 will simulate a network with an attack vehicle which causes irregularities in the traffic flow.\n",
    "\n",
    "### 1.1. Setting up the Network Arguments\n",
    "\n",
    "First, we will initialize all 5 network arguments. The following code shows how to initialize these quantities."
   ]
  },
  {
   "cell_type": "markdown",
   "metadata": {},
   "source": [
    "#### 1.1.1. Name\n",
    "The `name` argument is a simple string variable depicting the name of the network. This does not affect the type of network being created. Instead, the `network` variable defines the type of the network which we will initialize later. "
   ]
  },
  {
   "cell_type": "code",
   "execution_count": 1,
   "metadata": {},
   "outputs": [],
   "source": [
    "name = 'ring_no_attack'"
   ]
  },
  {
   "cell_type": "markdown",
   "metadata": {},
   "source": [
    "#### 1.1.2. Vehicles\n",
    "The `vehicles` argument holds state information on all vehicles in the network simulation. We manage this information using the `VehicleParams` class. Once a `VehicleParams` object is created, vehicles may be introduced using the `add` method. This method specifies the types and quantities of vehicles at the start of a simulation rollout. For a description of the various arguements associated with the `add` method, we refer the reader to the following documentation ([VehicleParams.add](https://flow.readthedocs.io/en/latest/flow.core.html?highlight=vehicleparam#flow.core.params.VehicleParams))."
   ]
  },
  {
   "cell_type": "code",
   "execution_count": 2,
   "metadata": {},
   "outputs": [],
   "source": [
    "from flow.core.params import VehicleParams\n",
    "from flow.controllers.car_following_models import IDMController # A driving model that simulates a human driver.\n",
    "from flow.controllers.routing_controllers import ContinuousRouter # A Router that keeps vehicles on the ring-road.\n",
    "\n",
    "vehicles = VehicleParams() # The vehicles object will store different classes of drivers:\n",
    "\n",
    "\n",
    "num_human_drivers = 20  # Specify how many human driven vehicles will drive:\n",
    "# Define a driver model human drivers:\n",
    "vehicles.add(\"human\",\n",
    "             acceleration_controller=(IDMController, {'noise':0.1}),\n",
    "             routing_controller=(ContinuousRouter, {}),\n",
    "             num_vehicles=num_human_drivers)"
   ]
  },
  {
   "cell_type": "markdown",
   "metadata": {},
   "source": [
    "#### 1.1.3. Net Params\n",
    "The `NetParams` argument defines the shape and properties within a network. The details of `NetParams` may vary drasitcally depending on the specific network configuration such as a ring-road or a straight road. For the ring-road, we will use 4 specifications : length of the road, number of lanes, speed limit for all vehicles, and the resolution of the curves on the ring."
   ]
  },
  {
   "cell_type": "code",
   "execution_count": 3,
   "metadata": {},
   "outputs": [],
   "source": [
    "from flow.core.params import NetParams\n",
    "\n",
    "ring_length = 300 # Diameter of the ring-road\n",
    "lanes = 1 # Number of lanes in the ring-road\n",
    "speed_limit = 30 # Speed limit for all vehicles\n",
    "resolution = 40 # Resolution of the curves\n",
    "\n",
    "net_params = NetParams(additional_params={'length': ring_length,\n",
    "                                          'lanes': lanes,\n",
    "                                          'speed_limit': speed_limit,\n",
    "                                          'resolution': resolution})"
   ]
  },
  {
   "cell_type": "markdown",
   "metadata": {},
   "source": [
    "#### 1.1.4. Initial Config\n",
    "The `InitialConfig` argument specifies parameters that affect the positions of the vehicles at the start of a simulation. In order to introduce a small initial disturbance to the system of vehicles in the network, we set the `perturbation` term in `InitialConfig` to 1m."
   ]
  },
  {
   "cell_type": "code",
   "execution_count": 4,
   "metadata": {},
   "outputs": [],
   "source": [
    "from flow.core.params import InitialConfig\n",
    "\n",
    "initial_config = InitialConfig(spacing=\"uniform\", perturbation=1) # Vehicles start out evenly spaced."
   ]
  },
  {
   "cell_type": "markdown",
   "metadata": {},
   "source": [
    "#### 1.1.5. Traffic Light Params\n",
    "The `TrafficLightParams` argument defines the positions and types of traffic lights in the network. For the simulation, we do not place any traffic lights, therefore an empty `TrafficLightParams` object will be used."
   ]
  },
  {
   "cell_type": "code",
   "execution_count": 5,
   "metadata": {},
   "outputs": [],
   "source": [
    "from flow.core.params import TrafficLightParams\n",
    "\n",
    "traffic_lights = TrafficLightParams() # This is empty, so no traffic lights are used."
   ]
  },
  {
   "cell_type": "markdown",
   "metadata": {},
   "source": [
    "### 1.2. Setting up the Environment Arguments\n",
    "\n",
    "Next, we will initialize the environment arguments."
   ]
  },
  {
   "cell_type": "markdown",
   "metadata": {},
   "source": [
    "#### 1.2.1. Network\n",
    "The `Network` argument specifies the type of network our simulation is based on. This simulation relies on a ring-road, therefore we will import a `RingNetwork` class."
   ]
  },
  {
   "cell_type": "code",
   "execution_count": 6,
   "metadata": {},
   "outputs": [],
   "source": [
    "from flow.networks.ring import RingNetwork"
   ]
  },
  {
   "cell_type": "markdown",
   "metadata": {},
   "source": [
    "#### 1.2.2. Simulator\n",
    "The `Simulator` argument specifies the traffic simulator to be used."
   ]
  },
  {
   "cell_type": "code",
   "execution_count": 7,
   "metadata": {},
   "outputs": [],
   "source": [
    "sim = 'traci'"
   ]
  },
  {
   "cell_type": "markdown",
   "metadata": {},
   "source": [
    "#### 1.2.3. Sim Params\n",
    "`SimParams` specifies simulation-specific variables. These variables maay include the length a simulation step (in seconds), whether to render the GUI when running the experiment, and other variables. Another useful parameter is `emission_path`, which is used to specify the path where the emissions output will be generated. They contain a lot of information about the simulation, for instance the position and speed of each car at each time step. If you do not specify any emission path, the emission file will not be generated."
   ]
  },
  {
   "cell_type": "code",
   "execution_count": 8,
   "metadata": {},
   "outputs": [],
   "source": [
    "from flow.core.params import SumoParams\n",
    "\n",
    "#Simulation parameters:\n",
    "time_step = 0.1 # In seconds, how far each step of the simulation goes.\n",
    "want_render = True # If we want SUMO to render the environment and display the simulation.\n",
    "emission_path = 'data' # Result file location.\n",
    "\n",
    "# Sets the simulation time-step and where data will be recorded.\n",
    "sim_params = SumoParams(sim_step=time_step, render=want_render, emission_path=emission_path) "
   ]
  },
  {
   "cell_type": "markdown",
   "metadata": {},
   "source": [
    "#### 1.2.4. Environment Name\n",
    "Several envionrments in Flow/Anti-Flow exist to train autonomous agents of different forms (e.g. autonomous vehicles, traffic lights) to perform a variety of different tasks. These environments are often network- or task-specific; however, some can be deployed on an ambiguous set of networks as well. One such environment, `AccelEnv`, may be used to train a variable number of vehicles in a fully observable network with a *static* number of vehicles."
   ]
  },
  {
   "cell_type": "code",
   "execution_count": 9,
   "metadata": {},
   "outputs": [],
   "source": [
    "from flow.envs.ring.accel import AccelEnv"
   ]
  },
  {
   "cell_type": "markdown",
   "metadata": {},
   "source": [
    "#### 1.2.5. Env Params\n",
    "`EnvParams` specify environment and experiment-specific parameters that either affect the training process or the dynamics of various components within the network. Much like `NetParams`, the attributes associated with this parameter are mostly environment-specific, and can be found in the environment's `ADDITIONAL_ENV_PARAMS` dictionary. Importing the `ADDITIONAL_ENV_PARAMS` variable, we see that it consists of only one entry, \"target_velocity\", which is used when computing the reward function associated with the environment. We use this default value when generating the `EnvParams` object."
   ]
  },
  {
   "cell_type": "code",
   "execution_count": 10,
   "metadata": {},
   "outputs": [],
   "source": [
    "from flow.core.params import EnvParams\n",
    "from flow.envs.ring.accel import ADDITIONAL_ENV_PARAMS\n",
    "\n",
    "env_params = EnvParams(additional_params=ADDITIONAL_ENV_PARAMS)"
   ]
  },
  {
   "cell_type": "markdown",
   "metadata": {},
   "source": [
    "### 1.3. Running the Simulation"
   ]
  },
  {
   "cell_type": "markdown",
   "metadata": {},
   "source": [
    "We have now properly configured all 10 arguments needed to run a Flow/Anti-Flow simulation experiment. We will package these 10 arguments into a dictionary which will be used to initialize the `Experiment` object. "
   ]
  },
  {
   "cell_type": "code",
   "execution_count": 11,
   "metadata": {},
   "outputs": [
    {
     "name": "stdout",
     "output_type": "stream",
     "text": [
      "Simulation ready.\n"
     ]
    }
   ],
   "source": [
    "from flow.core.experiment import Experiment\n",
    "\n",
    "# Compile all simulation parameters as a dictionary.\n",
    "flow_params = dict(\n",
    "    exp_tag=name,\n",
    "    veh=vehicles,\n",
    "    net=net_params,\n",
    "    initial=initial_config,\n",
    "    tls=traffic_lights,\n",
    "    network=RingNetwork,\n",
    "    simulator=sim,\n",
    "    sim=sim_params,\n",
    "    env_name=AccelEnv,\n",
    "    env=env_params\n",
    ")\n",
    "\n",
    "sim_horizon = 3000 # How many simulation steps will be taken -> Runs for 300 seconds\n",
    "\n",
    "# Set the number of time steps and initialize the exp object with the simulation parameters.\n",
    "flow_params['env'].horizon = sim_horizon\n",
    "exp = Experiment(flow_params)\n",
    "\n",
    "print('Simulation ready.')"
   ]
  },
  {
   "cell_type": "markdown",
   "metadata": {},
   "source": [
    "Let's now run a simulation which doesn't have any malicious vehicles, and only human drivers:"
   ]
  },
  {
   "cell_type": "code",
   "execution_count": 12,
   "metadata": {
    "scrolled": false
   },
   "outputs": [
    {
     "name": "stderr",
     "output_type": "stream",
     "text": [
      "/opt/anaconda3/envs/anti_flow/lib/python3.7/site-packages/numpy/core/fromnumeric.py:3441: RuntimeWarning: Mean of empty slice.\n",
      "  out=out, **kwargs)\n",
      "/opt/anaconda3/envs/anti_flow/lib/python3.7/site-packages/numpy/core/_methods.py:189: RuntimeWarning: invalid value encountered in double_scalars\n",
      "  ret = ret.dtype.type(ret / rcount)\n"
     ]
    },
    {
     "name": "stdout",
     "output_type": "stream",
     "text": [
      "Round 0, Return: 2188.133775280911\n",
      "data/ring_no_attack_20220711-1637001657575420.540907-0_emission.csv data\n",
      "Average, std velocities: 7.349257580250583, 0.0\n",
      "Average, std outflows: 0.0, 0.0\n",
      "Average, std avg_trip_energy: nan, nan\n",
      "Average, std avg_trip_time: nan, nan\n",
      "Average, std total_completed_trips: 0.0, 0.0\n",
      "Average, std returns: 2188.133775280911, 0.0\n",
      "Total time: 28.236186027526855\n",
      "steps/second: 158.55376777424556\n"
     ]
    }
   ],
   "source": [
    "# Run the simulation and save the data:\n",
    "sim_res_list = exp.run(1, convert_to_csv=True)"
   ]
  },
  {
   "cell_type": "markdown",
   "metadata": {},
   "source": [
    "### 1.4. Visualize simulation results:\n",
    "\n",
    "First, we need to find the path to the experiment that was just run, which is stored in the exp object. Plotting tools for visualizing the traffic can then be used, which are found in flow\\visualize. We plot the spacetime diagram which shows a slight travelling waves develop and then move backwards against the traffic flow."
   ]
  },
  {
   "cell_type": "code",
   "execution_count": 13,
   "metadata": {},
   "outputs": [
    {
     "data": {
      "text/plain": [
       "<module 'flow.visualize.visualize_ring' from '/Users/arthursung/Documents/Anti-Flow/flow/visualize/visualize_ring.py'>"
      ]
     },
     "execution_count": 13,
     "metadata": {},
     "output_type": "execute_result"
    }
   ],
   "source": [
    "from importlib import reload\n",
    "import flow.visualize.visualize_ring as visualize_ring\n",
    "reload(visualize_ring)"
   ]
  },
  {
   "cell_type": "code",
   "execution_count": null,
   "metadata": {},
   "outputs": [
    {
     "name": "stdout",
     "output_type": "stream",
     "text": [
      "Data loaded.\n"
     ]
    }
   ],
   "source": [
    "import os\n",
    "import flow.visualize.visualize_ring as visualize_ring\n",
    "\n",
    "emission_location = os.path.join(os.getcwd(),sim_res_list[1])\n",
    "visualize_ring.make_ring_spacetime_fig(csv_path = emission_location)"
   ]
  },
  {
   "cell_type": "markdown",
   "metadata": {},
   "source": [
    "## 2. The Ring Road Simulation with an Attacker\n",
    "\n",
    "In Part 2, we introduce an attacker in the ring-road simulation. Since an attack vehicle should behave differently from the normal vehicles on the road, it requires a new configuration that defines the desired movements. This can be achieved through passing the desired configuration through the `acceleration_controller` parameter when introducing the vehicle with `vehicle.add()`.\n",
    "\n",
    "In this Tutorial, we want the attack vehicle to simulate a compromised ACC model which executes a randomized deceleration event (RDA). A single ACC vehicle is defined which has a given attack mangitude and duration. The attacker waits 50 seconds, and travels 900 m before it executes its attack, and the attack is only executed once. We will configure this specific behavior / attack with using a different acceleration controller.\n",
    "\n",
    "All other arguments remain unchanged from Part 1 except for the `name` and `vehicles` argument."
   ]
  },
  {
   "cell_type": "code",
   "execution_count": 1,
   "metadata": {},
   "outputs": [
    {
     "ename": "NameError",
     "evalue": "name 'VehicleParams' is not defined",
     "output_type": "error",
     "traceback": [
      "\u001b[0;31m---------------------------------------------------------------------------\u001b[0m",
      "\u001b[0;31mNameError\u001b[0m                                 Traceback (most recent call last)",
      "\u001b[0;32m/var/folders/4p/73_pjg656w79jqf6r4xcpsbm0000gn/T/ipykernel_93569/2231671123.py\u001b[0m in \u001b[0;36m<module>\u001b[0;34m\u001b[0m\n\u001b[1;32m      3\u001b[0m \u001b[0;34m\u001b[0m\u001b[0m\n\u001b[1;32m      4\u001b[0m \u001b[0;31m# Reinstantiate the VehicleParams object\u001b[0m\u001b[0;34m\u001b[0m\u001b[0;34m\u001b[0m\u001b[0;34m\u001b[0m\u001b[0m\n\u001b[0;32m----> 5\u001b[0;31m \u001b[0mvehicles\u001b[0m \u001b[0;34m=\u001b[0m \u001b[0mVehicleParams\u001b[0m\u001b[0;34m(\u001b[0m\u001b[0;34m)\u001b[0m\u001b[0;34m\u001b[0m\u001b[0;34m\u001b[0m\u001b[0m\n\u001b[0m\u001b[1;32m      6\u001b[0m \u001b[0;34m\u001b[0m\u001b[0m\n\u001b[1;32m      7\u001b[0m \u001b[0;31m# Add 19 normal human drivers\u001b[0m\u001b[0;34m\u001b[0m\u001b[0;34m\u001b[0m\u001b[0;34m\u001b[0m\u001b[0m\n",
      "\u001b[0;31mNameError\u001b[0m: name 'VehicleParams' is not defined"
     ]
    }
   ],
   "source": [
    "import os\n",
    "from Adversaries.controllers.car_following_adversarial import ACC_Switched_Controller_Attacked_Single\n",
    "\n",
    "# Reinstantiate the VehicleParams object\n",
    "vehicles = VehicleParams()\n",
    "\n",
    "# Add 19 normal human drivers\n",
    "num_human_drivers = 19\n",
    "\n",
    "vehicles.add(\"human\",\n",
    "             acceleration_controller=(IDMController, {'noise':0.1}),\n",
    "             routing_controller=(ContinuousRouter, {}),\n",
    "             num_vehicles=num_human_drivers)\n",
    "\n",
    "\n",
    "# Configure ACC vecicle executing a randomized deceleration event(RDA).\n",
    "attack_duration = 10 # How long the vehicle will slow down for.\n",
    "attack_magnitude = -5 # In m/s^2 how strong the braking event is.\n",
    "adversary_ACC_controller = (ACC_Switched_Controller_Attacked_Single,{\n",
    "    'warmup_steps': 500,\n",
    "    'distance_threshold_max': 800,\n",
    "    'Total_Attack_Duration': attack_duration,\n",
    "    'attack_decel_rate': attack_magnitude,\n",
    "    'display_attack_info': False,\n",
    "    'V_m': 15.0})\n",
    "\n",
    "vehicles.add(\"AV_Adv\",\n",
    "             acceleration_controller=adversary_ACC_controller,\n",
    "             routing_controller=(ContinuousRouter, {}),\n",
    "             num_vehicles=1)\n",
    "\n",
    "name = 'ring_with_attack'\n",
    "\n",
    "# Re-compile all simulation parameters as a dictionary:\n",
    "flow_params = dict(\n",
    "    exp_tag=name,\n",
    "    veh=vehicles,\n",
    "    net=net_params,\n",
    "    initial=initial_config,\n",
    "    tls=traffic_lights,\n",
    "    network=RingNetwork,\n",
    "    simulator=sim,\n",
    "    sim=sim_params,\n",
    "    env_name=AccelEnv,\n",
    "    env=env_params\n",
    ")\n",
    "\n",
    "# number of time steps\n",
    "flow_params['env'].horizon = sim_horizon\n",
    "exp = Experiment(flow_params)\n",
    "\n",
    "print('Simulation ready.')             "
   ]
  },
  {
   "cell_type": "markdown",
   "metadata": {},
   "source": [
    "Now we execute the simulation and visualize the results:"
   ]
  },
  {
   "cell_type": "code",
   "execution_count": null,
   "metadata": {},
   "outputs": [],
   "source": [
    "sim_res_list = exp.run(1, convert_to_csv=True)\n",
    "print('Simulation complete.')\n",
    "\n",
    "emission_location = os.path.join(os.getcwd(),sim_res_list[1])\n",
    "visualize_ring.make_ring_spacetime_fig(csv_path = emission_location)"
   ]
  },
  {
   "cell_type": "markdown",
   "metadata": {},
   "source": [
    "The attack, which happens around position 150, and time 120, first brings traffic to a stand-still and subsequently creates a travelling wave of larger magnitude than the un-attacked traffic."
   ]
  },
  {
   "cell_type": "markdown",
   "metadata": {},
   "source": [
    "## Bibliography\n",
    "[1] Sugiyama, Yuki, et al. \"Traffic jams without bottlenecks—experimental evidence for the physical mechanism of the formation of a jam.\" New journal of physics 10.3 (2008): 033001.\n",
    "\n",
    "[2] Treiber, Martin, Ansgar Hennecke, and Dirk Helbing. \"Congested traffic states in empirical observations and microscopic simulations.\" Physical review E 62.2 (2000): 1805."
   ]
  }
 ],
 "metadata": {
  "kernelspec": {
   "display_name": "Python 3 (ipykernel)",
   "language": "python",
   "name": "python3"
  },
  "language_info": {
   "codemirror_mode": {
    "name": "ipython",
    "version": 3
   },
   "file_extension": ".py",
   "mimetype": "text/x-python",
   "name": "python",
   "nbconvert_exporter": "python",
   "pygments_lexer": "ipython3",
   "version": "3.7.3"
  },
  "widgets": {
   "state": {},
   "version": "1.1.2"
  }
 },
 "nbformat": 4,
 "nbformat_minor": 1
}
