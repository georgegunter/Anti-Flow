{
 "cells": [
  {
   "cell_type": "markdown",
   "metadata": {},
   "source": [
    "# Tutorial 01: Running Sumo Simulations\n",
    "\n",
    "This tutorial walks a reader through setting up a simulation environment, initializing an attacking model, and subsequently running a simulation to understand the behavior of the simulation."
   ]
  },
  {
   "cell_type": "markdown",
   "metadata": {},
   "source": [
    "## Initialize the simulation environment: The Ring Road\n",
    "\n",
    "\n",
    "We will beging with one of the simplest traffic simulation environments, the ringroad. On a ring, a finite number of vehicles following one another. First, we must import the proper network file, in this case `RingNetwork`:"
   ]
  },
  {
   "cell_type": "code",
   "execution_count": 1,
   "metadata": {},
   "outputs": [],
   "source": [
    "from flow.networks.ring import RingNetwork"
   ]
  },
  {
   "cell_type": "markdown",
   "metadata": {},
   "source": [
    "This network, as well as all other networks in Flow/Anti-Flow, is parametrized by the following arguments: \n",
    "* name\n",
    "* vehicles\n",
    "* net_params\n",
    "* initial_config\n",
    "* traffic_lights\n",
    "\n",
    "The following code shows how to initialize these quantities:"
   ]
  },
  {
   "cell_type": "code",
   "execution_count": 5,
   "metadata": {},
   "outputs": [
    {
     "name": "stdout",
     "output_type": "stream",
     "text": [
      "Imports succesful.\n",
      "273.0\n"
     ]
    }
   ],
   "source": [
    "#Import different needed quantities:\n",
    "from flow.core.params import VehicleParams\n",
    "from flow.controllers.car_following_models import IDMController #Human driving model\n",
    "from flow.controllers.routing_controllers import ContinuousRouter #Router that keeps vehicles on the ring-road\n",
    "from flow.networks.ring import ADDITIONAL_NET_PARAMS\n",
    "from flow.core.params import NetParams\n",
    "from flow.core.params import InitialConfig\n",
    "from flow.core.params import TrafficLightParams\n",
    "from flow.envs.ring.accel import AccelEnv\n",
    "from flow.envs.ring.accel import ADDITIONAL_ENV_PARAMS\n",
    "from flow.core.params import SumoParams\n",
    "from flow.core.params import EnvParams\n",
    "from flow.core.experiment import Experiment\n",
    "\n",
    "print('Imports succesful.')"
   ]
  },
  {
   "cell_type": "markdown",
   "metadata": {},
   "source": [
    "We now use the above imported objects to set up out simulation environemnt:"
   ]
  },
  {
   "cell_type": "code",
   "execution_count": 12,
   "metadata": {},
   "outputs": [
    {
     "name": "stdout",
     "output_type": "stream",
     "text": [
      "Simulation ready.\n"
     ]
    }
   ],
   "source": [
    "#Simulation parameters:\n",
    "time_step = 0.1 #In seconds, how far each step of the simulation goes.\n",
    "ring_length = 300 #The diameter of the ring-road\n",
    "emission_path = 'data' #Where\n",
    "want_render = True #If we want SUMO to render the environment and display the simulation.\n",
    "sim_horizon = 3000 #How many simulation steps will be taken -> Runs for 300 seconds\n",
    "\n",
    "#initialize the simulation using above parameters:\n",
    "traffic_lights = TrafficLightParams() #This is empty, so no traffic lights are used.\n",
    "initial_config = InitialConfig(spacing=\"uniform\", perturbation=1) #Vehicles start out evenly spaced.\n",
    "vehicles = VehicleParams() #The vehicles object will store different classes of drivers:\n",
    "sim_params = SumoParams(sim_step=time_step, render=want_render, emission_path=emission_path) #Sets the simulation time-step and where data will be recorded.\n",
    "env_params = EnvParams(additional_params=ADDITIONAL_ENV_PARAMS)\n",
    "net_params = NetParams(additional_params={'length':ring_length,\n",
    "                                          'lanes':1,\n",
    "                                          'speed_limit': 30,\n",
    "                                          'resolution': 40})\n",
    "\n",
    "#Specify how human driven vehicles will drive:\n",
    "num_human_drivers = 30\n",
    "vehicles.add(\"human\",\n",
    "             acceleration_controller=(IDMController, {}),\n",
    "             routing_controller=(ContinuousRouter, {}),\n",
    "             num_vehicles=num_human_drivers)\n",
    "\n",
    "\n",
    "#initialize the simulation:\n",
    "flow_params = dict(\n",
    "    exp_tag='ring_no_attack',\n",
    "    env_name=AccelEnv,\n",
    "    network=RingNetwork,\n",
    "    simulator='traci',\n",
    "    sim=sim_params,\n",
    "    env=env_params,\n",
    "    net=net_params,\n",
    "    veh=vehicles,\n",
    "    initial=initial_config,\n",
    "    tls=traffic_lights,\n",
    ")\n",
    "\n",
    "# number of time steps\n",
    "flow_params['env'].horizon = sim_horizon\n",
    "exp = Experiment(flow_params)\n",
    "print('Simulation ready.')\n"
   ]
  },
  {
   "cell_type": "markdown",
   "metadata": {},
   "source": [
    "Let's now run a simulation which doesn't have any malicious vehicles, and only human drivers:"
   ]
  },
  {
   "cell_type": "code",
   "execution_count": 13,
   "metadata": {
    "scrolled": true
   },
   "outputs": [
    {
     "name": "stdout",
     "output_type": "stream",
     "text": [
      "Round 0, return: 1040.3924964076814\n",
      "data/ring_no_attack_20211215-0906521639580812.867135-0_emission.csv data\n",
      "Average, std returns: 1040.3924964076814, 0.0\n",
      "Average, std velocities: 3.4754782004447096, 0.0\n",
      "Average, std outflows: 0.0, 0.0\n",
      "Total time: 37.268765926361084\n",
      "steps/second: 141.23887210524086\n"
     ]
    }
   ],
   "source": [
    "#Run the simulation and save the data:\n",
    "_ = exp.run(1, convert_to_csv=True)"
   ]
  },
  {
   "cell_type": "markdown",
   "metadata": {},
   "source": [
    "## Visualize simulation results:\n",
    "\n",
    "First, we need to find the path to the experiment that was just run, which is stored in the exp object. Plotting tools for visualizing the traffic can then be used, which are found in flow\\visualize"
   ]
  },
  {
   "cell_type": "code",
   "execution_count": 20,
   "metadata": {},
   "outputs": [
    {
     "name": "stdout",
     "output_type": "stream",
     "text": [
      "data/ring_no_attack_20211215-0906521639580812.867135\n"
     ]
    }
   ],
   "source": [
    "import os\n",
    "from flow.visualize.visualize_ring import make_ring_spacetime_fig\n",
    "\n",
    "emission_location = os.path.join(exp.env.sim_params.emission_path, exp.env.network.name)\n",
    "print(emission_location)\n",
    "\n"
   ]
  },
  {
   "cell_type": "markdown",
   "metadata": {},
   "source": [
    "## Introduce an attacker:\n",
    "\n",
    "Here we use the compromised model for an ACC which executes a randomized deceleration event (RDA). A single ACC vehicle is defined which has a given attack mangitude and duration. The attacker waits for either 50 seconds, or to travel 900 m before it executes its attack, and the attack is only executed once."
   ]
  },
  {
   "cell_type": "code",
   "execution_count": null,
   "metadata": {},
   "outputs": [],
   "source": [
    "from flow.controllers.adversarial_car_following_model import ACC_Switched_Controller_Attacked_Single\n",
    "\n",
    "attack_duration = 10\n",
    "attack_magnitude = -1.5\n",
    "adversary_ACC_controller = (ACC_Switched_Controller_Attacked_Single,{\n",
    "    'warmup_steps':50,\n",
    "    'distance_threshold_max':910,\n",
    "    'Total_Attack_Duration':attack_duration,\n",
    "    'attack_decel_rate':attack_magnitude,\n",
    "    'display_attack_info':display_attack_info,\n",
    "    'V_m':15.0})\n",
    "\n",
    "# Reinstantiate which vehicles are  being run:\n",
    "vehicles = VehicleParams()\n"
   ]
  },
  {
   "cell_type": "code",
   "execution_count": null,
   "metadata": {
    "scrolled": true
   },
   "outputs": [],
   "source": [
    "import pandas as pd\n",
    "\n",
    "pd.read_csv(emission_location + '-emission.csv')"
   ]
  },
  {
   "cell_type": "markdown",
   "metadata": {},
   "source": [
    "As you can see, each row contains vehicle information for a certain vehicle (specified under the *id* column) at a certain time (specified under the *time* column). These information can then be used to plot various representations of the simulation, examples of which can be found in the `flow/visualize` folder."
   ]
  },
  {
   "cell_type": "markdown",
   "metadata": {},
   "source": [
    "## 6. Modifying the Simulation\n",
    "This tutorial has walked you through running a single lane ring road experiment in Flow. As we have mentioned before, these simulations are highly parametrizable. This allows us to try different representations of the task. For example, what happens if no initial perturbations are introduced to the system of homogenous human-driven vehicles?\n",
    "\n",
    "```\n",
    "initial_config = InitialConfig()\n",
    "```\n",
    "\n",
    "In addition, how does the task change in the presence of multiple lanes where vehicles can overtake one another?\n",
    "\n",
    "```\n",
    "net_params = NetParams(\n",
    "    additional_params={\n",
    "        'length': 230, \n",
    "        'lanes': 2, \n",
    "        'speed_limit': 30, \n",
    "        'resolution': 40\n",
    "    }\n",
    ")\n",
    "```\n",
    "\n",
    "Feel free to experiment with all these problems and more!\n",
    "\n",
    "## Bibliography\n",
    "[1] Sugiyama, Yuki, et al. \"Traffic jams without bottlenecks—experimental evidence for the physical mechanism of the formation of a jam.\" New journal of physics 10.3 (2008): 033001.\n",
    "\n",
    "[2] Treiber, Martin, Ansgar Hennecke, and Dirk Helbing. \"Congested traffic states in empirical observations and microscopic simulations.\" Physical review E 62.2 (2000): 1805."
   ]
  },
  {
   "cell_type": "code",
   "execution_count": null,
   "metadata": {},
   "outputs": [],
   "source": []
  }
 ],
 "metadata": {
  "kernelspec": {
   "display_name": "Python 3",
   "language": "python",
   "name": "python3"
  },
  "language_info": {
   "codemirror_mode": {
    "name": "ipython",
    "version": 3
   },
   "file_extension": ".py",
   "mimetype": "text/x-python",
   "name": "python",
   "nbconvert_exporter": "python",
   "pygments_lexer": "ipython3",
   "version": "3.7.6"
  },
  "widgets": {
   "state": {},
   "version": "1.1.2"
  }
 },
 "nbformat": 4,
 "nbformat_minor": 1
}
