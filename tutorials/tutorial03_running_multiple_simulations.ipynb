{
 "cells": [
  {
   "cell_type": "markdown",
   "id": "e8da8951",
   "metadata": {},
   "source": [
    "# Tutorial 03: Running multiple simulations\n",
    "\n",
    "In tutorials 1 and 2 we've seen how to initialize a simulation and run a single instance, and how to design an adversarial agent to degrade the traffic flow. In this tutorial we will look at setting up running a set of simulations, which allows us to vary different paremeters of interest."
   ]
  },
  {
   "cell_type": "markdown",
   "id": "6d4c8329",
   "metadata": {},
   "source": [
    "First, let's re-import the quantities needed from Flow that we used in tutorial 1 to run a ring-road environment. These will be re-usable across different pieces of code we write subsequently."
   ]
  },
  {
   "cell_type": "code",
   "execution_count": 1,
   "id": "730d2db3",
   "metadata": {},
   "outputs": [
    {
     "name": "stdout",
     "output_type": "stream",
     "text": [
      "Imports succesful.\n"
     ]
    }
   ],
   "source": [
    "#Import different needed quantities:\n",
    "from flow.networks.ring import RingNetwork\n",
    "from flow.core.params import VehicleParams\n",
    "from flow.controllers.car_following_models import IDMController #Human driving model\n",
    "from flow.controllers.routing_controllers import ContinuousRouter #Router that keeps vehicles on the ring-road\n",
    "from flow.networks.ring import ADDITIONAL_NET_PARAMS\n",
    "from flow.core.params import NetParams\n",
    "from flow.core.params import InitialConfig\n",
    "from flow.core.params import TrafficLightParams\n",
    "from flow.envs.ring.accel import AccelEnv\n",
    "from flow.envs.ring.accel import ADDITIONAL_ENV_PARAMS\n",
    "from flow.core.params import SumoParams\n",
    "from flow.core.params import EnvParams\n",
    "from flow.core.experiment import Experiment\n",
    "\n",
    "print('Imports succesful.')"
   ]
  },
  {
   "cell_type": "markdown",
   "id": "79ab35d3",
   "metadata": {},
   "source": [
    "Next, let's take the code that we used to instantiate and run a simulation, but wrap it inside of a function this time. Additionally, let's pass an argument to the function which sets the length of the ring to a custom value:"
   ]
  },
  {
   "cell_type": "code",
   "execution_count": 2,
   "id": "3dbf6275",
   "metadata": {},
   "outputs": [
    {
     "name": "stdout",
     "output_type": "stream",
     "text": [
      "Simulation function defined.\n"
     ]
    }
   ],
   "source": [
    "def run_ring_sim_no_attack(ring_length):\n",
    "    #Simulation parameters:\n",
    "    time_step = 0.1 #In seconds, how far each step of the simulation goes.\n",
    "    emission_path = 'data' #Where\n",
    "    want_render = False #If we want SUMO to render the environment and display the simulation.\n",
    "    sim_horizon = 5000 #How many simulation steps will be taken -> Runs for 300 seconds\n",
    "\n",
    "    #initialize the simulation using above parameters:\n",
    "    traffic_lights = TrafficLightParams() #This is empty, so no traffic lights are used.\n",
    "    initial_config = InitialConfig(spacing=\"uniform\", perturbation=1) #Vehicles start out evenly spaced.\n",
    "    vehicles = VehicleParams() #The vehicles object will store different classes of drivers:\n",
    "    sim_params = SumoParams(sim_step=time_step, render=want_render, emission_path=emission_path) #Sets the simulation time-step and where data will be recorded.\n",
    "    env_params = EnvParams(additional_params=ADDITIONAL_ENV_PARAMS)\n",
    "    net_params = NetParams(additional_params={'length':ring_length,\n",
    "                                              'lanes':1,\n",
    "                                              'speed_limit': 30,\n",
    "                                              'resolution': 40})\n",
    "\n",
    "    #Specify how human driven vehicles will drive:\n",
    "    num_human_drivers = 20\n",
    "    # Define a driver model human drivers:\n",
    "    vehicles.add(\"human\",\n",
    "                 acceleration_controller=(IDMController, {'noise':0.1}),\n",
    "                 routing_controller=(ContinuousRouter, {}),\n",
    "                 num_vehicles=num_human_drivers)\n",
    "\n",
    "\n",
    "    #initialize the simulation:\n",
    "    flow_params = dict(\n",
    "        exp_tag='ring_no_attack',\n",
    "        env_name=AccelEnv,\n",
    "        network=RingNetwork,\n",
    "        simulator='traci',\n",
    "        sim=sim_params,\n",
    "        env=env_params,\n",
    "        net=net_params,\n",
    "        veh=vehicles,\n",
    "        initial=initial_config,\n",
    "        tls=traffic_lights,\n",
    "    )\n",
    "\n",
    "    flow_params['env'].horizon = sim_horizon\n",
    "    exp = Experiment(flow_params)\n",
    "    print('Running ring simulation, ring length: '+str(ring_length))\n",
    "    \n",
    "    sim_res_list = exp.run(1, convert_to_csv=True)\n",
    "    \n",
    "    return sim_res_list\n",
    "\n",
    "print('Simulation function defined.')\n"
   ]
  },
  {
   "cell_type": "markdown",
   "id": "3aa904a9",
   "metadata": {},
   "source": [
    "Let's run a brief test to make sure it's working:"
   ]
  },
  {
   "cell_type": "code",
   "execution_count": 3,
   "id": "f5930f48",
   "metadata": {},
   "outputs": [
    {
     "name": "stdout",
     "output_type": "stream",
     "text": [
      "Running ring simulation, ring length: 500\n"
     ]
    },
    {
     "name": "stderr",
     "output_type": "stream",
     "text": [
      "/opt/anaconda3/envs/anti_flow/lib/python3.7/site-packages/numpy/core/fromnumeric.py:3441: RuntimeWarning: Mean of empty slice.\n",
      "  out=out, **kwargs)\n",
      "/opt/anaconda3/envs/anti_flow/lib/python3.7/site-packages/numpy/core/_methods.py:189: RuntimeWarning: invalid value encountered in double_scalars\n",
      "  ret = ret.dtype.type(ret / rcount)\n"
     ]
    },
    {
     "name": "stdout",
     "output_type": "stream",
     "text": [
      "Round 0, Return: 1882.529515066409\n",
      "data/ring_no_attack_20221013-1221531665681713.6337762-0_emission.csv data\n",
      "Average, std velocities: 16.016635864398133, 0.0\n",
      "Average, std outflows: 0.0, 0.0\n",
      "Average, std avg_trip_energy: nan, nan\n",
      "Average, std avg_trip_time: nan, nan\n",
      "Average, std total_completed_trips: 0.0, 0.0\n",
      "Average, std returns: 1882.529515066409, 0.0\n",
      "Total time: 28.090137004852295\n",
      "steps/second: 207.97805583698977\n"
     ]
    }
   ],
   "source": [
    "ring_length = 500\n",
    "sim_res_list = run_ring_sim_no_attack(ring_length)"
   ]
  },
  {
   "cell_type": "markdown",
   "id": "9cfba635",
   "metadata": {},
   "source": [
    "run_ring_sim_no_attack(ring_length) runs a ring simulation using the IDM cfm with a custom ring_length and returns the simulation results, which includes the path to the data file generated. Let's write one more function to extract quantities of interest from a simulation."
   ]
  },
  {
   "cell_type": "code",
   "execution_count": 7,
   "id": "1719a921",
   "metadata": {},
   "outputs": [
    {
     "name": "stdout",
     "output_type": "stream",
     "text": [
      "Simulation results function defined.\n"
     ]
    }
   ],
   "source": [
    "import os\n",
    "import numpy as np\n",
    "import flow.visualize.visualize_ring as visualize_ring\n",
    "\n",
    "def get_sim_results(sim_res_list):\n",
    "    emission_path = os.path.join(os.getcwd(),sim_res_list[1])\n",
    "    timeseries_dict = visualize_ring.get_sim_timeseries(csv_path = emission_path)\n",
    "    \n",
    "    speeds = []\n",
    "    for veh_id in timeseries_dict:\n",
    "        speed = timeseries_dict[veh_id][:,1]\n",
    "        \n",
    "        #Select the last half of the simulation:\n",
    "        speeds.append(speed[3000:])\n",
    "        \n",
    "    speeds = np.array(speeds)\n",
    "    \n",
    "    mean_speed = np.mean(speeds)\n",
    "    std_speed = np.std(speeds)\n",
    "    \n",
    "    return [mean_speed,std_speed]\n",
    "\n",
    "print('Simulation results function defined.')"
   ]
  },
  {
   "cell_type": "markdown",
   "id": "b913b0cd",
   "metadata": {},
   "source": [
    "Let's now look the affect that sweeping across different ring lengths will have on the different quantities of interest. Fair warning: On my Quad-Core Intel Core i5 MacBook this took 145.5 seconds to run."
   ]
  },
  {
   "cell_type": "code",
   "execution_count": 8,
   "id": "21aeae9d",
   "metadata": {
    "scrolled": true
   },
   "outputs": [
    {
     "name": "stdout",
     "output_type": "stream",
     "text": [
      "Running ring simulation, ring length: 300\n"
     ]
    },
    {
     "name": "stderr",
     "output_type": "stream",
     "text": [
      "/opt/anaconda3/envs/anti_flow/lib/python3.7/site-packages/numpy/core/fromnumeric.py:3441: RuntimeWarning: Mean of empty slice.\n",
      "  out=out, **kwargs)\n",
      "/opt/anaconda3/envs/anti_flow/lib/python3.7/site-packages/numpy/core/_methods.py:189: RuntimeWarning: invalid value encountered in double_scalars\n",
      "  ret = ret.dtype.type(ret / rcount)\n"
     ]
    },
    {
     "name": "stdout",
     "output_type": "stream",
     "text": [
      "Round 0, Return: 3697.25421196718\n",
      "data/ring_no_attack_20221013-1325101665685510.947139-0_emission.csv data\n",
      "Average, std velocities: 7.411664202861801, 0.0\n",
      "Average, std outflows: 0.0, 0.0\n",
      "Average, std avg_trip_energy: nan, nan\n",
      "Average, std avg_trip_time: nan, nan\n",
      "Average, std total_completed_trips: 0.0, 0.0\n",
      "Average, std returns: 3697.25421196718, 0.0\n",
      "Total time: 26.096654176712036\n",
      "steps/second: 223.75874506697804\n",
      "Running ring simulation, ring length: 400\n"
     ]
    },
    {
     "name": "stderr",
     "output_type": "stream",
     "text": [
      "/opt/anaconda3/envs/anti_flow/lib/python3.7/site-packages/numpy/core/fromnumeric.py:3441: RuntimeWarning: Mean of empty slice.\n",
      "  out=out, **kwargs)\n",
      "/opt/anaconda3/envs/anti_flow/lib/python3.7/site-packages/numpy/core/_methods.py:189: RuntimeWarning: invalid value encountered in double_scalars\n",
      "  ret = ret.dtype.type(ret / rcount)\n"
     ]
    },
    {
     "name": "stdout",
     "output_type": "stream",
     "text": [
      "Round 0, Return: 3854.6802558997642\n",
      "data/ring_no_attack_20221013-1325381665685538.237015-0_emission.csv data\n",
      "Average, std velocities: 12.04906902754506, 0.0\n",
      "Average, std outflows: 0.0, 0.0\n",
      "Average, std avg_trip_energy: nan, nan\n",
      "Average, std avg_trip_time: nan, nan\n",
      "Average, std total_completed_trips: 0.0, 0.0\n",
      "Average, std returns: 3854.6802558997642, 0.0\n",
      "Total time: 27.316837310791016\n",
      "steps/second: 210.34852381472112\n",
      "Running ring simulation, ring length: 500\n"
     ]
    },
    {
     "name": "stderr",
     "output_type": "stream",
     "text": [
      "/opt/anaconda3/envs/anti_flow/lib/python3.7/site-packages/numpy/core/fromnumeric.py:3441: RuntimeWarning: Mean of empty slice.\n",
      "  out=out, **kwargs)\n",
      "/opt/anaconda3/envs/anti_flow/lib/python3.7/site-packages/numpy/core/_methods.py:189: RuntimeWarning: invalid value encountered in double_scalars\n",
      "  ret = ret.dtype.type(ret / rcount)\n"
     ]
    },
    {
     "name": "stdout",
     "output_type": "stream",
     "text": [
      "Round 0, Return: 1882.365418398336\n",
      "data/ring_no_attack_20221013-1326061665685566.674392-0_emission.csv data\n",
      "Average, std velocities: 16.017291296448438, 0.0\n",
      "Average, std outflows: 0.0, 0.0\n",
      "Average, std avg_trip_energy: nan, nan\n",
      "Average, std avg_trip_time: nan, nan\n",
      "Average, std total_completed_trips: 0.0, 0.0\n",
      "Average, std returns: 1882.365418398336, 0.0\n",
      "Total time: 27.997246980667114\n",
      "steps/second: 209.3825649734363\n",
      "Running ring simulation, ring length: 600\n"
     ]
    },
    {
     "name": "stderr",
     "output_type": "stream",
     "text": [
      "/opt/anaconda3/envs/anti_flow/lib/python3.7/site-packages/numpy/core/fromnumeric.py:3441: RuntimeWarning: Mean of empty slice.\n",
      "  out=out, **kwargs)\n",
      "/opt/anaconda3/envs/anti_flow/lib/python3.7/site-packages/numpy/core/_methods.py:189: RuntimeWarning: invalid value encountered in double_scalars\n",
      "  ret = ret.dtype.type(ret / rcount)\n"
     ]
    },
    {
     "name": "stdout",
     "output_type": "stream",
     "text": [
      "Round 0, Return: 383.8880724732006\n",
      "data/ring_no_attack_20221013-1326351665685595.796041-0_emission.csv data\n",
      "Average, std velocities: 19.022038461734237, 0.0\n",
      "Average, std outflows: 0.0, 0.0\n",
      "Average, std avg_trip_energy: nan, nan\n",
      "Average, std avg_trip_time: nan, nan\n",
      "Average, std total_completed_trips: 0.0, 0.0\n",
      "Average, std returns: 383.8880724732006, 0.0\n",
      "Total time: 31.682814121246338\n",
      "steps/second: 190.04596504341882\n",
      "Running ring simulation, ring length: 700\n"
     ]
    },
    {
     "name": "stderr",
     "output_type": "stream",
     "text": [
      "/opt/anaconda3/envs/anti_flow/lib/python3.7/site-packages/numpy/core/fromnumeric.py:3441: RuntimeWarning: Mean of empty slice.\n",
      "  out=out, **kwargs)\n",
      "/opt/anaconda3/envs/anti_flow/lib/python3.7/site-packages/numpy/core/_methods.py:189: RuntimeWarning: invalid value encountered in double_scalars\n",
      "  ret = ret.dtype.type(ret / rcount)\n"
     ]
    },
    {
     "name": "stdout",
     "output_type": "stream",
     "text": [
      "Round 0, Return: 131.01522457977103\n",
      "data/ring_no_attack_20221013-1327081665685628.62213-0_emission.csv data\n",
      "Average, std velocities: 21.109143420204585, 0.0\n",
      "Average, std outflows: 0.0, 0.0\n",
      "Average, std avg_trip_energy: nan, nan\n",
      "Average, std avg_trip_time: nan, nan\n",
      "Average, std total_completed_trips: 0.0, 0.0\n",
      "Average, std returns: 131.01522457977103, 0.0\n",
      "Total time: 26.7463321685791\n",
      "steps/second: 214.5205479343496\n",
      "Data loaded, total time: 0.9110450744628906\n",
      "Data loaded, total time: 0.9330649375915527\n",
      "Data loaded, total time: 0.832798957824707\n",
      "Data loaded, total time: 0.9361178874969482\n",
      "Data loaded, total time: 0.800548791885376\n",
      "Total computation time: 149.98385190963745\n"
     ]
    }
   ],
   "source": [
    "import time\n",
    "\n",
    "begin_compute_time = time.time()\n",
    "\n",
    "ring_length_values = [300,400,500,600,700] #Different ring lengths\n",
    "sim_res_values = [] #Where sim_res_list is stored\n",
    "for ring_length in ring_length_values:\n",
    "    sim_res_list = run_ring_sim_no_attack(ring_length)\n",
    "    sim_res_values.append(sim_res_list)\n",
    "\n",
    "# Get quantities of interest from each simulation:\n",
    "ring_length_sim_sweep_results = []\n",
    "for sim_res_list in sim_res_values:\n",
    "    ring_length_sim_sweep_results.append(get_sim_results(sim_res_list))\n",
    "ring_length_sim_sweep_results = np.array(ring_length_sim_sweep_results)\n",
    "\n",
    "end_compute_time = time.time()\n",
    "print('Total computation time: '+str(end_compute_time-begin_compute_time))\n",
    "\n"
   ]
  },
  {
   "cell_type": "markdown",
   "id": "58cb40e8",
   "metadata": {},
   "source": [
    "Let's plot the results now to visualize:"
   ]
  },
  {
   "cell_type": "code",
   "execution_count": 9,
   "id": "07b84169",
   "metadata": {},
   "outputs": [
    {
     "data": {
      "image/png": "[encoded data removed]",
      "text/plain": [
       "<Figure size 1080x720 with 2 Axes>"
      ]
     },
     "metadata": {
      "needs_background": "light"
     },
     "output_type": "display_data"
    }
   ],
   "source": [
    "import matplotlib.pyplot as plt\n",
    "fontsize=15\n",
    "markersize=15\n",
    "\n",
    "plt.figure(figsize=[15,10])\n",
    "plt.subplot(2,1,1)\n",
    "plt.plot(ring_length_values,ring_length_sim_sweep_results[:,0],'.',markersize=markersize)\n",
    "plt.ylabel('Mean speed [m/s]',fontsize=fontsize)\n",
    "plt.grid()\n",
    "plt.subplot(2,1,2)\n",
    "plt.plot(ring_length_values,ring_length_sim_sweep_results[:,1],'.',markersize=markersize)\n",
    "plt.ylabel('Speed standard dev. [m/s]',fontsize=fontsize)\n",
    "plt.grid()"
   ]
  },
  {
   "cell_type": "markdown",
   "id": "1788546e",
   "metadata": {},
   "source": [
    "In the context of Anti-Flow one of the most important pieces of analysis is understanding how different instances of an attack model can affect a traffic flow. Let's now look at the attack model introduced in tutorial_02. This controller had effectively 3 parameters: v_des, braking_rate, and braking_period. Let's investigate the effect that varying v_des has on the traffic flow.\n",
    "\n",
    "First, we redefine the control model:"
   ]
  },
  {
   "cell_type": "code",
   "execution_count": 12,
   "id": "2dcd05fa",
   "metadata": {},
   "outputs": [
    {
     "name": "stdout",
     "output_type": "stream",
     "text": [
      "Adversarial AV initialized.\n"
     ]
    }
   ],
   "source": [
    "from Adversaries.controllers.base_controller import BaseController\n",
    "\n",
    "class cfm_adversarial(BaseController):\n",
    "    def __init__(self,\n",
    "                 veh_id,\n",
    "                 car_following_params,\n",
    "                 delay=0.0,\n",
    "                 noise=0.0,\n",
    "                 fail_safe=None,\n",
    "                 v_des=10.0,\n",
    "                 braking_period = 5.0,\n",
    "                 braking_rate = - 2.0):\n",
    "        #Inherit the base controller:\n",
    "        BaseController.__init__(\n",
    "            self,\n",
    "            veh_id,\n",
    "            car_following_params,\n",
    "            delay=delay,\n",
    "            fail_safe=fail_safe,\n",
    "            noise=noise)\n",
    "        \n",
    "        self.braking_period = braking_period #How long the mAV brakes for\n",
    "        self.braking_rate = braking_rate #How hard the mAV brakes\n",
    "        self.curr_braking_period = 0.0 #Keeps track of braking\n",
    "        self.is_braking = False #Whether or not engaged in braking\n",
    "        self.v_des = v_des #If not braking, what speed the mAV tries to drive at\n",
    "                \n",
    "    def get_accel(self, env):\n",
    "        lead_id = env.k.vehicle.get_leader(self.veh_id) #Who is the leader\n",
    "        v_l = env.k.vehicle.get_speed(lead_id) #Leader speed\n",
    "        v = env.k.vehicle.get_speed(self.veh_id) #vehicle's own speed\n",
    "        s = env.k.vehicle.get_headway(self.veh_id) #inter-vehicle spacing to leader\n",
    "        u = 0.0\n",
    "        \n",
    "        #If the vehicle gets too close it brakes for a long period of time:\n",
    "        if(s < 5.0):\n",
    "            self.is_braking = True\n",
    "\n",
    "        #Engaged in braking:    \n",
    "        if(self.is_braking):\n",
    "            u = self.braking_rate\n",
    "            self.curr_braking_period += env.sim_step\n",
    "            if(self.curr_braking_period>=self.braking_period):\n",
    "                self.curr_braking_period = 0.0\n",
    "                self.is_braking = False\n",
    "                \n",
    "        #Managing speed:\n",
    "        else:\n",
    "            u = 0.1*(self.v_des - v) #Simple proportional speed control\n",
    "            \n",
    "        return u #return the acceleration that is set above.\n",
    "        \n",
    "    def get_custom_accel(self, v, v_l, s):\n",
    "        \"\"\"Leave as 0.0 since behavior has memory\"\"\"\n",
    "        return 0.0\n",
    "    \n",
    "    print('Adversarial AV initialized.')"
   ]
  },
  {
   "cell_type": "markdown",
   "id": "459ec804",
   "metadata": {},
   "source": [
    "Now let's define another simulation function which accepts the different attack model parameters as inputs:"
   ]
  },
  {
   "cell_type": "code",
   "execution_count": 11,
   "id": "f5230d53",
   "metadata": {},
   "outputs": [
    {
     "name": "stdout",
     "output_type": "stream",
     "text": [
      "Attack Simulation function defined.\n"
     ]
    }
   ],
   "source": [
    "def run_ring_sim_with_attack(ring_length=300,\n",
    "                           v_des=10.0,\n",
    "                           braking_period = 10.0,\n",
    "                           braking_rate= -2.0):\n",
    "    #Simulation parameters:\n",
    "    time_step = 0.1 #In seconds, how far each step of the simulation goes.\n",
    "    emission_path = 'data' #Where\n",
    "    want_render = False #If we want SUMO to render the environment and display the simulation.\n",
    "    sim_horizon = 5000 #How many simulation steps will be taken -> Runs for 300 seconds\n",
    "\n",
    "    #initialize the simulation using above parameters:\n",
    "    traffic_lights = TrafficLightParams() #This is empty, so no traffic lights are used.\n",
    "    initial_config = InitialConfig(spacing=\"uniform\", perturbation=1) #Vehicles start out evenly spaced.\n",
    "    vehicles = VehicleParams() #The vehicles object will store different classes of drivers:\n",
    "    sim_params = SumoParams(sim_step=time_step, render=want_render, emission_path=emission_path) #Sets the simulation time-step and where data will be recorded.\n",
    "    env_params = EnvParams(additional_params=ADDITIONAL_ENV_PARAMS)\n",
    "    net_params = NetParams(additional_params={'length':ring_length,\n",
    "                                              'lanes':1,\n",
    "                                              'speed_limit': 30,\n",
    "                                              'resolution': 40})\n",
    "\n",
    "    #Specify how human driven vehicles will drive:\n",
    "    num_human_drivers = 19\n",
    "    # Define a driver model human drivers:\n",
    "    vehicles.add(\"human\",\n",
    "                 acceleration_controller=(IDMController, {'noise':0.1}),\n",
    "                 routing_controller=(ContinuousRouter, {}),\n",
    "                 num_vehicles=num_human_drivers)\n",
    "    \n",
    "    vehicles.add(veh_id=\"Adv_AV\",\n",
    "             color=\"red\", #Let's make the adversary red\n",
    "             acceleration_controller=(cfm_adversarial, {'v_des':v_des,\n",
    "                                                        'braking_rate':braking_rate,\n",
    "                                                        'braking_period':braking_period}),\n",
    "             routing_controller=(ContinuousRouter, {}),\n",
    "             num_vehicles=1)\n",
    "\n",
    "    #initialize the simulation:\n",
    "    flow_params = dict(\n",
    "        exp_tag='ring_with_attack',\n",
    "        env_name=AccelEnv,\n",
    "        network=RingNetwork,\n",
    "        simulator='traci',\n",
    "        sim=sim_params,\n",
    "        env=env_params,\n",
    "        net=net_params,\n",
    "        veh=vehicles,\n",
    "        initial=initial_config,\n",
    "        tls=traffic_lights,\n",
    "    )\n",
    "\n",
    "    flow_params['env'].horizon = sim_horizon\n",
    "    exp = Experiment(flow_params)\n",
    "    print('Running ring attack, v_des: '+str(v_des))\n",
    "    \n",
    "    sim_res_list = exp.run(1, convert_to_csv=True)\n",
    "    \n",
    "    return sim_res_list\n",
    "\n",
    "print('Attack Simulation function defined.')"
   ]
  },
  {
   "cell_type": "markdown",
   "id": "27fbdb88",
   "metadata": {},
   "source": [
    "Let's specifically look at varying v_des:"
   ]
  },
  {
   "cell_type": "code",
   "execution_count": 13,
   "id": "94cd42d2",
   "metadata": {
    "scrolled": true
   },
   "outputs": [
    {
     "name": "stdout",
     "output_type": "stream",
     "text": [
      "Running ring attack, v_des: 1.0\n"
     ]
    },
    {
     "name": "stderr",
     "output_type": "stream",
     "text": [
      "/opt/anaconda3/envs/anti_flow/lib/python3.7/site-packages/numpy/core/fromnumeric.py:3441: RuntimeWarning: Mean of empty slice.\n",
      "  out=out, **kwargs)\n",
      "/opt/anaconda3/envs/anti_flow/lib/python3.7/site-packages/numpy/core/_methods.py:189: RuntimeWarning: invalid value encountered in double_scalars\n",
      "  ret = ret.dtype.type(ret / rcount)\n"
     ]
    },
    {
     "name": "stdout",
     "output_type": "stream",
     "text": [
      "Round 0, Return: 543.7793820449403\n",
      "data/ring_with_attack_20221013-1335101665686110.813246-0_emission.csv data\n",
      "Average, std velocities: 1.1048473478073495, 0.0\n",
      "Average, std outflows: 0.0, 0.0\n",
      "Average, std avg_trip_energy: nan, nan\n",
      "Average, std avg_trip_time: nan, nan\n",
      "Average, std total_completed_trips: 0.0, 0.0\n",
      "Average, std returns: 543.7793820449403, 0.0\n",
      "Total time: 21.62219214439392\n",
      "steps/second: 265.4366957311095\n",
      "Running ring attack, v_des: 3.0\n"
     ]
    },
    {
     "name": "stderr",
     "output_type": "stream",
     "text": [
      "/opt/anaconda3/envs/anti_flow/lib/python3.7/site-packages/numpy/core/fromnumeric.py:3441: RuntimeWarning: Mean of empty slice.\n",
      "  out=out, **kwargs)\n",
      "/opt/anaconda3/envs/anti_flow/lib/python3.7/site-packages/numpy/core/_methods.py:189: RuntimeWarning: invalid value encountered in double_scalars\n",
      "  ret = ret.dtype.type(ret / rcount)\n"
     ]
    },
    {
     "name": "stdout",
     "output_type": "stream",
     "text": [
      "Round 0, Return: 1506.6840453928803\n",
      "data/ring_with_attack_20221013-1335331665686133.648937-0_emission.csv data\n",
      "Average, std velocities: 3.026065167119541, 0.0\n",
      "Average, std outflows: 0.0, 0.0\n",
      "Average, std avg_trip_energy: nan, nan\n",
      "Average, std avg_trip_time: nan, nan\n",
      "Average, std total_completed_trips: 0.0, 0.0\n",
      "Average, std returns: 1506.6840453928803, 0.0\n",
      "Total time: 22.518736839294434\n",
      "steps/second: 253.5295625502634\n",
      "Running ring attack, v_des: 5.0\n"
     ]
    },
    {
     "name": "stderr",
     "output_type": "stream",
     "text": [
      "/opt/anaconda3/envs/anti_flow/lib/python3.7/site-packages/numpy/core/fromnumeric.py:3441: RuntimeWarning: Mean of empty slice.\n",
      "  out=out, **kwargs)\n",
      "/opt/anaconda3/envs/anti_flow/lib/python3.7/site-packages/numpy/core/_methods.py:189: RuntimeWarning: invalid value encountered in double_scalars\n",
      "  ret = ret.dtype.type(ret / rcount)\n"
     ]
    },
    {
     "name": "stdout",
     "output_type": "stream",
     "text": [
      "Round 0, Return: 2469.420941566974\n",
      "data/ring_with_attack_20221013-1335571665686157.283958-0_emission.csv data\n",
      "Average, std velocities: 4.947935151871378, 0.0\n",
      "Average, std outflows: 0.0, 0.0\n",
      "Average, std avg_trip_energy: nan, nan\n",
      "Average, std avg_trip_time: nan, nan\n",
      "Average, std total_completed_trips: 0.0, 0.0\n",
      "Average, std returns: 2469.420941566974, 0.0\n",
      "Total time: 23.68082308769226\n",
      "steps/second: 241.33177334296903\n",
      "Running ring attack, v_des: 7.0\n"
     ]
    },
    {
     "name": "stderr",
     "output_type": "stream",
     "text": [
      "/opt/anaconda3/envs/anti_flow/lib/python3.7/site-packages/numpy/core/fromnumeric.py:3441: RuntimeWarning: Mean of empty slice.\n",
      "  out=out, **kwargs)\n",
      "/opt/anaconda3/envs/anti_flow/lib/python3.7/site-packages/numpy/core/_methods.py:189: RuntimeWarning: invalid value encountered in double_scalars\n",
      "  ret = ret.dtype.type(ret / rcount)\n"
     ]
    },
    {
     "name": "stdout",
     "output_type": "stream",
     "text": [
      "Round 0, Return: 3433.617873462589\n",
      "data/ring_with_attack_20221013-1336221665686182.094209-0_emission.csv data\n",
      "Average, std velocities: 6.872594408808273, 0.0\n",
      "Average, std outflows: 0.0, 0.0\n",
      "Average, std avg_trip_energy: nan, nan\n",
      "Average, std avg_trip_time: nan, nan\n",
      "Average, std total_completed_trips: 0.0, 0.0\n",
      "Average, std returns: 3433.617873462589, 0.0\n",
      "Total time: 25.18258309364319\n",
      "steps/second: 226.59917726623468\n",
      "Running ring attack, v_des: 9.0\n"
     ]
    },
    {
     "name": "stderr",
     "output_type": "stream",
     "text": [
      "/opt/anaconda3/envs/anti_flow/lib/python3.7/site-packages/numpy/core/fromnumeric.py:3441: RuntimeWarning: Mean of empty slice.\n",
      "  out=out, **kwargs)\n",
      "/opt/anaconda3/envs/anti_flow/lib/python3.7/site-packages/numpy/core/_methods.py:189: RuntimeWarning: invalid value encountered in double_scalars\n",
      "  ret = ret.dtype.type(ret / rcount)\n"
     ]
    },
    {
     "name": "stdout",
     "output_type": "stream",
     "text": [
      "Round 0, Return: 3600.1902785706375\n",
      "data/ring_with_attack_20221013-1336481665686208.4023318-0_emission.csv data\n",
      "Average, std velocities: 7.309926425774646, 0.0\n",
      "Average, std outflows: 0.0, 0.0\n",
      "Average, std avg_trip_energy: nan, nan\n",
      "Average, std avg_trip_time: nan, nan\n",
      "Average, std total_completed_trips: 0.0, 0.0\n",
      "Average, std returns: 3600.1902785706375, 0.0\n",
      "Total time: 25.667459964752197\n",
      "steps/second: 221.39268470030754\n",
      "Running ring attack, v_des: 11.0\n"
     ]
    },
    {
     "name": "stderr",
     "output_type": "stream",
     "text": [
      "/opt/anaconda3/envs/anti_flow/lib/python3.7/site-packages/numpy/core/fromnumeric.py:3441: RuntimeWarning: Mean of empty slice.\n",
      "  out=out, **kwargs)\n",
      "/opt/anaconda3/envs/anti_flow/lib/python3.7/site-packages/numpy/core/_methods.py:189: RuntimeWarning: invalid value encountered in double_scalars\n",
      "  ret = ret.dtype.type(ret / rcount)\n"
     ]
    },
    {
     "name": "stdout",
     "output_type": "stream",
     "text": [
      "Round 0, Return: 3613.3170542264115\n",
      "data/ring_with_attack_20221013-1337151665686235.192833-0_emission.csv data\n",
      "Average, std velocities: 7.363327833525624, 0.0\n",
      "Average, std outflows: 0.0, 0.0\n",
      "Average, std avg_trip_energy: nan, nan\n",
      "Average, std avg_trip_time: nan, nan\n",
      "Average, std total_completed_trips: 0.0, 0.0\n",
      "Average, std returns: 3613.3170542264115, 0.0\n",
      "Total time: 25.254554986953735\n",
      "steps/second: 227.38559400589298\n",
      "Data loaded, total time: 0.7837448120117188\n",
      "Data loaded, total time: 0.874377965927124\n",
      "Data loaded, total time: 0.7830288410186768\n",
      "Data loaded, total time: 0.8514690399169922\n",
      "Data loaded, total time: 0.7975637912750244\n",
      "Data loaded, total time: 0.8076918125152588\n",
      "Total computation time: 155.66434001922607\n"
     ]
    }
   ],
   "source": [
    "begin_compute_time = time.time()\n",
    "\n",
    "v_des_vals = [1.0,3.0,5.0,7.0,9.0,11.0] #Different ring lengths\n",
    "sim_res_values = [] #Where sim_res_list is stored\n",
    "for v_des in v_des_vals:\n",
    "    sim_res_list = run_ring_sim_with_attack(v_des=v_des)\n",
    "    sim_res_values.append(sim_res_list)\n",
    "\n",
    "# Get quantities of interest from each simulation:\n",
    "ring_attack_sim_sweep_results = []\n",
    "for sim_res_list in sim_res_values:\n",
    "    ring_attack_sim_sweep_results.append(get_sim_results(sim_res_list))\n",
    "ring_attack_sim_sweep_results = np.array(ring_attack_sim_sweep_results)\n",
    "\n",
    "end_compute_time = time.time()\n",
    "print('Total computation time: '+str(end_compute_time-begin_compute_time))\n"
   ]
  },
  {
   "cell_type": "markdown",
   "id": "c4e24ba2",
   "metadata": {},
   "source": [
    "Again, we can visualize the results of the parameter sweep:"
   ]
  },
  {
   "cell_type": "code",
   "execution_count": 14,
   "id": "4b601746",
   "metadata": {},
   "outputs": [
    {
     "name": "stderr",
     "output_type": "stream",
     "text": [
      "/opt/anaconda3/envs/anti_flow/lib/python3.7/site-packages/ipykernel_launcher.py:9: UserWarning: Legend does not support 'A' instances.\n",
      "A proxy artist may be used instead.\n",
      "See: https://matplotlib.org/users/legend_guide.html#creating-artists-specifically-for-adding-to-the-legend-aka-proxy-artists\n",
      "  if __name__ == '__main__':\n",
      "/opt/anaconda3/envs/anti_flow/lib/python3.7/site-packages/ipykernel_launcher.py:9: UserWarning: Legend does not support 't' instances.\n",
      "A proxy artist may be used instead.\n",
      "See: https://matplotlib.org/users/legend_guide.html#creating-artists-specifically-for-adding-to-the-legend-aka-proxy-artists\n",
      "  if __name__ == '__main__':\n",
      "/opt/anaconda3/envs/anti_flow/lib/python3.7/site-packages/ipykernel_launcher.py:9: UserWarning: Legend does not support 'a' instances.\n",
      "A proxy artist may be used instead.\n",
      "See: https://matplotlib.org/users/legend_guide.html#creating-artists-specifically-for-adding-to-the-legend-aka-proxy-artists\n",
      "  if __name__ == '__main__':\n",
      "/opt/anaconda3/envs/anti_flow/lib/python3.7/site-packages/ipykernel_launcher.py:9: UserWarning: Legend does not support 'c' instances.\n",
      "A proxy artist may be used instead.\n",
      "See: https://matplotlib.org/users/legend_guide.html#creating-artists-specifically-for-adding-to-the-legend-aka-proxy-artists\n",
      "  if __name__ == '__main__':\n",
      "/opt/anaconda3/envs/anti_flow/lib/python3.7/site-packages/ipykernel_launcher.py:9: UserWarning: Legend does not support 'k' instances.\n",
      "A proxy artist may be used instead.\n",
      "See: https://matplotlib.org/users/legend_guide.html#creating-artists-specifically-for-adding-to-the-legend-aka-proxy-artists\n",
      "  if __name__ == '__main__':\n"
     ]
    },
    {
     "data": {
      "image/png": "[encoded data removed]",
      "text/plain": [
       "<Figure size 1080x720 with 2 Axes>"
      ]
     },
     "metadata": {
      "needs_background": "light"
     },
     "output_type": "display_data"
    }
   ],
   "source": [
    "import matplotlib.pyplot as plt\n",
    "fontsize=15\n",
    "markersize=15\n",
    "\n",
    "plt.figure(figsize=[15,10])\n",
    "plt.subplot(2,1,1)\n",
    "plt.plot(v_des_vals,ring_attack_sim_sweep_results[:,0],'.',markersize=markersize)\n",
    "plt.plot(ring_length_values[0],ring_length_sim_sweep_results[0,0],'.',markersize=markersize)\n",
    "plt.legend('Attacked','Benign',fontsize=fontsize)\n",
    "plt.ylabel('Mean speed [m/s]',fontsize=fontsize)\n",
    "plt.grid()\n",
    "plt.subplot(2,1,2)\n",
    "plt.plot(v_des_vals,ring_attack_sim_sweep_results[:,1],'.',markersize=markersize)\n",
    "plt.plot(ring_length_values[0],ring_length_sim_sweep_results[0,1],'.',markersize=markersize)\n",
    "plt.ylabel('Speed standard dev. [m/s]',fontsize=fontsize)\n",
    "plt.grid()\n"
   ]
  },
  {
   "cell_type": "markdown",
   "id": "10d1062e",
   "metadata": {},
   "source": [
    "It's interesting to note that depending on what criteria the attacking agent is most interested in, different choices of v_des migth be more or less desirable."
   ]
  },
  {
   "cell_type": "markdown",
   "id": "89658c4d",
   "metadata": {},
   "source": [
    "## General advice:\n",
    "\n",
    "Any given traffic simulation in Anti-Flow may have tens to hundreds of different parameters that could be varied/explored, however many may not change the simulation results much if changed. We recommend when trying to explore a traffic environment to try and isolate the set of parameters which are of most significance, or which might vary the most in a real world environment, rather than trying to sweep across all possible model parameter sets. \n",
    "\n",
    "As simulations grow in time and the number of vehicles on the network, so to will the size of simulation data files. Be warned that for sufficiently large simulations memory and computation may become a legitimate issue."
   ]
  }
 ],
 "metadata": {
  "kernelspec": {
   "display_name": "anti_flow",
   "language": "python",
   "name": "anti_flow"
  },
  "language_info": {
   "codemirror_mode": {
    "name": "ipython",
    "version": 3
   },
   "file_extension": ".py",
   "mimetype": "text/x-python",
   "name": "python",
   "nbconvert_exporter": "python",
   "pygments_lexer": "ipython3",
   "version": "3.7.3"
  }
 },
 "nbformat": 4,
 "nbformat_minor": 5
}
