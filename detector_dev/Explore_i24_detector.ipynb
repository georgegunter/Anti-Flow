{
 "cells": [
  {
   "cell_type": "code",
   "execution_count": null,
   "id": "5d97b327",
   "metadata": {},
   "outputs": [],
   "source": []
  },
  {
   "cell_type": "code",
   "execution_count": null,
   "id": "c0d2a0fd",
   "metadata": {},
   "outputs": [],
   "source": [
    "#note to self, look at 'flow_00.5', it began an attack but never printed that it finished?\n",
    "# Could be that occasionally a vehicle does two attacks and exits as it's attacking"
   ]
  }
 ],
 "metadata": {
  "kernelspec": {
   "display_name": "anti_flow",
   "language": "python",
   "name": "anti_flow"
  },
  "language_info": {
   "codemirror_mode": {
    "name": "ipython",
    "version": 3
   },
   "file_extension": ".py",
   "mimetype": "text/x-python",
   "name": "python",
   "nbconvert_exporter": "python",
   "pygments_lexer": "ipython3",
   "version": "3.7.3"
  }
 },
 "nbformat": 4,
 "nbformat_minor": 5
}
