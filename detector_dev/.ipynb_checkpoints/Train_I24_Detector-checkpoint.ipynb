{
 "cells": [
  {
   "cell_type": "code",
   "execution_count": 39,
   "metadata": {},
   "outputs": [
    {
     "name": "stdout",
     "output_type": "stream",
     "text": [
      "Loaded libraries for detection.\n"
     ]
    }
   ],
   "source": [
    "import os\n",
    "\n",
    "from importlib import reload\n",
    "\n",
    "import Detectors.Deep_Learning.AutoEncoders.utils\n",
    "reload(Detectors.Deep_Learning.AutoEncoders.utils)\n",
    "\n",
    "from Detectors.Deep_Learning.AutoEncoders.utils import SeqDataset,train_epoch,eval_data,train_model,get_cnn_lstm_ae_model,make_train_X,sliding_window_mult_feat\n",
    "from Detectors.Deep_Learning.AutoEncoders.utils import get_loss_filter_indiv as loss_smooth\n",
    "from Detectors.Deep_Learning.AutoEncoders.cnn_lstm_ae import CNNRecurrentAutoencoder\n",
    "\n",
    "\n",
    "import flow.visualize.visualize_ring as visualize_ring\n",
    "from flow.visualize.visualize_ring import get_measured_leader,get_rel_dist_to_measured_leader,get_vel_of_measured_leader\n",
    "\n",
    "\n",
    "import Detectors.Deep_Learning.AutoEncoders.utils\n",
    "reload(Detectors.Deep_Learning.AutoEncoders.utils)\n",
    "from Detectors.Deep_Learning.AutoEncoders.utils import SeqDataset,train_epoch,eval_data,train_model\n",
    "\n",
    "import torch\n",
    "\n",
    "# Anti-Flow specific functions for  detection:\n",
    "\n",
    "from Detectors.Deep_Learning.AutoEncoders.utils import sliding_window\n",
    "from Detectors.Deep_Learning.AutoEncoders.cnn_lstm_ae import CNNRecurrentAutoencoder\n",
    "\n",
    "model = get_cnn_lstm_ae_model(n_features=4)\n",
    "\n",
    "print('Loaded libraries for detection.')"
   ]
  },
  {
   "cell_type": "code",
   "execution_count": 28,
   "metadata": {},
   "outputs": [
    {
     "name": "stdout",
     "output_type": "stream",
     "text": [
      "Training procedure defined.\n"
     ]
    }
   ],
   "source": [
    "import csv\n",
    "import numpy as np\n",
    "import sys\n",
    "def get_sim_timeseries(csv_path,warmup_period=0.0):\n",
    "    row_num = 1\n",
    "    curr_veh_id = 'id'\n",
    "    sim_dict = {}\n",
    "    curr_veh_data = []\n",
    "    \n",
    "    edge_list = ['Eastbound_3','Eastbound_4','Eastbound_5','Eastbound_6','Eastbound_7']\n",
    "\n",
    "    with open(csv_path, newline='') as csvfile:\n",
    "        csvreader = csv.reader(csvfile, delimiter=',')\n",
    "        for row in csvreader:\n",
    "            if(row_num > 1):\n",
    "                # Don't read header\n",
    "                if(curr_veh_id != row[1]):\n",
    "                    #Add in new data to the dictionary:\n",
    "\n",
    "                    #Store old data:\n",
    "                    if(len(curr_veh_data)>0):\n",
    "                        sim_dict[curr_veh_id] = np.array(curr_veh_data).astype(float)\n",
    "                        sys.stdout.write('\\r'+'Veh id: '+curr_veh_id+ ' row: ' +str(row_num)+'\\r')\n",
    "                    #Rest where data is being stashed:\n",
    "                    curr_veh_data = []\n",
    "                    curr_veh_id = row[1] # Set new veh id\n",
    "                    #Allocate space for storing:\n",
    "#                     sim_dict[curr_veh_id] = []\n",
    "\n",
    "                curr_veh_id = row[1]\n",
    "                time = float(row[0])\n",
    "                edge = row[-4]\n",
    "                if(time > warmup_period and edge in edge_list):\n",
    "                    # data = [time,speed,headway,leader_rel_speed]\n",
    "                    data = [row[0],row[4],row[5],row[8]]\n",
    "                    curr_veh_data.append(data)\n",
    "            row_num += 1\n",
    "\n",
    "        #Add the very last vehicle's information:\n",
    "        sim_dict[curr_veh_id] = np.array(curr_veh_data).astype(float)\n",
    "        print('Data loaded.')\n",
    "    return sim_dict\n",
    "\n",
    "def train_i24_model(timeseries_dict,n_epoch=300,model=None):\n",
    "    veh_ids = list(timeseries_dict.keys())\n",
    "    timeseries_list = []\n",
    "\n",
    "    for veh_id in veh_ids:\n",
    "        #[time,speed,headway,accel,leader_speed,fuel_consumption]\n",
    "        num_samples = len(timeseries_dict[veh_id][:,0])\n",
    "        if(num_samples > 101):\n",
    "            speed = timeseries_dict[veh_id][:,1]\n",
    "            accel = np.gradient(speed,.1)\n",
    "            head_way = timeseries_dict[veh_id][:,2]\n",
    "            rel_vel = timeseries_dict[veh_id][:,3]\n",
    "\n",
    "            timeseries_list.append([speed,accel,head_way,rel_vel])\n",
    "        \n",
    "    train_X = make_train_X(timeseries_list)\n",
    "    \n",
    "    if(model is None):\n",
    "        model = get_cnn_lstm_ae_model(n_features=4)\n",
    "    \n",
    "    model_file_name = 'i24_detector_complete_obs'\n",
    "    \n",
    "    print('Beginning training...')\n",
    "    begin_time = time.time()\n",
    "    model = train_model(model,train_X,model_file_name,n_epoch=n_epoch)\n",
    "    finish_time = time.time()\n",
    "    print('Finished training, total time: '+str(finish_time-begin_time))\n",
    "\n",
    "    return model\n",
    "    \n",
    "print('Training procedure defined.')"
   ]
  },
  {
   "cell_type": "code",
   "execution_count": 31,
   "metadata": {},
   "outputs": [
    {
     "name": "stdout",
     "output_type": "stream",
     "text": [
      "Data loaded._60.647 row: 4714685\n",
      "Total loading time: 44.85307335853577\n"
     ]
    }
   ],
   "source": [
    "import time\n",
    "csv_path = '/Volumes/Backup/George_Research/benign_initial_i24/1800_inflow_0.2_ACC.csv'\n",
    "warmup_period = 1200.0\n",
    "\n",
    "begin_load_time = time.time()\n",
    "timeseries_dict = get_sim_timeseries(csv_path,warmup_period)\n",
    "end_load_time = time.time()\n",
    "\n",
    "print('Total loading time: '+str(end_load_time-begin_load_time))"
   ]
  },
  {
   "cell_type": "code",
   "execution_count": 35,
   "metadata": {},
   "outputs": [
    {
     "name": "stdout",
     "output_type": "stream",
     "text": [
      "1561\n",
      "flow_80.479\n"
     ]
    },
    {
     "data": {
      "text/plain": [
       "[<matplotlib.lines.Line2D at 0x7fdb780f0898>]"
      ]
     },
     "execution_count": 35,
     "metadata": {},
     "output_type": "execute_result"
    },
    {
     "data": {
      "image/png": "[encoded data removed]",
      "text/plain": [
       "<Figure size 432x288 with 1 Axes>"
      ]
     },
     "metadata": {
      "needs_background": "light"
     },
     "output_type": "display_data"
    }
   ],
   "source": [
    "import matplotlib.pyplot as plt\n",
    "veh_ids = list(timeseries_dict.keys())\n",
    "print(len(veh_ids))\n",
    "veh_id = veh_ids[1400]\n",
    "# print(timeseries_dict[veh_id])\n",
    "plt.plot(timeseries_dict[veh_id][:,0],timeseries_dict[veh_id][:,1])"
   ]
  },
  {
   "cell_type": "code",
   "execution_count": 40,
   "metadata": {},
   "outputs": [
    {
     "name": "stdout",
     "output_type": "stream",
     "text": [
      "Beginning training...\n",
      "Creating new model.\n",
      "Best loss 575.2634687358283\n",
      "Beginning training.\n",
      "Number epochs: 0 epoch step time: 116.98224425315857\n",
      "Epoch 0, total loss 3304950.844055, total predictions 15160, avg loss 218.004673 2022-06-06 14:47:08.149269\n",
      "Saving model. Best loss: 218.0046730907108\n",
      "Number epochs: 1 epoch step time: 115.12174892425537\n",
      "Number epochs: 2 epoch step time: 115.91922903060913\n",
      "Number epochs: 3 epoch step time: 119.83366417884827\n",
      "Saving model. Best loss: 216.92554176753302\n",
      "Number epochs: 4 epoch step time: 123.18025970458984\n",
      "Saving model. Best loss: 162.50154062437193\n",
      "Number epochs: 5 epoch step time: 120.68544578552246\n",
      "Epoch 5, total loss 2456693.433640, total predictions 15160, avg loss 162.051018 2022-06-06 14:57:02.890273\n",
      "Saving model. Best loss: 162.05101805010068\n",
      "Number epochs: 6 epoch step time: 155.06700372695923\n",
      "Saving model. Best loss: 141.60469342536223\n",
      "Number epochs: 7 epoch step time: 118.693106174469\n",
      "Number epochs: 8 epoch step time: 119.40033292770386\n",
      "Saving model. Best loss: 133.86042741559112\n",
      "Number epochs: 9 epoch step time: 120.94349408149719\n",
      "Saving model. Best loss: 123.94728783579804\n",
      "Number epochs: 10 epoch step time: 121.9738028049469\n",
      "Epoch 10, total loss 2050311.579285, total predictions 15160, avg loss 135.244827 2022-06-06 15:07:38.968649\n",
      "Number epochs: 11 epoch step time: 121.88804984092712\n",
      "Saving model. Best loss: 123.09112961197906\n",
      "Number epochs: 12 epoch step time: 122.59484195709229\n",
      "Saving model. Best loss: 118.03995946818732\n",
      "Number epochs: 13 epoch step time: 121.41313982009888\n",
      "Number epochs: 14 epoch step time: 119.230309009552\n",
      "Number epochs: 15 epoch step time: 120.64810609817505\n",
      "Epoch 15, total loss 1811856.213593, total predictions 15160, avg loss 119.515581 2022-06-06 15:17:44.743850\n",
      "Number epochs: 16 epoch step time: 120.65496706962585\n",
      "Number epochs: 17 epoch step time: 119.60693216323853\n",
      "Number epochs: 18 epoch step time: 119.75578904151917\n",
      "Number epochs: 19 epoch step time: 118.9164628982544\n",
      "Finished training.\n",
      "Finished training, total time: 2457.153199195862\n"
     ]
    }
   ],
   "source": [
    "i24_detection_model = train_i24_model(timeseries_dict,n_epoch=20,model=None)"
   ]
  },
  {
   "cell_type": "code",
   "execution_count": 41,
   "metadata": {},
   "outputs": [
    {
     "name": "stdout",
     "output_type": "stream",
     "text": [
      "Beginning training...\n",
      "Loaded existing model: /Users/georgegunter/Desktop/Vanderbilt/Anti-Flow/detector_dev/models/cnn_lstm_ae_i24_detector_complete_obs.pt\n",
      "Best loss 129.25823898718036\n",
      "Beginning training.\n",
      "Number epochs: 0 epoch step time: 129.42370200157166\n",
      "Epoch 0, total loss 2176477.602173, total predictions 15160, avg loss 143.567124 2022-06-06 15:41:50.460113\n",
      "Number epochs: 1 epoch step time: 117.37855005264282\n",
      "Number epochs: 2 epoch step time: 116.57810497283936\n",
      "Number epochs: 3 epoch step time: 119.70446610450745\n",
      "Saving model. Best loss: 122.64718129301448\n",
      "Number epochs: 4 epoch step time: 117.99688601493835\n",
      "Number epochs: 5 epoch step time: 132.03292202949524\n",
      "Epoch 5, total loss 2032717.683029, total predictions 15160, avg loss 134.084280 2022-06-06 15:51:54.151676\n",
      "Number epochs: 6 epoch step time: 132.29338312149048\n",
      "Number epochs: 7 epoch step time: 119.101567029953\n",
      "Number epochs: 8 epoch step time: 117.22331023216248\n",
      "Number epochs: 9 epoch step time: 115.57623100280762\n",
      "Number epochs: 10 epoch step time: 116.69155406951904\n",
      "Epoch 10, total loss 1754216.875320, total predictions 15160, avg loss 115.713514 2022-06-06 16:01:55.038342\n",
      "Saving model. Best loss: 115.71351420319489\n",
      "Number epochs: 11 epoch step time: 117.23257899284363\n",
      "Number epochs: 12 epoch step time: 116.33769083023071\n",
      "Saving model. Best loss: 113.88421320651011\n",
      "Number epochs: 13 epoch step time: 116.89210915565491\n",
      "Number epochs: 14 epoch step time: 116.24575710296631\n",
      "Number epochs: 15 epoch step time: 114.24915194511414\n",
      "Epoch 15, total loss 1782168.269806, total predictions 15160, avg loss 117.557274 2022-06-06 16:11:35.996273\n",
      "Number epochs: 16 epoch step time: 114.10773491859436\n",
      "Number epochs: 17 epoch step time: 113.68301391601562\n",
      "Number epochs: 18 epoch step time: 114.03010320663452\n",
      "Saving model. Best loss: 113.47809721310095\n",
      "Number epochs: 19 epoch step time: 115.13508296012878\n",
      "Finished training.\n",
      "Finished training, total time: 2398.2751977443695\n"
     ]
    }
   ],
   "source": [
    "i24_detection_model_retrained = train_i24_model(timeseries_dict,n_epoch=20,model=i24_detection_model)"
   ]
  },
  {
   "cell_type": "code",
   "execution_count": 45,
   "metadata": {},
   "outputs": [
    {
     "name": "stdout",
     "output_type": "stream",
     "text": [
      "Finished.\n"
     ]
    }
   ],
   "source": [
    "import flow.visualize.visualize_ring as visualize_ring\n",
    "reload(visualize_ring)\n",
    "\n",
    "import time\n",
    "\n",
    "def get_losses_complete_obs(emission_path,model,warmup_period=600):\n",
    "\n",
    "    timeseries_dict = visualize_ring.get_sim_timeseries(emission_path,warmup_period=warmup_period)\n",
    "\n",
    "    veh_ids = list(timeseries_dict.keys())\n",
    "   \n",
    "    num_veh_processed = 0\n",
    "\n",
    "    testing_losses_dict = dict.fromkeys(veh_ids)\n",
    "\n",
    "    time_tracker = time.time()\n",
    "\n",
    "    for veh_id in veh_ids:\n",
    "        timeseries_list = []\n",
    "        \n",
    "        speed = timeseries_dict[veh_id][:,1]\n",
    "        accel = np.gradient(speed,.1)\n",
    "        head_way = timeseries_dict[veh_id][:,2]\n",
    "        rel_vel = timeseries_dict[veh_id][:,3]\n",
    "        \n",
    "        timeseries_list.append([speed,accel,head_way,rel_vel])\n",
    "\n",
    "        timeseries_list = [speed,accel,head_way,rel_vel]\n",
    "\n",
    "        _,loss = sliding_window_mult_feat(model,timeseries_list)\n",
    "\n",
    "        testing_losses_dict[veh_id]=loss\n",
    "\n",
    "        num_veh_processed+=1\n",
    "\n",
    "        time_per_step = time.time() - time_tracker\n",
    "\n",
    "        sys.stdout.write('\\r'+'Vehicles processed: '+str(num_veh_processed)+', time per step: '+str(time_per_step)+'\\r')\n",
    "\n",
    "        time_tracker = time.time()\n",
    "\n",
    "    print('\\n')\n",
    "    \n",
    "    smoothed_losses = dict.fromkeys(veh_ids)\n",
    "    time = timeseries_dict[veh_ids[0]][:,0]\n",
    "    \n",
    "    #Get smoothed loss values:\n",
    "    for veh_id in veh_ids:\n",
    "        loss = testing_losses_dict[veh_id]\n",
    "        smoothed_loss = loss_smooth(time,loss)\n",
    "            \n",
    "        smoothed_losses[veh_id] =  loss_smooth(time,loss)\n",
    "\n",
    "        \n",
    "    return smoothed_losses\n",
    "\n",
    "print('Finished.')"
   ]
  },
  {
   "cell_type": "code",
   "execution_count": 46,
   "metadata": {},
   "outputs": [
    {
     "name": "stdout",
     "output_type": "stream",
     "text": [
      "Data loaded.\n"
     ]
    },
    {
     "ename": "UnboundLocalError",
     "evalue": "local variable 'time' referenced before assignment",
     "output_type": "error",
     "traceback": [
      "\u001b[0;31m---------------------------------------------------------------------------\u001b[0m",
      "\u001b[0;31mUnboundLocalError\u001b[0m                         Traceback (most recent call last)",
      "\u001b[0;32m/var/folders/bt/d84yntr511g4zwxvqcr6j_280000gn/T/ipykernel_46172/1360473998.py\u001b[0m in \u001b[0;36m<module>\u001b[0;34m\u001b[0m\n\u001b[1;32m      5\u001b[0m i24_losses_test = get_losses_complete_obs(emission_path,\n\u001b[1;32m      6\u001b[0m                                           \u001b[0mmodel\u001b[0m\u001b[0;34m=\u001b[0m\u001b[0mi24_detection_model_retrained\u001b[0m\u001b[0;34m,\u001b[0m\u001b[0;34m\u001b[0m\u001b[0;34m\u001b[0m\u001b[0m\n\u001b[0;32m----> 7\u001b[0;31m                                           warmup_period=600)\n\u001b[0m\u001b[1;32m      8\u001b[0m \u001b[0;34m\u001b[0m\u001b[0m\n\u001b[1;32m      9\u001b[0m \u001b[0mend_time\u001b[0m \u001b[0;34m=\u001b[0m \u001b[0mtime\u001b[0m\u001b[0;34m.\u001b[0m\u001b[0mtime\u001b[0m\u001b[0;34m(\u001b[0m\u001b[0;34m)\u001b[0m\u001b[0;34m\u001b[0m\u001b[0;34m\u001b[0m\u001b[0m\n",
      "\u001b[0;32m/var/folders/bt/d84yntr511g4zwxvqcr6j_280000gn/T/ipykernel_46172/4052797461.py\u001b[0m in \u001b[0;36mget_losses_complete_obs\u001b[0;34m(emission_path, model, warmup_period)\u001b[0m\n\u001b[1;32m     12\u001b[0m     \u001b[0mtesting_losses_dict\u001b[0m \u001b[0;34m=\u001b[0m \u001b[0mdict\u001b[0m\u001b[0;34m.\u001b[0m\u001b[0mfromkeys\u001b[0m\u001b[0;34m(\u001b[0m\u001b[0mveh_ids\u001b[0m\u001b[0;34m)\u001b[0m\u001b[0;34m\u001b[0m\u001b[0;34m\u001b[0m\u001b[0m\n\u001b[1;32m     13\u001b[0m \u001b[0;34m\u001b[0m\u001b[0m\n\u001b[0;32m---> 14\u001b[0;31m     \u001b[0mtime_tracker\u001b[0m \u001b[0;34m=\u001b[0m \u001b[0mtime\u001b[0m\u001b[0;34m.\u001b[0m\u001b[0mtime\u001b[0m\u001b[0;34m(\u001b[0m\u001b[0;34m)\u001b[0m\u001b[0;34m\u001b[0m\u001b[0;34m\u001b[0m\u001b[0m\n\u001b[0m\u001b[1;32m     15\u001b[0m \u001b[0;34m\u001b[0m\u001b[0m\n\u001b[1;32m     16\u001b[0m     \u001b[0;32mfor\u001b[0m \u001b[0mveh_id\u001b[0m \u001b[0;32min\u001b[0m \u001b[0mveh_ids\u001b[0m\u001b[0;34m:\u001b[0m\u001b[0;34m\u001b[0m\u001b[0;34m\u001b[0m\u001b[0m\n",
      "\u001b[0;31mUnboundLocalError\u001b[0m: local variable 'time' referenced before assignment"
     ]
    }
   ],
   "source": [
    "emission_path = '/Volumes/Backup/George_Research/i24_random_sample/part 1/Dur_9.717839924656609_Mag_-1.4249530669819752_Inflow_1800_ACCPenetration_0.2_AttackPenetration_0.1_ver_1.csv'\n",
    "\n",
    "begin_time = time.time()\n",
    "\n",
    "i24_losses_test = get_losses_complete_obs(emission_path,\n",
    "                                          model=i24_detection_model_retrained,\n",
    "                                          warmup_period=600)\n",
    "\n",
    "end_time = time.time()\n",
    "\n",
    "print('Total time: '+str(end_time-begin_time))\n"
   ]
  }
 ],
 "metadata": {
  "kernelspec": {
   "display_name": "anti_flow",
   "language": "python",
   "name": "anti_flow"
  },
  "language_info": {
   "codemirror_mode": {
    "name": "ipython",
    "version": 3
   },
   "file_extension": ".py",
   "mimetype": "text/x-python",
   "name": "python",
   "nbconvert_exporter": "python",
   "pygments_lexer": "ipython3",
   "version": "3.7.3"
  }
 },
 "nbformat": 4,
 "nbformat_minor": 2
}
