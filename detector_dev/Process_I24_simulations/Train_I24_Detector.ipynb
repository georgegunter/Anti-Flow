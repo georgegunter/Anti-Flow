{
 "cells": [
  {
   "cell_type": "code",
   "execution_count": 9,
   "metadata": {},
   "outputs": [
    {
     "name": "stdout",
     "output_type": "stream",
     "text": [
      "Loaded libraries for detection.\n"
     ]
    }
   ],
   "source": [
    "import os\n",
    "\n",
    "from importlib import reload\n",
    "\n",
    "import Detectors.Deep_Learning.AutoEncoders.utils\n",
    "reload(Detectors.Deep_Learning.AutoEncoders.utils)\n",
    "\n",
    "from Detectors.Deep_Learning.AutoEncoders.utils import SeqDataset,train_epoch,eval_data,train_model,get_cnn_lstm_ae_model,make_train_X,sliding_window_mult_feat\n",
    "from Detectors.Deep_Learning.AutoEncoders.utils import get_loss_filter_indiv as loss_smooth\n",
    "from Detectors.Deep_Learning.AutoEncoders.cnn_lstm_ae import CNNRecurrentAutoencoder\n",
    "\n",
    "\n",
    "import flow.visualize.visualize_ring as visualize_ring\n",
    "from flow.visualize.visualize_ring import get_measured_leader,get_rel_dist_to_measured_leader,get_vel_of_measured_leader\n",
    "\n",
    "\n",
    "import Detectors.Deep_Learning.AutoEncoders.utils\n",
    "reload(Detectors.Deep_Learning.AutoEncoders.utils)\n",
    "from Detectors.Deep_Learning.AutoEncoders.utils import SeqDataset,train_epoch,eval_data,train_model\n",
    "\n",
    "import torch\n",
    "\n",
    "# Anti-Flow specific functions for  detection:\n",
    "\n",
    "from Detectors.Deep_Learning.AutoEncoders.utils import sliding_window\n",
    "from Detectors.Deep_Learning.AutoEncoders.cnn_lstm_ae import CNNRecurrentAutoencoder\n",
    "\n",
    "model = get_cnn_lstm_ae_model(n_features=4)\n",
    "\n",
    "print('Loaded libraries for detection.')"
   ]
  },
  {
   "cell_type": "code",
   "execution_count": null,
   "metadata": {},
   "outputs": [],
   "source": [
    "def train_i24_model(timeseries_dict,n_epoch=300,model=None,seq_len=100):\n",
    "    veh_ids = list(timeseries_dict.keys())\n",
    "    timeseries_list = []\n",
    "\n",
    "    for veh_id in veh_ids:\n",
    "        #[time,speed,headway,accel,leader_speed,fuel_consumption]\n",
    "        num_samples = len(timeseries_dict[veh_id][:,0])\n",
    "        if(num_samples > seq_len):\n",
    "            speed = timeseries_dict[veh_id][:,1]\n",
    "            accel = np.gradient(speed,.1)\n",
    "            head_way = timeseries_dict[veh_id][:,2]\n",
    "            rel_vel = timeseries_dict[veh_id][:,3]\n",
    "            \n",
    "#             for i in range(len(head_way)):\n",
    "#                 if(head_way[i] > 200.0):\n",
    "#                     head_way[i] = 200.0\n",
    "#                     rel_vel[i] = 0.0\n",
    "\n",
    "            timeseries_list.append([speed,accel,head_way,rel_vel])\n",
    "        \n",
    "    train_X = make_train_X(timeseries_list,seq_len=seq_len)\n",
    "    \n",
    "    if(model is None):\n",
    "        model = get_cnn_lstm_ae_model(n_features=4,seq_len=seq_len)\n",
    "    \n",
    "    model_file_name = 'i24_detector_no_position_seq_len_'+str(seq_len)\n",
    "    \n",
    "    print('Beginning training...')\n",
    "    begin_time = time.time()\n",
    "    model = train_model(model,train_X,model_file_name,n_epoch=n_epoch,seq_len=seq_len)\n",
    "    finish_time = time.time()\n",
    "    print('Finished training, total time: '+str(finish_time-begin_time))\n",
    "\n",
    "    return model"
   ]
  },
  {
   "cell_type": "code",
   "execution_count": 26,
   "metadata": {},
   "outputs": [
    {
     "name": "stdout",
     "output_type": "stream",
     "text": [
      "Training procedure defined.\n"
     ]
    }
   ],
   "source": [
    "import csv\n",
    "import numpy as np\n",
    "import sys\n",
    "def get_sim_timeseries(csv_path,warmup_period=0.0):\n",
    "    row_num = 1\n",
    "    curr_veh_id = 'id'\n",
    "    sim_dict = {}\n",
    "    curr_veh_data = []\n",
    "\n",
    "    id_index = 0\n",
    "    time_index = 0\n",
    "    speed_index = 0\n",
    "    headway_index = 0\n",
    "    relvel_index = 0\n",
    "    edge_index = 0\n",
    "    x_index = 0\n",
    "    y_index = 0\n",
    "    position_index = 0\n",
    "\n",
    "\n",
    "\n",
    "    edge_list = ['Eastbound_3',':202186118','Eastbound_4','Eastbound_5','Eastbound_6',':202186134','Eastbound_7',':202236780','Eastbound_8']\n",
    "\n",
    "    with open(csv_path, newline='') as csvfile:\n",
    "        csvreader = csv.reader(csvfile, delimiter=',')\n",
    "\n",
    "        row1 = next(csvreader)\n",
    "        num_entries = len(row1)\n",
    "        while(row1[id_index]!='id' and id_index<num_entries):id_index +=1\n",
    "        while(row1[edge_index]!='edge_id' and edge_index<num_entries):edge_index +=1\n",
    "        while(row1[time_index]!='time' and time_index<num_entries):time_index +=1\n",
    "        while(row1[speed_index]!='speed' and speed_index<num_entries):speed_index +=1\n",
    "        while(row1[headway_index]!='headway' and headway_index<num_entries):headway_index +=1\n",
    "        while(row1[relvel_index]!='leader_rel_speed' and relvel_index<num_entries):relvel_index +=1\n",
    "        while(row1[x_index]!='x' and x_index<num_entries):x_index +=1\n",
    "        while(row1[y_index]!='y' and y_index<num_entries):y_index +=1\n",
    "        while(row1[position_index]!='relative_position' and position_index<num_entries):position_index +=1\n",
    "\n",
    "\n",
    "        for row in csvreader:\n",
    "            if(row_num > 1):\n",
    "                # Don't read header\n",
    "                if(curr_veh_id != row[id_index]):\n",
    "                    #Add in new data to the dictionary:\n",
    "\n",
    "                    #Store old data:\n",
    "                    if(len(curr_veh_data)>0):\n",
    "                        sim_dict[curr_veh_id] = np.array(curr_veh_data).astype(float)\n",
    "                        sys.stdout.write('\\r'+'Veh id: '+curr_veh_id+ ' row: ' +str(row_num)+'\\r')\n",
    "                    #Rest where data is being stashed:\n",
    "                    curr_veh_data = []\n",
    "                    curr_veh_id = row[id_index] # Set new veh id\n",
    "                    #Allocate space for storing:\n",
    "\n",
    "                curr_veh_id = row[id_index]\n",
    "                time = float(row[time_index])\n",
    "                edge = row[edge_index]\n",
    "                \n",
    "                \n",
    "                if(time > warmup_period and edge in edge_list):\n",
    "                    # data = [time,speed,headway,leader_rel_speed,x,y]\n",
    "                    if(edge == 'Eastbound_8'):\n",
    "                        position = float(row[position_index])\n",
    "                        if(position < 250):\n",
    "                            data = [row[time_index],row[speed_index],row[headway_index],row[relvel_index],row[x_index],row[y_index]]\n",
    "                            curr_veh_data.append(data)\n",
    "                    else:\n",
    "                        data = [row[time_index],row[speed_index],row[headway_index],row[relvel_index],row[x_index],row[y_index]]\n",
    "                        curr_veh_data.append(data)\n",
    "                    \n",
    "            row_num += 1\n",
    "\n",
    "        #Add the very last vehicle's information:\n",
    "        sim_dict[curr_veh_id] = np.array(curr_veh_data).astype(float)\n",
    "        print('Data loaded.')\n",
    "    return sim_dict\n",
    "\n",
    "def train_i24_model(timeseries_dict,n_epoch=300,model=None,seq_len=100):\n",
    "    veh_ids = list(timeseries_dict.keys())\n",
    "    timeseries_list = []\n",
    "\n",
    "    for veh_id in veh_ids:\n",
    "        #[time,speed,headway,accel,leader_speed,fuel_consumption]\n",
    "        num_samples = len(timeseries_dict[veh_id][:,0])\n",
    "        if(num_samples > seq_len):\n",
    "            speed = timeseries_dict[veh_id][:,1]\n",
    "            accel = np.gradient(speed,.1)\n",
    "            head_way = timeseries_dict[veh_id][:,2]\n",
    "            rel_vel = timeseries_dict[veh_id][:,3]\n",
    "            \n",
    "            for i in range(len(head_way)):\n",
    "                if(head_way[i] > 200.0):\n",
    "                    head_way[i] = 200.0\n",
    "                    rel_vel[i] = 0.0\n",
    "\n",
    "            timeseries_list.append([speed,accel,head_way,rel_vel])\n",
    "        \n",
    "    train_X = make_train_X(timeseries_list,seq_len=seq_len)\n",
    "    \n",
    "    if(model is None):\n",
    "        model = get_cnn_lstm_ae_model(n_features=4,seq_len=seq_len)\n",
    "    \n",
    "    model_file_name = 'i24_detector_no_position_seq_len_'+str(seq_len)\n",
    "    \n",
    "    print('Beginning training...')\n",
    "    begin_time = time.time()\n",
    "    model = train_model(model,train_X,model_file_name,n_epoch=n_epoch,seq_len=seq_len)\n",
    "    finish_time = time.time()\n",
    "    print('Finished training, total time: '+str(finish_time-begin_time))\n",
    "\n",
    "    return model\n",
    "    \n",
    "print('Training procedure defined.')"
   ]
  },
  {
   "cell_type": "code",
   "execution_count": null,
   "metadata": {},
   "outputs": [],
   "source": []
  },
  {
   "cell_type": "code",
   "execution_count": 20,
   "metadata": {},
   "outputs": [
    {
     "name": "stdout",
     "output_type": "stream",
     "text": [
      "Data loaded._60.647 row: 4714684\n",
      "Total loading time: 28.800753116607666\n"
     ]
    }
   ],
   "source": [
    "import time\n",
    "csv_path = '/Volumes/Backup/George_Research/benign_initial_i24/1800_inflow_0.2_ACC.csv'\n",
    "warmup_period = 1200.0\n",
    "\n",
    "begin_load_time = time.time()\n",
    "timeseries_dict = get_sim_timeseries(csv_path,warmup_period)\n",
    "end_load_time = time.time()\n",
    "\n",
    "print('Total loading time: '+str(end_load_time-begin_load_time))"
   ]
  },
  {
   "cell_type": "code",
   "execution_count": 22,
   "metadata": {},
   "outputs": [
    {
     "name": "stdout",
     "output_type": "stream",
     "text": [
      "1582\n",
      "flow_70.617\n"
     ]
    },
    {
     "data": {
      "text/plain": [
       "[<matplotlib.lines.Line2D at 0x7fabdb6fa2b0>]"
      ]
     },
     "execution_count": 22,
     "metadata": {},
     "output_type": "execute_result"
    },
    {
     "data": {
      "image/png": "[encoded data removed]",
      "text/plain": [
       "<Figure size 432x288 with 1 Axes>"
      ]
     },
     "metadata": {
      "needs_background": "light"
     },
     "output_type": "display_data"
    }
   ],
   "source": [
    "import matplotlib.pyplot as plt\n",
    "veh_ids = list(timeseries_dict.keys())\n",
    "print(len(veh_ids))\n",
    "veh_id = veh_ids[1400]\n",
    "print(veh_id)\n",
    "# print(timeseries_dict[veh_id])\n",
    "plt.plot(timeseries_dict[veh_id][:,0],timeseries_dict[veh_id][:,1])"
   ]
  },
  {
   "cell_type": "code",
   "execution_count": 27,
   "metadata": {
    "scrolled": true
   },
   "outputs": [
    {
     "name": "stdout",
     "output_type": "stream",
     "text": [
      "Beginning training...\n",
      "Creating new model.\n",
      "Best loss 710.344416838681\n",
      "Beginning training.\n",
      "Number epochs: 0 epoch step time: 119.63578295707703\n",
      "Epoch 0, total loss 3413720.215393, total predictions 14950, avg loss 228.342489 2022-06-17 14:35:10.170859\n",
      "Saving model. Best loss: 228.34248932395093\n",
      "Number epochs: 1 epoch step time: 119.08268976211548\n",
      "Number epochs: 2 epoch step time: 122.2138147354126\n",
      "Number epochs: 3 epoch step time: 122.22184991836548\n",
      "Number epochs: 4 epoch step time: 128.5994110107422\n",
      "Saving model. Best loss: 194.3318977258995\n",
      "Number epochs: 5 epoch step time: 131.90479397773743\n",
      "Epoch 5, total loss 2286284.727661, total predictions 14950, avg loss 152.928744 2022-06-17 14:45:34.194144\n",
      "Saving model. Best loss: 152.92874432515939\n",
      "Number epochs: 6 epoch step time: 136.3772578239441\n",
      "Saving model. Best loss: 146.7385672007277\n",
      "Number epochs: 7 epoch step time: 134.05749893188477\n",
      "Saving model. Best loss: 130.7468530416329\n",
      "Number epochs: 8 epoch step time: 130.87732887268066\n",
      "Number epochs: 9 epoch step time: 137.55480313301086\n",
      "Number epochs: 10 epoch step time: 129.95288014411926\n",
      "Epoch 10, total loss 1777718.370483, total predictions 14950, avg loss 118.910928 2022-06-17 14:56:43.014636\n",
      "Saving model. Best loss: 118.91092779153166\n",
      "Number epochs: 11 epoch step time: 128.9973440170288\n",
      "Saving model. Best loss: 117.4990465420624\n",
      "Number epochs: 12 epoch step time: 131.8607349395752\n",
      "Number epochs: 13 epoch step time: 131.86603474617004\n",
      "Saving model. Best loss: 117.430366827413\n",
      "Number epochs: 14 epoch step time: 129.1082248687744\n",
      "Saving model. Best loss: 114.86057532677283\n",
      "Number epochs: 15 epoch step time: 129.0015687942505\n",
      "Epoch 15, total loss 2143041.911652, total predictions 14950, avg loss 143.347285 2022-06-17 15:07:33.849374\n",
      "Number epochs: 16 epoch step time: 126.938472032547\n",
      "Saving model. Best loss: 112.94793551748015\n",
      "Number epochs: 17 epoch step time: 126.51369500160217\n",
      "Number epochs: 18 epoch step time: 127.5615770816803\n",
      "Number epochs: 19 epoch step time: 128.49605464935303\n",
      "Number epochs: 20 epoch step time: 126.58057808876038\n",
      "Epoch 20, total loss 1849688.711151, total predictions 14950, avg loss 123.724997 2022-06-17 15:18:09.940410\n",
      "Number epochs: 21 epoch step time: 125.83409309387207\n",
      "Number epochs: 22 epoch step time: 123.36337995529175\n",
      "Number epochs: 23 epoch step time: 123.84002470970154\n",
      "Number epochs: 24 epoch step time: 123.2940821647644\n",
      "Number epochs: 25 epoch step time: 126.90355110168457\n",
      "Epoch 25, total loss 1647614.091644, total predictions 14950, avg loss 110.208300 2022-06-17 15:28:33.176234\n",
      "Saving model. Best loss: 110.20830044443392\n",
      "Number epochs: 26 epoch step time: 127.46285891532898\n",
      "Saving model. Best loss: 105.5846041737432\n",
      "Number epochs: 27 epoch step time: 133.2279918193817\n",
      "Number epochs: 28 epoch step time: 131.36629104614258\n",
      "Saving model. Best loss: 95.61859111364869\n",
      "Number epochs: 29 epoch step time: 132.54175996780396\n",
      "Saving model. Best loss: 91.58681372703118\n",
      "Number epochs: 30 epoch step time: 146.59204411506653\n",
      "Epoch 30, total loss 1468635.184906, total predictions 14950, avg loss 98.236467 2022-06-17 15:39:44.367947\n",
      "Number epochs: 31 epoch step time: 137.88705492019653\n",
      "Number epochs: 32 epoch step time: 129.1097869873047\n",
      "Saving model. Best loss: 86.86720072564472\n",
      "Number epochs: 33 epoch step time: 148.1023178100586\n",
      "Number epochs: 34 epoch step time: 141.07472896575928\n",
      "Number epochs: 35 epoch step time: 123.7459237575531\n",
      "Epoch 35, total loss 1267948.008560, total predictions 14950, avg loss 84.812576 2022-06-17 15:51:04.288355\n",
      "Saving model. Best loss: 84.81257582342346\n",
      "Number epochs: 36 epoch step time: 123.28928089141846\n",
      "Number epochs: 37 epoch step time: 123.4620418548584\n",
      "Number epochs: 38 epoch step time: 120.61153483390808\n",
      "Number epochs: 39 epoch step time: 121.41793727874756\n",
      "Saving model. Best loss: 83.8416634274486\n",
      "Finished training.\n",
      "Finished training, total time: 5195.359653234482\n"
     ]
    }
   ],
   "source": [
    "seq_len = 200\n",
    "\n",
    "i24_detection_model = train_i24_model(timeseries_dict,n_epoch=40,model=None,seq_len=seq_len)"
   ]
  },
  {
   "cell_type": "code",
   "execution_count": 28,
   "metadata": {
    "scrolled": true
   },
   "outputs": [
    {
     "name": "stdout",
     "output_type": "stream",
     "text": [
      "Beginning training...\n",
      "Loaded existing model: /Users/vanderbilt/Desktop/Research_2022/Anti-Flow/detector_dev/models/cnn_lstm_ae_i24_detector_no_position_seq_len_200.pt\n",
      "Best loss 83.92865857995075\n",
      "Beginning training.\n",
      "Number epochs: 0 epoch step time: 121.05891990661621\n",
      "Epoch 0, total loss 1395382.113876, total predictions 14950, avg loss 93.336596 2022-06-17 16:03:18.309215\n",
      "Number epochs: 1 epoch step time: 123.54077291488647\n",
      "Saving model. Best loss: 72.17000126459128\n",
      "Number epochs: 2 epoch step time: 125.13610315322876\n",
      "Number epochs: 3 epoch step time: 124.8598039150238\n",
      "Number epochs: 4 epoch step time: 123.5720808506012\n",
      "Number epochs: 5 epoch step time: 124.24039602279663\n",
      "Epoch 5, total loss 1101235.787781, total predictions 14950, avg loss 73.661257 2022-06-17 16:13:39.659035\n",
      "Number epochs: 6 epoch step time: 121.11639285087585\n",
      "Number epochs: 7 epoch step time: 128.75385904312134\n",
      "Number epochs: 8 epoch step time: 146.18097019195557\n",
      "Number epochs: 9 epoch step time: 125.82891702651978\n",
      "Number epochs: 10 epoch step time: 127.32308411598206\n",
      "Epoch 10, total loss 1600494.841217, total predictions 14950, avg loss 107.056511 2022-06-17 16:24:28.862951\n",
      "Number epochs: 11 epoch step time: 127.24091506004333\n",
      "Number epochs: 12 epoch step time: 126.90063691139221\n",
      "Number epochs: 13 epoch step time: 126.80925297737122\n",
      "Number epochs: 14 epoch step time: 128.3080291748047\n",
      "Number epochs: 15 epoch step time: 125.8816967010498\n",
      "Epoch 15, total loss 1188091.280746, total predictions 14950, avg loss 79.470989 2022-06-17 16:35:04.004148\n",
      "Number epochs: 16 epoch step time: 125.23943185806274\n",
      "Number epochs: 17 epoch step time: 140.92908120155334\n",
      "Number epochs: 18 epoch step time: 142.4686369895935\n",
      "Saving model. Best loss: 69.35322379121813\n",
      "Number epochs: 19 epoch step time: 141.8366138935089\n",
      "Finished training.\n",
      "Finished training, total time: 2613.4307770729065\n"
     ]
    }
   ],
   "source": [
    "i24_detection_model = train_i24_model(timeseries_dict,n_epoch=20,model=None,seq_len=seq_len)"
   ]
  },
  {
   "cell_type": "code",
   "execution_count": 34,
   "metadata": {},
   "outputs": [
    {
     "name": "stdout",
     "output_type": "stream",
     "text": [
      "Defined functions for doing anomaly detection.\n"
     ]
    }
   ],
   "source": [
    "import flow.visualize.visualize_ring as visualize_ring\n",
    "reload(visualize_ring)\n",
    "\n",
    "from scipy.signal import savgol_filter\n",
    "\n",
    "from time import time as timer_start\n",
    "\n",
    "def get_data_for_AE(timeseries_dict,veh_id):\n",
    "    timeseries_data = timeseries_dict[veh_id]\n",
    "    speed = timeseries_dict[veh_id][:,1]\n",
    "    speed_smoothed = savgol_filter(speed,21,3)\n",
    "    accel = np.gradient(speed_smoothed,.1)\n",
    "    head_way = timeseries_dict[veh_id][:,2]\n",
    "    rel_vel = timeseries_dict[veh_id][:,3]\n",
    "    timeseries_data_list = [speed,accel,head_way,rel_vel]\n",
    "\n",
    "    return timeseries_data_list\n",
    "\n",
    "\n",
    "def get_losses_complete_obs(timeseries_dict,model,seq_len=200,warmup_period=1200):\n",
    "\n",
    "    begin_time = time.time()\n",
    "\n",
    "    veh_ids = list(timeseries_dict.keys())\n",
    "   \n",
    "    num_veh_processed = 0\n",
    "    \n",
    "    total_vehicles = len(veh_ids)\n",
    "\n",
    "    testing_losses_dict = {}\n",
    "\n",
    "    for veh_id in veh_ids:\n",
    "        \n",
    "        speed = timeseries_dict[veh_id][:,1]\n",
    "        \n",
    "        if(len(speed) > seq_len):\n",
    "#             accel = np.gradient(speed,.1)\n",
    "#             head_way = timeseries_dict[veh_id][:,2]\n",
    "#             rel_vel = timeseries_dict[veh_id][:,3]\n",
    "\n",
    "            timeseries_list = get_data_for_AE(timeseries_dict,veh_id)\n",
    "\n",
    "            _,loss = sliding_window_mult_feat(model,timeseries_list,seq_len=seq_len)\n",
    "\n",
    "            testing_losses_dict[veh_id]=loss\n",
    "\n",
    "        num_veh_processed+=1\n",
    "\n",
    "        if(num_veh_processed % 100 == 0):\n",
    "            total_compute_time = time.time()-begin_time\n",
    "            sys.stdout.write('\\r'+'Vehicles processed: '+str(num_veh_processed)+'/'+str(total_vehicles)+', total compute time: '+str(total_compute_time)+'\\r')\n",
    "        \n",
    "    print('\\n')\n",
    "    \n",
    "    smoothed_losses = {}\n",
    "    \n",
    "    #Get smoothed loss values:\n",
    "    \n",
    "    for veh_id in testing_losses_dict:\n",
    "        loss = testing_losses_dict[veh_id]\n",
    "        if(loss is not None):\n",
    "            vehicles_time = timeseries_dict[veh_id][:,0]\n",
    "            smoothed_losses[veh_id] =  [vehicles_time,loss_smooth(vehicles_time,loss)]\n",
    "    \n",
    "    print('Total time to calculate loses: '+str(time.time()-begin_time))\n",
    "    \n",
    "    return smoothed_losses\n",
    "\n",
    "print('Defined functions for doing anomaly detection.')"
   ]
  },
  {
   "cell_type": "code",
   "execution_count": 31,
   "metadata": {},
   "outputs": [
    {
     "name": "stdout",
     "output_type": "stream",
     "text": [
      "Data loaded._110.631 row: 6727804\n"
     ]
    }
   ],
   "source": [
    "# emission_path = '/Volumes/Backup/George_Research/i24_random_sample/part 1/Dur_9.717839924656609_Mag_-1.4249530669819752_Inflow_1800_ACCPenetration_0.2_AttackPenetration_0.1_ver_1.csv'\n",
    "\n",
    "emission_path = '/Users/vanderbilt/Desktop/Research_2022/Anti-Flow/detector_dev/data/Dur_45_Mag_-1.0_Inflow_1800_ACCPenetration_0.2_AttackPenetration_0.1_ver_1.csv'\n",
    "\n",
    "timeseries_dict = get_sim_timeseries(csv_path=emission_path,warmup_period=warmup_period)\n",
    "\n"
   ]
  },
  {
   "cell_type": "code",
   "execution_count": 36,
   "metadata": {},
   "outputs": [
    {
     "name": "stdout",
     "output_type": "stream",
     "text": [
      "Vehicles processed: 1500/1578, total compute time: 5564.3638088703165\n",
      "\n"
     ]
    },
    {
     "name": "stderr",
     "output_type": "stream",
     "text": [
      "/Users/vanderbilt/Desktop/Research_2022/Anti-Flow/Detectors/Deep_Learning/AutoEncoders/utils.py:196: RuntimeWarning: invalid value encountered in true_divide\n",
      "  veh_losses_filtered = np.divide(veh_losses_filtered,loss_counts)\n"
     ]
    },
    {
     "name": "stdout",
     "output_type": "stream",
     "text": [
      "Total time to calculate loses: 5593.666415929794\n",
      "Total time: 5593.668439149857\n"
     ]
    }
   ],
   "source": [
    "model = get_cnn_lstm_ae_model(n_features=4,seq_len=200)\n",
    "# Load in a trained model:\n",
    "MODEL_PATH = os.path.join(os.getcwd(),'models/cnn_lstm_ae_i24_detector_no_position_seq_len_200.pt')\n",
    "model.load_state_dict(torch.load(MODEL_PATH,map_location=torch.device('cpu')))\n",
    "\n",
    "begin_time = time.time()\n",
    "\n",
    "i24_losses_test = get_losses_complete_obs(timeseries_dict,model,seq_len=200,warmup_period=warmup_period)\n",
    "\n",
    "end_time = time.time()\n",
    "\n",
    "print('Total time: '+str(end_time-begin_time))"
   ]
  },
  {
   "cell_type": "code",
   "execution_count": 37,
   "metadata": {},
   "outputs": [
    {
     "name": "stdout",
     "output_type": "stream",
     "text": [
      "Loss file written to csv.\n"
     ]
    }
   ],
   "source": [
    "def write_losses_to_file(smoothed_losses,file_name):\n",
    "    with open(file_name, 'w', newline='') as csvfile:\n",
    "        writer = csv.writer(csvfile, delimiter=',')\n",
    "        for veh_id in smoothed_losses:\n",
    "            vehicle_times = smoothed_losses[veh_id][0]\n",
    "            losses = smoothed_losses[veh_id][1]\n",
    "            num_samples = len(losses)\n",
    "            for i in range(num_samples):\n",
    "                writer.writerow([veh_id,vehicle_times[i],losses[i]])\n",
    "                \n",
    "            \n",
    "    print('Loss file written to csv.')\n",
    "\n",
    "def get_sim_name(file_name):\n",
    "    i = 0\n",
    "    while(file_name[i:i+3] != 'Dur'):i+=1\n",
    "    return file_name[i:]\n",
    "\n",
    "file_name = 'Dur_45_Mag_-1.0_Inflow_1800_ACCPenetration_0.2_AttackPenetration_0.1_ver_1_losses_200seqlen.csv'\n",
    "\n",
    "write_losses_to_file(i24_losses_test,file_name)"
   ]
  },
  {
   "cell_type": "code",
   "execution_count": 38,
   "metadata": {},
   "outputs": [
    {
     "name": "stdout",
     "output_type": "stream",
     "text": [
      "Defined function.\n"
     ]
    }
   ],
   "source": [
    "def get_sim_timeseries_all_data_i24(csv_path,warmup_period=0.0):\n",
    "    row_num = 1\n",
    "    curr_veh_id = 'id'\n",
    "    sim_dict = {}\n",
    "    curr_veh_data = []\n",
    "\n",
    "    id_index = 0\n",
    "    time_index = 0\n",
    "    speed_index = 0\n",
    "    headway_index = 0\n",
    "    relvel_index = 0\n",
    "    edge_index = 0\n",
    "    x_index = 0\n",
    "    y_index = 0\n",
    "    position_index = 0\n",
    "    \n",
    "    edge_list = ['Eastbound_3',':202186118','Eastbound_4','Eastbound_5','Eastbound_6',':202186134','Eastbound_7',':202236780','Eastbound_8']\n",
    "\n",
    "    with open(csv_path, newline='') as csvfile:\n",
    "        csvreader = csv.reader(csvfile, delimiter=',')\n",
    "\n",
    "        row1 = next(csvreader)\n",
    "        num_entries = len(row1)\n",
    "        while(row1[id_index]!='id' and id_index<num_entries):id_index +=1\n",
    "        while(row1[edge_index]!='edge_id' and edge_index<num_entries):edge_index +=1\n",
    "        while(row1[time_index]!='time' and time_index<num_entries):time_index +=1\n",
    "        while(row1[speed_index]!='speed' and speed_index<num_entries):speed_index +=1\n",
    "        while(row1[headway_index]!='headway' and headway_index<num_entries):headway_index +=1\n",
    "        while(row1[relvel_index]!='leader_rel_speed' and relvel_index<num_entries):relvel_index +=1\n",
    "        while(row1[x_index]!='x' and x_index<num_entries):x_index +=1\n",
    "        while(row1[y_index]!='y' and y_index<num_entries):y_index +=1\n",
    "        while(row1[position_index]!='relative_position' and position_index<num_entries):position_index +=1\n",
    "\n",
    "\n",
    "        csvreader = csv.reader(csvfile, delimiter=',')\n",
    "        id_index = 0\n",
    "        time_index = 0\n",
    "        row1 = next(csvreader)\n",
    "        while(row1[id_index]!='id' and id_index<num_entries):id_index +=1\n",
    "        while(row1[time_index]!='time' and time_index<num_entries):time_index +=1\n",
    "\n",
    "        row_num += 1\n",
    "\n",
    "        for row in csvreader:\n",
    "            if(row_num > 1):\n",
    "                # Don't read header\n",
    "                if(curr_veh_id != row[curr_veh_id]):\n",
    "                    #Add in new data to the dictionary:\n",
    "\n",
    "                    #Store old data:\n",
    "                    if(len(curr_veh_data)>0):\n",
    "                        sim_dict[curr_veh_id] = curr_veh_data\n",
    "                    #Rest where data is being stashed:\n",
    "                    curr_veh_data = []\n",
    "                    curr_veh_id = row[curr_veh_id] # Set new veh id\n",
    "                    #Allocate space for storing:\n",
    "                    sim_dict[curr_veh_id] = []\n",
    "\n",
    "                curr_veh_id = row[curr_veh_id]\n",
    "                time = float(row[0])\n",
    "                if(time > warmup_period):\n",
    "                    # data = [time,speed,headway,leader_rel_speed]\n",
    "                    curr_veh_data.append(row)\n",
    "            row_num += 1\n",
    "\n",
    "        #Add the very last vehicle's information:\n",
    "        sim_dict[curr_veh_id] = curr_veh_data\n",
    "        print('Data loaded.')\n",
    "    return sim_dict\n",
    "\n",
    "print('Defined function.')"
   ]
  },
  {
   "cell_type": "code",
   "execution_count": 39,
   "metadata": {},
   "outputs": [
    {
     "ename": "IndexError",
     "evalue": "list index out of range",
     "output_type": "error",
     "traceback": [
      "\u001b[0;31m---------------------------------------------------------------------------\u001b[0m",
      "\u001b[0;31mIndexError\u001b[0m                                Traceback (most recent call last)",
      "\u001b[0;32m<ipython-input-39-bd16b5e32e5a>\u001b[0m in \u001b[0;36m<module>\u001b[0;34m\u001b[0m\n\u001b[1;32m      3\u001b[0m \u001b[0mcsv_path_attack\u001b[0m \u001b[0;34m=\u001b[0m \u001b[0;34m'/Users/vanderbilt/Desktop/Research_2022/Anti-Flow/detector_dev/data/Dur_45_Mag_-1.0_Inflow_1800_ACCPenetration_0.2_AttackPenetration_0.1_ver_1.csv'\u001b[0m\u001b[0;34m\u001b[0m\u001b[0;34m\u001b[0m\u001b[0m\n\u001b[1;32m      4\u001b[0m \u001b[0;34m\u001b[0m\u001b[0m\n\u001b[0;32m----> 5\u001b[0;31m \u001b[0mall_sim_data_attack\u001b[0m \u001b[0;34m=\u001b[0m \u001b[0mget_sim_timeseries_all_data_i24\u001b[0m\u001b[0;34m(\u001b[0m\u001b[0mcsv_path\u001b[0m \u001b[0;34m=\u001b[0m \u001b[0mcsv_path_attack\u001b[0m\u001b[0;34m,\u001b[0m \u001b[0mwarmup_period\u001b[0m \u001b[0;34m=\u001b[0m \u001b[0mwarmup_period\u001b[0m\u001b[0;34m)\u001b[0m\u001b[0;34m\u001b[0m\u001b[0;34m\u001b[0m\u001b[0m\n\u001b[0m",
      "\u001b[0;32m<ipython-input-38-3e80d9f4c38e>\u001b[0m in \u001b[0;36mget_sim_timeseries_all_data_i24\u001b[0;34m(csv_path, warmup_period)\u001b[0m\n\u001b[1;32m     37\u001b[0m         \u001b[0mtime_index\u001b[0m \u001b[0;34m=\u001b[0m \u001b[0;36m0\u001b[0m\u001b[0;34m\u001b[0m\u001b[0;34m\u001b[0m\u001b[0m\n\u001b[1;32m     38\u001b[0m         \u001b[0mrow1\u001b[0m \u001b[0;34m=\u001b[0m \u001b[0mnext\u001b[0m\u001b[0;34m(\u001b[0m\u001b[0mcsvreader\u001b[0m\u001b[0;34m)\u001b[0m\u001b[0;34m\u001b[0m\u001b[0;34m\u001b[0m\u001b[0m\n\u001b[0;32m---> 39\u001b[0;31m         \u001b[0;32mwhile\u001b[0m\u001b[0;34m(\u001b[0m\u001b[0mrow1\u001b[0m\u001b[0;34m[\u001b[0m\u001b[0mid_index\u001b[0m\u001b[0;34m]\u001b[0m\u001b[0;34m!=\u001b[0m\u001b[0;34m'id'\u001b[0m \u001b[0;32mand\u001b[0m \u001b[0mid_index\u001b[0m\u001b[0;34m<\u001b[0m\u001b[0mnum_entries\u001b[0m\u001b[0;34m)\u001b[0m\u001b[0;34m:\u001b[0m\u001b[0mid_index\u001b[0m \u001b[0;34m+=\u001b[0m\u001b[0;36m1\u001b[0m\u001b[0;34m\u001b[0m\u001b[0;34m\u001b[0m\u001b[0m\n\u001b[0m\u001b[1;32m     40\u001b[0m         \u001b[0;32mwhile\u001b[0m\u001b[0;34m(\u001b[0m\u001b[0mrow1\u001b[0m\u001b[0;34m[\u001b[0m\u001b[0mtime_index\u001b[0m\u001b[0;34m]\u001b[0m\u001b[0;34m!=\u001b[0m\u001b[0;34m'time'\u001b[0m \u001b[0;32mand\u001b[0m \u001b[0mtime_index\u001b[0m\u001b[0;34m<\u001b[0m\u001b[0mnum_entries\u001b[0m\u001b[0;34m)\u001b[0m\u001b[0;34m:\u001b[0m\u001b[0mtime_index\u001b[0m \u001b[0;34m+=\u001b[0m\u001b[0;36m1\u001b[0m\u001b[0;34m\u001b[0m\u001b[0;34m\u001b[0m\u001b[0m\n\u001b[1;32m     41\u001b[0m \u001b[0;34m\u001b[0m\u001b[0m\n",
      "\u001b[0;31mIndexError\u001b[0m: list index out of range"
     ]
    }
   ],
   "source": [
    "csv_path_attack = '/Users/vanderbilt/Desktop/Research_2022/Anti-Flow/detector_dev/data/Dur_45_Mag_-1.0_Inflow_1800_ACCPenetration_0.2_AttackPenetration_0.1_ver_1.csv'\n",
    "\n",
    "all_sim_data_attack = get_sim_timeseries_all_data_i24(csv_path = csv_path_attack, warmup_period = warmup_period)"
   ]
  },
  {
   "cell_type": "code",
   "execution_count": null,
   "metadata": {},
   "outputs": [],
   "source": [
    "def load_loss_dict(file_name):\n",
    "    loss_dict = {}\n",
    "    with open(file_name, 'r', newline='') as csvfile:\n",
    "        reader = csv.reader(csvfile, delimiter=',')\n",
    "        \n",
    "        row = next(reader)\n",
    "        curr_id = row[0]\n",
    "        curr_losses = [row[2]]\n",
    "        \n",
    "        for row in reader:\n",
    "            if(curr_id != row[0]):\n",
    "                loss_dict[curr_id] = np.array(curr_losses).astype(float)\n",
    "                curr_losses = []\n",
    "                curr_id = row[0]\n",
    "            \n",
    "            curr_losses.append(row[2])\n",
    "            \n",
    "    return loss_dict\n",
    "    "
   ]
  },
  {
   "cell_type": "code",
   "execution_count": 87,
   "metadata": {},
   "outputs": [
    {
     "name": "stdout",
     "output_type": "stream",
     "text": [
      "Data loaded, total time: 26.687623977661133\n",
      "Vehicles processed: 300/377, time per step: 3.5940893939659664\n",
      "\n",
      "Total time to calculate loses: 92.13576078414917\n",
      "Loss file written to csv.\n",
      "Total processing time: 92.36598706245422\n"
     ]
    }
   ],
   "source": [
    "def process_file_for_losses(emission_file_path,loss_emission_repo,model,warmup_period=1200):\n",
    "    i24_losses_test = get_losses_complete_obs(emission_file_path,model,warmup_period=warmup_period)\n",
    "    sim_name = get_sim_name(emission_file_path)\n",
    "    file_path_to_write = os.path.join(loss_emission_repo,sim_name)\n",
    "    write_losses_to_file(i24_losses_test,file_path_to_write)\n",
    "    return file_path_to_write\n",
    "    \n",
    "    \n",
    "# loss_emission_repo = '/Volumes/Backup/George_Research/i24_random_sample/part 1/losses/'    \n",
    "    \n",
    "# emission_file_path = '/Volumes/Backup/George_Research/i24_random_sample/part 1/Dur_9.717839924656609_Mag_-1.4249530669819752_Inflow_1800_ACCPenetration_0.2_AttackPenetration_0.1_ver_1.csv'\n",
    "\n",
    "# begin_time = time.time()\n",
    "# process_file_for_losses(emission_file_path,loss_emission_repo,i24_detection_model_retrained,warmup_period=1780)\n",
    "# end_time = time.time()\n",
    "# print('Total processing time: '+str(end_time-begin_time))\n",
    "\n",
    "# write_losses_to_file(i24_losses_test,file_name)"
   ]
  },
  {
   "cell_type": "markdown",
   "metadata": {},
   "source": [
    "# Experiment with detector that has positional knowledge"
   ]
  },
  {
   "cell_type": "code",
   "execution_count": 13,
   "metadata": {},
   "outputs": [
    {
     "name": "stdout",
     "output_type": "stream",
     "text": [
      "Training procedure defined.\n"
     ]
    }
   ],
   "source": [
    "import csv\n",
    "import numpy as np\n",
    "import sys\n",
    "\n",
    "import Detectors.Deep_Learning.AutoEncoders.utils\n",
    "reload(Detectors.Deep_Learning.AutoEncoders.utils)\n",
    "\n",
    "from Detectors.Deep_Learning.AutoEncoders.utils import SeqDataset,train_epoch,eval_data,train_model,get_cnn_lstm_ae_model,make_train_X,sliding_window_mult_feat\n",
    "from Detectors.Deep_Learning.AutoEncoders.utils import get_loss_filter_indiv as loss_smooth\n",
    "from Detectors.Deep_Learning.AutoEncoders.cnn_lstm_ae import CNNRecurrentAutoencoder\n",
    "\n",
    "\n",
    "def get_sim_timeseries(csv_path,warmup_period=0.0):\n",
    "    row_num = 1\n",
    "    curr_veh_id = 'id'\n",
    "    sim_dict = {}\n",
    "    curr_veh_data = []\n",
    "    \n",
    "    edge_list = ['Eastbound_3','Eastbound_4','Eastbound_5','Eastbound_6','Eastbound_7']\n",
    "\n",
    "    with open(csv_path, newline='') as csvfile:\n",
    "        csvreader = csv.reader(csvfile, delimiter=',')\n",
    "        for row in csvreader:\n",
    "            if(row_num > 1):\n",
    "                # Don't read header\n",
    "                if(curr_veh_id != row[1]):\n",
    "                    #Add in new data to the dictionary:\n",
    "\n",
    "                    #Store old data:\n",
    "                    if(len(curr_veh_data)>0):\n",
    "                        sim_dict[curr_veh_id] = np.array(curr_veh_data).astype(float)\n",
    "                        sys.stdout.write('\\r'+'Veh id: '+curr_veh_id+ ' row: ' +str(row_num)+'\\r')\n",
    "                    #Rest where data is being stashed:\n",
    "                    curr_veh_data = []\n",
    "                    curr_veh_id = row[1] # Set new veh id\n",
    "                    #Allocate space for storing:\n",
    "#                     sim_dict[curr_veh_id] = []\n",
    "\n",
    "                curr_veh_id = row[1]\n",
    "                time = float(row[0])\n",
    "                edge = row[-4]\n",
    "                if(time > warmup_period and edge in edge_list):\n",
    "                    # data = [time,speed,headway,leader_rel_speed,x,y]\n",
    "                    data = [row[0],row[4],row[5],row[8],row[2],row[3]]\n",
    "                    curr_veh_data.append(data)\n",
    "            row_num += 1\n",
    "\n",
    "        #Add the very last vehicle's information:\n",
    "        sim_dict[curr_veh_id] = np.array(curr_veh_data).astype(float)\n",
    "        print('Data loaded.')\n",
    "    return sim_dict\n",
    "\n",
    "\n",
    "def train_i24_model(timeseries_dict,n_epoch=60,model=None,seq_len=200):\n",
    "    veh_ids = list(timeseries_dict.keys())\n",
    "    timeseries_list = []\n",
    "    \n",
    "    \n",
    "    x_origin = 5800\n",
    "    y_origin = 21350\n",
    "\n",
    "    for veh_id in veh_ids:\n",
    "        #[time,speed,headway,accel,leader_speed,fuel_consumption]\n",
    "        num_samples = len(timeseries_dict[veh_id][:,0])\n",
    "        if(num_samples > seq_len):\n",
    "            speed = timeseries_dict[veh_id][:,1]\n",
    "            accel = np.gradient(speed,.1)\n",
    "            head_way = timeseries_dict[veh_id][:,2]\n",
    "            rel_vel = timeseries_dict[veh_id][:,3]\n",
    "            x_vals = timeseries_dict[veh_id][:,4] - x_origin\n",
    "            y_vals = timeseries_dict[veh_id][:,5] - y_origin\n",
    "\n",
    "            timeseries_list.append([speed,accel,head_way,rel_vel,x_vals,y_vals])\n",
    "        \n",
    "    train_X = make_train_X(timeseries_list,seq_len=seq_len)\n",
    "    \n",
    "    if(model is None):\n",
    "        model = get_cnn_lstm_ae_model(n_features=6,seq_len=seq_len)\n",
    "    \n",
    "    model_file_name = 'i24_detector_complete_obs_positional'\n",
    "    \n",
    "    print('Beginning training...')\n",
    "    begin_time = time.time()\n",
    "    model = train_model(model,train_X,model_file_name,n_epoch=n_epoch,seq_len=seq_len)\n",
    "    finish_time = time.time()\n",
    "    print('Finished training, total time: '+str(finish_time-begin_time))\n",
    "\n",
    "    return model\n",
    "    \n",
    "print('Training procedure defined.')"
   ]
  },
  {
   "cell_type": "code",
   "execution_count": 8,
   "metadata": {},
   "outputs": [
    {
     "name": "stdout",
     "output_type": "stream",
     "text": [
      "Data loaded._60.647 row: 4714685\n"
     ]
    }
   ],
   "source": [
    "training_file_path = '/Volumes/Backup/George_Research/benign_initial_i24/1800_inflow_0.2_ACC.csv'\n",
    "warump_period = 1200.0\n",
    "timeseries_dict_training = get_sim_timeseries(csv_path=training_file_path,\n",
    "                                              warmup_period=warump_period)\n"
   ]
  },
  {
   "cell_type": "code",
   "execution_count": 14,
   "metadata": {
    "scrolled": true
   },
   "outputs": [
    {
     "name": "stdout",
     "output_type": "stream",
     "text": [
      "Beginning training...\n",
      "Creating new model.\n",
      "Best loss 18689.24545679209\n",
      "Beginning training.\n",
      "Number epochs: 0 epoch step time: 139.00355005264282\n",
      "Epoch 0, total loss 256231443.878906, total predictions 14700, avg loss 17430.710468 2022-06-16 13:05:12.698260\n",
      "Saving model. Best loss: 17430.710467952806\n",
      "Number epochs: 1 epoch step time: 146.45975494384766\n",
      "Saving model. Best loss: 16310.174010948129\n",
      "Number epochs: 2 epoch step time: 144.49372029304504\n",
      "Saving model. Best loss: 15244.240525616497\n",
      "Number epochs: 3 epoch step time: 151.89895510673523\n",
      "Saving model. Best loss: 14257.464796981292\n",
      "Number epochs: 4 epoch step time: 136.01705408096313\n",
      "Saving model. Best loss: 13366.590214445154\n",
      "Number epochs: 5 epoch step time: 134.78955793380737\n",
      "Epoch 5, total loss 184811990.019531, total predictions 14700, avg loss 12572.244219 2022-06-16 13:17:06.358804\n",
      "Saving model. Best loss: 12572.24421901573\n",
      "Number epochs: 6 epoch step time: 128.93833899497986\n",
      "Saving model. Best loss: 11868.471113148384\n",
      "Number epochs: 7 epoch step time: 127.78834915161133\n",
      "Saving model. Best loss: 11247.78666135204\n",
      "Number epochs: 8 epoch step time: 126.55454277992249\n",
      "Saving model. Best loss: 10702.473541400936\n",
      "Number epochs: 9 epoch step time: 124.12588119506836\n",
      "Saving model. Best loss: 10225.10721646471\n",
      "Number epochs: 10 epoch step time: 124.39100289344788\n",
      "Epoch 10, total loss 144190965.984375, total predictions 14700, avg loss 9808.909251 2022-06-16 13:27:38.157850\n",
      "Saving model. Best loss: 9808.909250637755\n",
      "Number epochs: 11 epoch step time: 124.49170303344727\n",
      "Number epochs: 12 epoch step time: 130.04326796531677\n",
      "Saving model. Best loss: 9278.291878188775\n",
      "Number epochs: 13 epoch step time: 127.55358576774597\n",
      "Number epochs: 14 epoch step time: 139.21106100082397\n",
      "Number epochs: 15 epoch step time: 139.0414490699768\n",
      "Epoch 15, total loss 141621142.859375, total predictions 14700, avg loss 9634.091351 2022-06-16 13:38:38.499635\n",
      "Number epochs: 16 epoch step time: 141.4626088142395\n",
      "Number epochs: 17 epoch step time: 149.90662121772766\n",
      "Number epochs: 18 epoch step time: 149.92094206809998\n",
      "Number epochs: 19 epoch step time: 140.02305722236633\n",
      "Number epochs: 20 epoch step time: 141.24217915534973\n",
      "Epoch 20, total loss 139185158.000000, total predictions 14700, avg loss 9468.378095 2022-06-16 13:50:41.055826\n",
      "Number epochs: 21 epoch step time: 144.5085289478302\n",
      "Number epochs: 22 epoch step time: 151.07144784927368\n",
      "Number epochs: 23 epoch step time: 153.00692296028137\n",
      "Number epochs: 24 epoch step time: 146.53069806098938\n",
      "Number epochs: 25 epoch step time: 150.66964197158813\n",
      "Epoch 25, total loss 149901540.183594, total predictions 14700, avg loss 10197.383686 2022-06-16 14:03:06.843878\n",
      "Number epochs: 26 epoch step time: 163.03526997566223\n",
      "Number epochs: 27 epoch step time: 153.3127989768982\n",
      "Number epochs: 28 epoch step time: 146.66845083236694\n",
      "Number epochs: 29 epoch step time: 155.07784295082092\n",
      "Number epochs: 30 epoch step time: 160.215313911438\n",
      "Epoch 30, total loss 118783919.089844, total predictions 14700, avg loss 8080.538714 2022-06-16 14:16:05.155395\n",
      "Saving model. Best loss: 8080.538713594813\n",
      "Number epochs: 31 epoch step time: 151.95181488990784\n",
      "Number epochs: 32 epoch step time: 150.48915195465088\n",
      "Number epochs: 33 epoch step time: 131.74257898330688\n",
      "Number epochs: 34 epoch step time: 126.84981298446655\n",
      "Number epochs: 35 epoch step time: 137.39674496650696\n",
      "Epoch 35, total loss 160231559.558594, total predictions 14700, avg loss 10900.106092 2022-06-16 14:27:43.589369\n",
      "Number epochs: 36 epoch step time: 138.95857691764832\n",
      "Number epochs: 37 epoch step time: 139.50891995429993\n",
      "Number epochs: 38 epoch step time: 159.41947960853577\n",
      "Number epochs: 39 epoch step time: 190.98524498939514\n",
      "Number epochs: 40 epoch step time: 122.2351598739624\n",
      "Epoch 40, total loss 141775723.183594, total predictions 14700, avg loss 9644.607019 2022-06-16 14:40:14.697568\n",
      "Number epochs: 41 epoch step time: 122.14331579208374\n"
     ]
    },
    {
     "ename": "KeyboardInterrupt",
     "evalue": "",
     "output_type": "error",
     "traceback": [
      "\u001b[0;31m---------------------------------------------------------------------------\u001b[0m",
      "\u001b[0;31mKeyboardInterrupt\u001b[0m                         Traceback (most recent call last)",
      "\u001b[0;32m<ipython-input-14-d552f9c26806>\u001b[0m in \u001b[0;36m<module>\u001b[0;34m\u001b[0m\n\u001b[1;32m      2\u001b[0m                 \u001b[0mn_epoch\u001b[0m\u001b[0;34m=\u001b[0m\u001b[0;36m60\u001b[0m\u001b[0;34m,\u001b[0m\u001b[0;34m\u001b[0m\u001b[0;34m\u001b[0m\u001b[0m\n\u001b[1;32m      3\u001b[0m                 \u001b[0mmodel\u001b[0m\u001b[0;34m=\u001b[0m\u001b[0;32mNone\u001b[0m\u001b[0;34m,\u001b[0m\u001b[0;34m\u001b[0m\u001b[0;34m\u001b[0m\u001b[0m\n\u001b[0;32m----> 4\u001b[0;31m                 seq_len=200)\n\u001b[0m",
      "\u001b[0;32m<ipython-input-13-ee2a891fa3fe>\u001b[0m in \u001b[0;36mtrain_i24_model\u001b[0;34m(timeseries_dict, n_epoch, model, seq_len)\u001b[0m\n\u001b[1;32m     82\u001b[0m     \u001b[0mprint\u001b[0m\u001b[0;34m(\u001b[0m\u001b[0;34m'Beginning training...'\u001b[0m\u001b[0;34m)\u001b[0m\u001b[0;34m\u001b[0m\u001b[0;34m\u001b[0m\u001b[0m\n\u001b[1;32m     83\u001b[0m     \u001b[0mbegin_time\u001b[0m \u001b[0;34m=\u001b[0m \u001b[0mtime\u001b[0m\u001b[0;34m.\u001b[0m\u001b[0mtime\u001b[0m\u001b[0;34m(\u001b[0m\u001b[0;34m)\u001b[0m\u001b[0;34m\u001b[0m\u001b[0;34m\u001b[0m\u001b[0m\n\u001b[0;32m---> 84\u001b[0;31m     \u001b[0mmodel\u001b[0m \u001b[0;34m=\u001b[0m \u001b[0mtrain_model\u001b[0m\u001b[0;34m(\u001b[0m\u001b[0mmodel\u001b[0m\u001b[0;34m,\u001b[0m\u001b[0mtrain_X\u001b[0m\u001b[0;34m,\u001b[0m\u001b[0mmodel_file_name\u001b[0m\u001b[0;34m,\u001b[0m\u001b[0mn_epoch\u001b[0m\u001b[0;34m=\u001b[0m\u001b[0mn_epoch\u001b[0m\u001b[0;34m,\u001b[0m\u001b[0mseq_len\u001b[0m\u001b[0;34m=\u001b[0m\u001b[0mseq_len\u001b[0m\u001b[0;34m)\u001b[0m\u001b[0;34m\u001b[0m\u001b[0;34m\u001b[0m\u001b[0m\n\u001b[0m\u001b[1;32m     85\u001b[0m     \u001b[0mfinish_time\u001b[0m \u001b[0;34m=\u001b[0m \u001b[0mtime\u001b[0m\u001b[0;34m.\u001b[0m\u001b[0mtime\u001b[0m\u001b[0;34m(\u001b[0m\u001b[0;34m)\u001b[0m\u001b[0;34m\u001b[0m\u001b[0;34m\u001b[0m\u001b[0m\n\u001b[1;32m     86\u001b[0m     \u001b[0mprint\u001b[0m\u001b[0;34m(\u001b[0m\u001b[0;34m'Finished training, total time: '\u001b[0m\u001b[0;34m+\u001b[0m\u001b[0mstr\u001b[0m\u001b[0;34m(\u001b[0m\u001b[0mfinish_time\u001b[0m\u001b[0;34m-\u001b[0m\u001b[0mbegin_time\u001b[0m\u001b[0;34m)\u001b[0m\u001b[0;34m)\u001b[0m\u001b[0;34m\u001b[0m\u001b[0;34m\u001b[0m\u001b[0m\n",
      "\u001b[0;32m~/Desktop/Research_2022/Anti-Flow/Detectors/Deep_Learning/AutoEncoders/utils.py\u001b[0m in \u001b[0;36mtrain_model\u001b[0;34m(model, train_X, model_file_name, n_epoch, seq_len)\u001b[0m\n\u001b[1;32m    246\u001b[0m \u001b[0;34m\u001b[0m\u001b[0m\n\u001b[1;32m    247\u001b[0m     \u001b[0;32mfor\u001b[0m \u001b[0me\u001b[0m \u001b[0;32min\u001b[0m \u001b[0mrange\u001b[0m\u001b[0;34m(\u001b[0m\u001b[0mn_epoch\u001b[0m\u001b[0;34m)\u001b[0m\u001b[0;34m:\u001b[0m\u001b[0;34m\u001b[0m\u001b[0;34m\u001b[0m\u001b[0m\n\u001b[0;32m--> 248\u001b[0;31m         \u001b[0ml\u001b[0m \u001b[0;34m=\u001b[0m \u001b[0mtrain_epoch\u001b[0m\u001b[0;34m(\u001b[0m\u001b[0mmodel\u001b[0m\u001b[0;34m=\u001b[0m\u001b[0mmodel\u001b[0m\u001b[0;34m,\u001b[0m \u001b[0moptimizer\u001b[0m\u001b[0;34m=\u001b[0m\u001b[0moptimizer\u001b[0m\u001b[0;34m,\u001b[0m \u001b[0mdataloader\u001b[0m\u001b[0;34m=\u001b[0m\u001b[0mtrainloader\u001b[0m\u001b[0;34m)\u001b[0m\u001b[0;34m\u001b[0m\u001b[0;34m\u001b[0m\u001b[0m\n\u001b[0m\u001b[1;32m    249\u001b[0m         \u001b[0mtrain_ls\u001b[0m\u001b[0;34m,\u001b[0m \u001b[0mtrain_tot\u001b[0m \u001b[0;34m=\u001b[0m \u001b[0meval_data\u001b[0m\u001b[0;34m(\u001b[0m\u001b[0mmodel\u001b[0m\u001b[0;34m=\u001b[0m\u001b[0mmodel\u001b[0m\u001b[0;34m,\u001b[0m \u001b[0mdataloader\u001b[0m\u001b[0;34m=\u001b[0m\u001b[0mtrainloader\u001b[0m\u001b[0;34m)\u001b[0m\u001b[0;34m\u001b[0m\u001b[0;34m\u001b[0m\u001b[0m\n\u001b[1;32m    250\u001b[0m         \u001b[0mavg_loss\u001b[0m \u001b[0;34m=\u001b[0m \u001b[0;36m1.0\u001b[0m \u001b[0;34m*\u001b[0m \u001b[0mtrain_ls\u001b[0m \u001b[0;34m/\u001b[0m \u001b[0mtrain_tot\u001b[0m\u001b[0;34m\u001b[0m\u001b[0;34m\u001b[0m\u001b[0m\n",
      "\u001b[0;32m~/Desktop/Research_2022/Anti-Flow/Detectors/Deep_Learning/AutoEncoders/utils.py\u001b[0m in \u001b[0;36mtrain_epoch\u001b[0;34m(model, optimizer, dataloader)\u001b[0m\n\u001b[1;32m     64\u001b[0m         \u001b[0moptimizer\u001b[0m\u001b[0;34m.\u001b[0m\u001b[0mzero_grad\u001b[0m\u001b[0;34m(\u001b[0m\u001b[0;34m)\u001b[0m\u001b[0;34m\u001b[0m\u001b[0;34m\u001b[0m\u001b[0m\n\u001b[1;32m     65\u001b[0m         \u001b[0mB\u001b[0m \u001b[0;34m=\u001b[0m \u001b[0mX\u001b[0m\u001b[0;34m.\u001b[0m\u001b[0mshape\u001b[0m\u001b[0;34m[\u001b[0m\u001b[0;36m0\u001b[0m\u001b[0;34m]\u001b[0m\u001b[0;34m\u001b[0m\u001b[0;34m\u001b[0m\u001b[0m\n\u001b[0;32m---> 66\u001b[0;31m         \u001b[0mpred\u001b[0m \u001b[0;34m=\u001b[0m \u001b[0mmodel\u001b[0m\u001b[0;34m(\u001b[0m\u001b[0mX\u001b[0m\u001b[0;34m.\u001b[0m\u001b[0mfloat\u001b[0m\u001b[0;34m(\u001b[0m\u001b[0;34m)\u001b[0m\u001b[0;34m)\u001b[0m\u001b[0;34m\u001b[0m\u001b[0;34m\u001b[0m\u001b[0m\n\u001b[0m\u001b[1;32m     67\u001b[0m \u001b[0;34m\u001b[0m\u001b[0m\n\u001b[1;32m     68\u001b[0m         \u001b[0;32mif\u001b[0m\u001b[0;34m(\u001b[0m\u001b[0mpred\u001b[0m\u001b[0;34m.\u001b[0m\u001b[0mshape\u001b[0m\u001b[0;34m[\u001b[0m\u001b[0;36m2\u001b[0m\u001b[0;34m]\u001b[0m \u001b[0;34m!=\u001b[0m \u001b[0;36m1\u001b[0m\u001b[0;34m)\u001b[0m\u001b[0;34m:\u001b[0m\u001b[0;34m\u001b[0m\u001b[0;34m\u001b[0m\u001b[0m\n",
      "\u001b[0;32m/opt/anaconda3/envs/anti_flow/lib/python3.7/site-packages/torch/nn/modules/module.py\u001b[0m in \u001b[0;36m_call_impl\u001b[0;34m(self, *input, **kwargs)\u001b[0m\n\u001b[1;32m    725\u001b[0m             \u001b[0mresult\u001b[0m \u001b[0;34m=\u001b[0m \u001b[0mself\u001b[0m\u001b[0;34m.\u001b[0m\u001b[0m_slow_forward\u001b[0m\u001b[0;34m(\u001b[0m\u001b[0;34m*\u001b[0m\u001b[0minput\u001b[0m\u001b[0;34m,\u001b[0m \u001b[0;34m**\u001b[0m\u001b[0mkwargs\u001b[0m\u001b[0;34m)\u001b[0m\u001b[0;34m\u001b[0m\u001b[0;34m\u001b[0m\u001b[0m\n\u001b[1;32m    726\u001b[0m         \u001b[0;32melse\u001b[0m\u001b[0;34m:\u001b[0m\u001b[0;34m\u001b[0m\u001b[0;34m\u001b[0m\u001b[0m\n\u001b[0;32m--> 727\u001b[0;31m             \u001b[0mresult\u001b[0m \u001b[0;34m=\u001b[0m \u001b[0mself\u001b[0m\u001b[0;34m.\u001b[0m\u001b[0mforward\u001b[0m\u001b[0;34m(\u001b[0m\u001b[0;34m*\u001b[0m\u001b[0minput\u001b[0m\u001b[0;34m,\u001b[0m \u001b[0;34m**\u001b[0m\u001b[0mkwargs\u001b[0m\u001b[0;34m)\u001b[0m\u001b[0;34m\u001b[0m\u001b[0;34m\u001b[0m\u001b[0m\n\u001b[0m\u001b[1;32m    728\u001b[0m         for hook in itertools.chain(\n\u001b[1;32m    729\u001b[0m                 \u001b[0m_global_forward_hooks\u001b[0m\u001b[0;34m.\u001b[0m\u001b[0mvalues\u001b[0m\u001b[0;34m(\u001b[0m\u001b[0;34m)\u001b[0m\u001b[0;34m,\u001b[0m\u001b[0;34m\u001b[0m\u001b[0;34m\u001b[0m\u001b[0m\n",
      "\u001b[0;32m~/Desktop/Research_2022/Anti-Flow/Detectors/Deep_Learning/AutoEncoders/cnn_lstm_ae.py\u001b[0m in \u001b[0;36mforward\u001b[0;34m(self, x)\u001b[0m\n\u001b[1;32m     68\u001b[0m         \u001b[0mx\u001b[0m \u001b[0;34m=\u001b[0m \u001b[0mx\u001b[0m\u001b[0;34m.\u001b[0m\u001b[0mto\u001b[0m\u001b[0;34m(\u001b[0m\u001b[0mself\u001b[0m\u001b[0;34m.\u001b[0m\u001b[0mdevice\u001b[0m\u001b[0;34m)\u001b[0m\u001b[0;34m\u001b[0m\u001b[0;34m\u001b[0m\u001b[0m\n\u001b[1;32m     69\u001b[0m         \u001b[0mx\u001b[0m \u001b[0;34m=\u001b[0m \u001b[0mself\u001b[0m\u001b[0;34m.\u001b[0m\u001b[0mencoder\u001b[0m\u001b[0;34m(\u001b[0m\u001b[0mx\u001b[0m\u001b[0;34m)\u001b[0m\u001b[0;34m\u001b[0m\u001b[0;34m\u001b[0m\u001b[0m\n\u001b[0;32m---> 70\u001b[0;31m         \u001b[0mx\u001b[0m \u001b[0;34m=\u001b[0m \u001b[0mself\u001b[0m\u001b[0;34m.\u001b[0m\u001b[0mdecoder\u001b[0m\u001b[0;34m(\u001b[0m\u001b[0mx\u001b[0m\u001b[0;34m)\u001b[0m\u001b[0;34m\u001b[0m\u001b[0;34m\u001b[0m\u001b[0m\n\u001b[0m\u001b[1;32m     71\u001b[0m         \u001b[0;32mreturn\u001b[0m \u001b[0mx\u001b[0m\u001b[0;34m\u001b[0m\u001b[0;34m\u001b[0m\u001b[0m\n\u001b[1;32m     72\u001b[0m \u001b[0;34m\u001b[0m\u001b[0m\n",
      "\u001b[0;32m/opt/anaconda3/envs/anti_flow/lib/python3.7/site-packages/torch/nn/modules/module.py\u001b[0m in \u001b[0;36m_call_impl\u001b[0;34m(self, *input, **kwargs)\u001b[0m\n\u001b[1;32m    725\u001b[0m             \u001b[0mresult\u001b[0m \u001b[0;34m=\u001b[0m \u001b[0mself\u001b[0m\u001b[0;34m.\u001b[0m\u001b[0m_slow_forward\u001b[0m\u001b[0;34m(\u001b[0m\u001b[0;34m*\u001b[0m\u001b[0minput\u001b[0m\u001b[0;34m,\u001b[0m \u001b[0;34m**\u001b[0m\u001b[0mkwargs\u001b[0m\u001b[0;34m)\u001b[0m\u001b[0;34m\u001b[0m\u001b[0;34m\u001b[0m\u001b[0m\n\u001b[1;32m    726\u001b[0m         \u001b[0;32melse\u001b[0m\u001b[0;34m:\u001b[0m\u001b[0;34m\u001b[0m\u001b[0;34m\u001b[0m\u001b[0m\n\u001b[0;32m--> 727\u001b[0;31m             \u001b[0mresult\u001b[0m \u001b[0;34m=\u001b[0m \u001b[0mself\u001b[0m\u001b[0;34m.\u001b[0m\u001b[0mforward\u001b[0m\u001b[0;34m(\u001b[0m\u001b[0;34m*\u001b[0m\u001b[0minput\u001b[0m\u001b[0;34m,\u001b[0m \u001b[0;34m**\u001b[0m\u001b[0mkwargs\u001b[0m\u001b[0;34m)\u001b[0m\u001b[0;34m\u001b[0m\u001b[0;34m\u001b[0m\u001b[0m\n\u001b[0m\u001b[1;32m    728\u001b[0m         for hook in itertools.chain(\n\u001b[1;32m    729\u001b[0m                 \u001b[0m_global_forward_hooks\u001b[0m\u001b[0;34m.\u001b[0m\u001b[0mvalues\u001b[0m\u001b[0;34m(\u001b[0m\u001b[0;34m)\u001b[0m\u001b[0;34m,\u001b[0m\u001b[0;34m\u001b[0m\u001b[0;34m\u001b[0m\u001b[0m\n",
      "\u001b[0;32m~/Desktop/Research_2022/Anti-Flow/Detectors/Deep_Learning/AutoEncoders/cnn_lstm_ae.py\u001b[0m in \u001b[0;36mforward\u001b[0;34m(self, x)\u001b[0m\n\u001b[1;32m     52\u001b[0m         \u001b[0m_batch_size\u001b[0m \u001b[0;34m=\u001b[0m \u001b[0mx\u001b[0m\u001b[0;34m.\u001b[0m\u001b[0mshape\u001b[0m\u001b[0;34m[\u001b[0m\u001b[0;36m0\u001b[0m\u001b[0;34m]\u001b[0m\u001b[0;34m\u001b[0m\u001b[0;34m\u001b[0m\u001b[0m\n\u001b[1;32m     53\u001b[0m         \u001b[0mx\u001b[0m \u001b[0;34m=\u001b[0m \u001b[0mx\u001b[0m\u001b[0;34m.\u001b[0m\u001b[0mrepeat\u001b[0m\u001b[0;34m(\u001b[0m\u001b[0;36m1\u001b[0m\u001b[0;34m,\u001b[0m \u001b[0mself\u001b[0m\u001b[0;34m.\u001b[0m\u001b[0mseq_len\u001b[0m\u001b[0;34m,\u001b[0m \u001b[0;36m1\u001b[0m\u001b[0;34m)\u001b[0m\u001b[0;34m\u001b[0m\u001b[0;34m\u001b[0m\u001b[0m\n\u001b[0;32m---> 54\u001b[0;31m         \u001b[0mx\u001b[0m\u001b[0;34m,\u001b[0m \u001b[0;34m(\u001b[0m\u001b[0mhidden_n\u001b[0m\u001b[0;34m,\u001b[0m \u001b[0mcell_n\u001b[0m\u001b[0;34m)\u001b[0m \u001b[0;34m=\u001b[0m \u001b[0mself\u001b[0m\u001b[0;34m.\u001b[0m\u001b[0mrnn\u001b[0m\u001b[0;34m(\u001b[0m\u001b[0mx\u001b[0m\u001b[0;34m)\u001b[0m\u001b[0;34m\u001b[0m\u001b[0;34m\u001b[0m\u001b[0m\n\u001b[0m\u001b[1;32m     55\u001b[0m         \u001b[0mx\u001b[0m \u001b[0;34m=\u001b[0m \u001b[0mx\u001b[0m\u001b[0;34m.\u001b[0m\u001b[0mreshape\u001b[0m\u001b[0;34m(\u001b[0m\u001b[0;34m(\u001b[0m\u001b[0m_batch_size\u001b[0m\u001b[0;34m,\u001b[0m \u001b[0mself\u001b[0m\u001b[0;34m.\u001b[0m\u001b[0mseq_len\u001b[0m\u001b[0;34m,\u001b[0m \u001b[0mself\u001b[0m\u001b[0;34m.\u001b[0m\u001b[0mhidden_dim\u001b[0m\u001b[0;34m)\u001b[0m\u001b[0;34m)\u001b[0m\u001b[0;34m\u001b[0m\u001b[0;34m\u001b[0m\u001b[0m\n\u001b[1;32m     56\u001b[0m         \u001b[0mx\u001b[0m \u001b[0;34m=\u001b[0m \u001b[0mself\u001b[0m\u001b[0;34m.\u001b[0m\u001b[0moutput_layer\u001b[0m\u001b[0;34m(\u001b[0m\u001b[0mx\u001b[0m\u001b[0;34m)\u001b[0m\u001b[0;34m\u001b[0m\u001b[0;34m\u001b[0m\u001b[0m\n",
      "\u001b[0;32m/opt/anaconda3/envs/anti_flow/lib/python3.7/site-packages/torch/nn/modules/module.py\u001b[0m in \u001b[0;36m_call_impl\u001b[0;34m(self, *input, **kwargs)\u001b[0m\n\u001b[1;32m    725\u001b[0m             \u001b[0mresult\u001b[0m \u001b[0;34m=\u001b[0m \u001b[0mself\u001b[0m\u001b[0;34m.\u001b[0m\u001b[0m_slow_forward\u001b[0m\u001b[0;34m(\u001b[0m\u001b[0;34m*\u001b[0m\u001b[0minput\u001b[0m\u001b[0;34m,\u001b[0m \u001b[0;34m**\u001b[0m\u001b[0mkwargs\u001b[0m\u001b[0;34m)\u001b[0m\u001b[0;34m\u001b[0m\u001b[0;34m\u001b[0m\u001b[0m\n\u001b[1;32m    726\u001b[0m         \u001b[0;32melse\u001b[0m\u001b[0;34m:\u001b[0m\u001b[0;34m\u001b[0m\u001b[0;34m\u001b[0m\u001b[0m\n\u001b[0;32m--> 727\u001b[0;31m             \u001b[0mresult\u001b[0m \u001b[0;34m=\u001b[0m \u001b[0mself\u001b[0m\u001b[0;34m.\u001b[0m\u001b[0mforward\u001b[0m\u001b[0;34m(\u001b[0m\u001b[0;34m*\u001b[0m\u001b[0minput\u001b[0m\u001b[0;34m,\u001b[0m \u001b[0;34m**\u001b[0m\u001b[0mkwargs\u001b[0m\u001b[0;34m)\u001b[0m\u001b[0;34m\u001b[0m\u001b[0;34m\u001b[0m\u001b[0m\n\u001b[0m\u001b[1;32m    728\u001b[0m         for hook in itertools.chain(\n\u001b[1;32m    729\u001b[0m                 \u001b[0m_global_forward_hooks\u001b[0m\u001b[0;34m.\u001b[0m\u001b[0mvalues\u001b[0m\u001b[0;34m(\u001b[0m\u001b[0;34m)\u001b[0m\u001b[0;34m,\u001b[0m\u001b[0;34m\u001b[0m\u001b[0;34m\u001b[0m\u001b[0m\n",
      "\u001b[0;32m/opt/anaconda3/envs/anti_flow/lib/python3.7/site-packages/torch/nn/modules/rnn.py\u001b[0m in \u001b[0;36mforward\u001b[0;34m(self, input, hx)\u001b[0m\n\u001b[1;32m    580\u001b[0m         \u001b[0;32mif\u001b[0m \u001b[0mbatch_sizes\u001b[0m \u001b[0;32mis\u001b[0m \u001b[0;32mNone\u001b[0m\u001b[0;34m:\u001b[0m\u001b[0;34m\u001b[0m\u001b[0;34m\u001b[0m\u001b[0m\n\u001b[1;32m    581\u001b[0m             result = _VF.lstm(input, hx, self._flat_weights, self.bias, self.num_layers,\n\u001b[0;32m--> 582\u001b[0;31m                               self.dropout, self.training, self.bidirectional, self.batch_first)\n\u001b[0m\u001b[1;32m    583\u001b[0m         \u001b[0;32melse\u001b[0m\u001b[0;34m:\u001b[0m\u001b[0;34m\u001b[0m\u001b[0;34m\u001b[0m\u001b[0m\n\u001b[1;32m    584\u001b[0m             result = _VF.lstm(input, batch_sizes, hx, self._flat_weights, self.bias,\n",
      "\u001b[0;31mKeyboardInterrupt\u001b[0m: "
     ]
    }
   ],
   "source": [
    "train_i24_model(timeseries_dict_training,\n",
    "                n_epoch=60,\n",
    "                model=None,\n",
    "                seq_len=200)"
   ]
  }
 ],
 "metadata": {
  "kernelspec": {
   "display_name": "anti_flow",
   "language": "python",
   "name": "anti_flow"
  },
  "language_info": {
   "codemirror_mode": {
    "name": "ipython",
    "version": 3
   },
   "file_extension": ".py",
   "mimetype": "text/x-python",
   "name": "python",
   "nbconvert_exporter": "python",
   "pygments_lexer": "ipython3",
   "version": "3.7.3"
  }
 },
 "nbformat": 4,
 "nbformat_minor": 2
}
