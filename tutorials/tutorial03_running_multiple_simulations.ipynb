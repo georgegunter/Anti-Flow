{
 "cells": [
  {
   "cell_type": "markdown",
   "id": "e8da8951",
   "metadata": {},
   "source": [
    "# Tutorial 03: Running multiple simulations\n",
    "\n",
    "In tutorials 1 and 2 we've seen how to initialize a simulation and run a single instance, and how to design an adversarial agent to degrade the traffic flow. In this tutorial we will look at setting up running a set of simulations, which allows us to vary different paremeters of interest."
   ]
  },
  {
   "cell_type": "markdown",
   "id": "6d4c8329",
   "metadata": {},
   "source": [
    "First, let's re-import the quantities needed from Flow that we used in tutorial 1 to run a ring-road environment. These will be re-usable across different pieces of code we write subsequently."
   ]
  },
  {
   "cell_type": "code",
   "execution_count": 5,
   "id": "730d2db3",
   "metadata": {},
   "outputs": [
    {
     "name": "stdout",
     "output_type": "stream",
     "text": [
      "Imports succesful.\n"
     ]
    }
   ],
   "source": [
    "#Import different needed quantities:\n",
    "from flow.networks.ring import RingNetwork\n",
    "from flow.core.params import VehicleParams\n",
    "from flow.controllers.car_following_models import IDMController #Human driving model\n",
    "from flow.controllers.routing_controllers import ContinuousRouter #Router that keeps vehicles on the ring-road\n",
    "from flow.networks.ring import ADDITIONAL_NET_PARAMS\n",
    "from flow.core.params import NetParams\n",
    "from flow.core.params import InitialConfig\n",
    "from flow.core.params import TrafficLightParams\n",
    "from flow.envs.ring.accel import AccelEnv\n",
    "from flow.envs.ring.accel import ADDITIONAL_ENV_PARAMS\n",
    "from flow.core.params import SumoParams\n",
    "from flow.core.params import EnvParams\n",
    "from flow.core.experiment import Experiment\n",
    "\n",
    "print('Imports succesful.')"
   ]
  },
  {
   "cell_type": "markdown",
   "id": "79ab35d3",
   "metadata": {},
   "source": [
    "Next, let's take the code that we used to instantiate and run a simulation, but wrap it inside of a function this time. Additionally, let's pass an argument to the function which sets the length of the ring to a custom value:"
   ]
  },
  {
   "cell_type": "code",
   "execution_count": 27,
   "id": "3dbf6275",
   "metadata": {},
   "outputs": [
    {
     "name": "stdout",
     "output_type": "stream",
     "text": [
      "Simulation function defined.\n"
     ]
    }
   ],
   "source": [
    "def run_ring_sim_no_attack(ring_length):\n",
    "    #Simulation parameters:\n",
    "    time_step = 0.1 #In seconds, how far each step of the simulation goes.\n",
    "    emission_path = 'data' #Where\n",
    "    want_render = False #If we want SUMO to render the environment and display the simulation.\n",
    "    sim_horizon = 5000 #How many simulation steps will be taken -> Runs for 300 seconds\n",
    "\n",
    "    #initialize the simulation using above parameters:\n",
    "    traffic_lights = TrafficLightParams() #This is empty, so no traffic lights are used.\n",
    "    initial_config = InitialConfig(spacing=\"uniform\", perturbation=1) #Vehicles start out evenly spaced.\n",
    "    vehicles = VehicleParams() #The vehicles object will store different classes of drivers:\n",
    "    sim_params = SumoParams(sim_step=time_step, render=want_render, emission_path=emission_path) #Sets the simulation time-step and where data will be recorded.\n",
    "    env_params = EnvParams(additional_params=ADDITIONAL_ENV_PARAMS)\n",
    "    net_params = NetParams(additional_params={'length':ring_length,\n",
    "                                              'lanes':1,\n",
    "                                              'speed_limit': 30,\n",
    "                                              'resolution': 40})\n",
    "\n",
    "    #Specify how human driven vehicles will drive:\n",
    "    num_human_drivers = 20\n",
    "    # Define a driver model human drivers:\n",
    "    vehicles.add(\"human\",\n",
    "                 acceleration_controller=(IDMController, {'noise':0.1}),\n",
    "                 routing_controller=(ContinuousRouter, {}),\n",
    "                 num_vehicles=num_human_drivers)\n",
    "\n",
    "\n",
    "    #initialize the simulation:\n",
    "    flow_params = dict(\n",
    "        exp_tag='ring_no_attack',\n",
    "        env_name=AccelEnv,\n",
    "        network=RingNetwork,\n",
    "        simulator='traci',\n",
    "        sim=sim_params,\n",
    "        env=env_params,\n",
    "        net=net_params,\n",
    "        veh=vehicles,\n",
    "        initial=initial_config,\n",
    "        tls=traffic_lights,\n",
    "    )\n",
    "\n",
    "    flow_params['env'].horizon = sim_horizon\n",
    "    exp = Experiment(flow_params)\n",
    "    print('Running ring simulation, ring length: '+str(ring_length))\n",
    "    \n",
    "    sim_res_list = exp.run(1, convert_to_csv=True)\n",
    "    \n",
    "    return sim_res_list\n",
    "\n",
    "print('Simulation function defined.')\n"
   ]
  },
  {
   "cell_type": "markdown",
   "id": "3aa904a9",
   "metadata": {},
   "source": [
    "Let's run a brief test to make sure it's working:"
   ]
  },
  {
   "cell_type": "code",
   "execution_count": 7,
   "id": "f5930f48",
   "metadata": {},
   "outputs": [
    {
     "name": "stdout",
     "output_type": "stream",
     "text": [
      "Running ring simulation, ring length: 500\n",
      "Round 0, return: 1543.5124293802355\n",
      "data/ring_no_attack_20211222-1837301640216250.8573399-0_emission.csv data\n",
      "Average, std returns: 1543.5124293802355, 0.0\n",
      "Average, std velocities: 16.694649748927223, 0.0\n",
      "Average, std outflows: 0.0, 0.0\n",
      "Total time: 35.85313010215759\n",
      "steps/second: 173.65488150263565\n"
     ]
    },
    {
     "data": {
      "text/plain": [
       "[{'returns': [1543.5124293802355],\n",
       "  'velocities': [16.694649748927223],\n",
       "  'outflows': [0.0]},\n",
       " 'data/ring_no_attack_20211222-1837301640216250.8573399-0_emission.csv']"
      ]
     },
     "execution_count": 7,
     "metadata": {},
     "output_type": "execute_result"
    }
   ],
   "source": [
    "ring_length = 500\n",
    "sim_res_list = run_ring_sim_no_attack(ring_length)"
   ]
  },
  {
   "cell_type": "markdown",
   "id": "9cfba635",
   "metadata": {},
   "source": [
    "run_ring_sim_no_attack(ring_length) runs a ring simulation using the IDM cfm with a custom ring_length and returns the simulation results, which includes the path to the data file generated. Let's write one more function to extract quantities of interest from a simulation."
   ]
  },
  {
   "cell_type": "code",
   "execution_count": null,
   "id": "1719a921",
   "metadata": {},
   "outputs": [],
   "source": [
    "import os\n",
    "import numpy as np\n",
    "import flow.visualize.visualize_ring as visualize_ring\n",
    "\n",
    "def get_sim_results(sim_res_list):\n",
    "    emission_path = os.path.join(os.getcwd(),sim_res_list[1])\n",
    "    timeseries_dict = visualize_ring.get_sim_timeseries(csv_path = emission_path)\n",
    "    \n",
    "    speeds = []\n",
    "    fuel_consumptions = []\n",
    "    for veh_id in timeseries_dict:\n",
    "        speed = timeseries_dict[veh_id][:,1]\n",
    "        fuel_consumption = timeseries_dict[veh_id][:,5]\n",
    "        \n",
    "        #Select the last half of the simulation:\n",
    "        speeds.append(speed[3000:])\n",
    "        fuel_consumptions.append(fuel_consumption[3000:])\n",
    "        \n",
    "    speeds = np.array(speeds)\n",
    "    fuel_consumptions = np.array(fuel_consumptions)\n",
    "    \n",
    "    mean_speed = np.mean(speeds)\n",
    "    std_speed = np.std(speeds)\n",
    "    mean_fuel_consumption = np.mean(fuel_consumptions)\n",
    "    \n",
    "    return [mean_speed,std_speed,mean_fuel_consumption]\n",
    "\n",
    "print('Simulation results function defined.')"
   ]
  },
  {
   "cell_type": "markdown",
   "id": "b913b0cd",
   "metadata": {},
   "source": [
    "Let's now look the affect that sweeping across different ring lengths will have on the different quantities of interest. Fair warning: On my Quad-Core Intel Core i5 MacBook this took 145.5 seconds to run."
   ]
  },
  {
   "cell_type": "code",
   "execution_count": 28,
   "id": "21aeae9d",
   "metadata": {
    "scrolled": true
   },
   "outputs": [
    {
     "name": "stdout",
     "output_type": "stream",
     "text": [
      "Running ring simulation, ring length: 300\n",
      "Round 0, return: 4036.9678775874404\n",
      "data/ring_no_attack_20211223-0931521640269912.4807732-0_emission.csv data\n",
      "Average, std returns: 4036.9678775874404, 0.0\n",
      "Average, std velocities: 8.309804851700001, 0.0\n",
      "Average, std outflows: 0.0, 0.0\n",
      "Total time: 26.46195125579834\n",
      "steps/second: 216.73561287270445\n",
      "Running ring simulation, ring length: 400\n",
      "Round 0, return: 3427.882049880898\n",
      "data/ring_no_attack_20211223-0932201640269940.0489159-0_emission.csv data\n",
      "Average, std returns: 3427.882049880898, 0.0\n",
      "Average, std velocities: 12.907723032053259, 0.0\n",
      "Average, std outflows: 0.0, 0.0\n",
      "Total time: 27.069471836090088\n",
      "steps/second: 209.7329529751265\n",
      "Running ring simulation, ring length: 500\n",
      "Round 0, return: 1543.4732110376124\n",
      "data/ring_no_attack_20211223-0932481640269968.2175229-0_emission.csv data\n",
      "Average, std returns: 1543.4732110376124, 0.0\n",
      "Average, std velocities: 16.694782812656165, 0.0\n",
      "Average, std outflows: 0.0, 0.0\n",
      "Total time: 26.942538022994995\n",
      "steps/second: 212.73662981380858\n",
      "Running ring simulation, ring length: 600\n",
      "Round 0, return: 152.56859863228277\n",
      "data/ring_no_attack_20211223-0933161640269996.2510002-0_emission.csv data\n",
      "Average, std returns: 152.56859863228277, 0.0\n",
      "Average, std velocities: 19.501610587708505, 0.0\n",
      "Average, std outflows: 0.0, 0.0\n",
      "Total time: 28.023942947387695\n",
      "steps/second: 205.5388713651496\n",
      "Running ring simulation, ring length: 700\n",
      "Round 0, return: 129.26486276033427\n",
      "data/ring_no_attack_20211223-0933451640270025.365006-0_emission.csv data\n",
      "Average, std returns: 129.26486276033427, 0.0\n",
      "Average, std velocities: 21.430551455342165, 0.0\n",
      "Average, std outflows: 0.0, 0.0\n",
      "Total time: 27.079365968704224\n",
      "steps/second: 209.71857081264517\n",
      "Data loaded.\n",
      "Data loaded.\n",
      "Data loaded.\n",
      "Data loaded.\n",
      "Data loaded.\n",
      "Total computation time: 145.52751088142395\n"
     ]
    }
   ],
   "source": [
    "import time\n",
    "\n",
    "begin_compute_time = time.time()\n",
    "\n",
    "ring_length_values = [300,400,500,600,700] #Different ring lengths\n",
    "sim_res_values = [] #Where sim_res_list is stored\n",
    "for ring_length in ring_length_values:\n",
    "    sim_res_list = run_ring_sim_no_attack(ring_length)\n",
    "    sim_res_values.append(sim_res_list)\n",
    "\n",
    "# Get quantities of interest from each simulation:\n",
    "ring_length_sim_sweep_results = []\n",
    "for sim_res_list in sim_res_values:\n",
    "    ring_length_sim_sweep_results.append(get_sim_results(sim_res_list))\n",
    "ring_length_sim_sweep_results = np.array(ring_length_sim_sweep_results)\n",
    "\n",
    "end_compute_time = time.time()\n",
    "print('Total computation time: '+str(end_compute_time-begin_compute_time))\n",
    "\n"
   ]
  },
  {
   "cell_type": "markdown",
   "id": "58cb40e8",
   "metadata": {},
   "source": [
    "Let's plot the results now to visualize:"
   ]
  },
  {
   "cell_type": "code",
   "execution_count": 38,
   "id": "07b84169",
   "metadata": {},
   "outputs": [
    {
     "data": {
      "image/png": "[encoded data removed]",
      "text/plain": [
       "<Figure size 1080x720 with 3 Axes>"
      ]
     },
     "metadata": {
      "needs_background": "light"
     },
     "output_type": "display_data"
    }
   ],
   "source": [
    "import matplotlib.pyplot as plt\n",
    "fontsize=15\n",
    "markersize=15\n",
    "\n",
    "plt.figure(figsize=[15,10])\n",
    "plt.subplot(3,1,1)\n",
    "plt.plot(ring_length_values,ring_length_sim_sweep_results[:,0],'.',markersize=markersize)\n",
    "plt.ylabel('Mean speed [m/s]',fontsize=fontsize)\n",
    "plt.grid()\n",
    "plt.subplot(3,1,2)\n",
    "plt.plot(ring_length_values,ring_length_sim_sweep_results[:,1],'.',markersize=markersize)\n",
    "plt.ylabel('Speed standard dev. [m/s]',fontsize=fontsize)\n",
    "plt.grid()\n",
    "plt.subplot(3,1,3)\n",
    "plt.plot(ring_length_values,ring_length_sim_sweep_results[:,2],'.',markersize=markersize)\n",
    "plt.ylabel('Mean fuel consumption rate',fontsize=fontsize)\n",
    "plt.xlabel('Ring length [m]',fontsize=fontsize)\n",
    "plt.grid()"
   ]
  },
  {
   "cell_type": "markdown",
   "id": "1788546e",
   "metadata": {},
   "source": [
    "In the context of Anti-Flow one of the most important pieces of analysis is understanding how different instances of an attack model can affect a traffic flow. Let's now look at the attack model introduced in tutorial_02. This controller had effectively 3 parameters: v_des, braking_rate, and braking_period. Let's investigate the effect that varying v_des has on the traffic flow.\n",
    "\n",
    "First, we redefine the control model:"
   ]
  },
  {
   "cell_type": "code",
   "execution_count": 40,
   "id": "2dcd05fa",
   "metadata": {},
   "outputs": [
    {
     "name": "stdout",
     "output_type": "stream",
     "text": [
      "Adversarial AV initialized.\n"
     ]
    }
   ],
   "source": [
    "from Adversaries.controllers.base_controller import BaseController\n",
    "\n",
    "class cfm_adversarial(BaseController):\n",
    "    def __init__(self,\n",
    "                 veh_id,\n",
    "                 car_following_params,\n",
    "                 delay=0.0,\n",
    "                 noise=0.0,\n",
    "                 fail_safe=None,\n",
    "                 v_des=10.0,\n",
    "                 braking_period = 5.0,\n",
    "                 braking_rate = - 2.0):\n",
    "        #Inherit the base controller:\n",
    "        BaseController.__init__(\n",
    "            self,\n",
    "            veh_id,\n",
    "            car_following_params,\n",
    "            delay=delay,\n",
    "            fail_safe=fail_safe,\n",
    "            noise=noise)\n",
    "        \n",
    "        self.braking_period = braking_period #How long the mAV brakes for\n",
    "        self.braking_rate = braking_rate #How hard the mAV brakes\n",
    "        self.curr_braking_period = 0.0 #Keeps track of braking\n",
    "        self.is_braking = False #Whether or not engaged in braking\n",
    "        self.v_des = v_des #If not braking, what speed the mAV tries to drive at\n",
    "                \n",
    "    def get_accel(self, env):\n",
    "        lead_id = env.k.vehicle.get_leader(self.veh_id) #Who is the leader\n",
    "        v_l = env.k.vehicle.get_speed(lead_id) #Leader speed\n",
    "        v = env.k.vehicle.get_speed(self.veh_id) #vehicle's own speed\n",
    "        s = env.k.vehicle.get_headway(self.veh_id) #inter-vehicle spacing to leader\n",
    "        u = 0.0\n",
    "        \n",
    "        #If the vehicle gets too close it brakes for a long period of time:\n",
    "        if(s < 5.0):\n",
    "            self.is_braking = True\n",
    "\n",
    "        #Engaged in braking:    \n",
    "        if(self.is_braking):\n",
    "            u = self.braking_rate\n",
    "            self.curr_braking_period += env.sim_step\n",
    "            if(self.curr_braking_period>=self.braking_period):\n",
    "                self.curr_braking_period = 0.0\n",
    "                self.is_braking = False\n",
    "                \n",
    "        #Managing speed:\n",
    "        else:\n",
    "            u = 0.1*(self.v_des - v) #Simple proportional speed control\n",
    "            \n",
    "        return u #return the acceleration that is set above.\n",
    "        \n",
    "    def get_custom_accel(self, v, v_l, s):\n",
    "        \"\"\"Leave as 0.0 since behavior has memory\"\"\"\n",
    "        return 0.0\n",
    "    \n",
    "    print('Adversarial AV initialized.')"
   ]
  },
  {
   "cell_type": "markdown",
   "id": "459ec804",
   "metadata": {},
   "source": [
    "Now let's define another simulation function which accepts the different attack model parameters as inputs:"
   ]
  },
  {
   "cell_type": "code",
   "execution_count": 46,
   "id": "f5230d53",
   "metadata": {},
   "outputs": [
    {
     "name": "stdout",
     "output_type": "stream",
     "text": [
      "Attack Simulation function defined.\n"
     ]
    }
   ],
   "source": [
    "def run_ring_sim_with_attack(ring_length=300,\n",
    "                           v_des=10.0,\n",
    "                           braking_period = 10.0,\n",
    "                           braking_rate= -2.0):\n",
    "    #Simulation parameters:\n",
    "    time_step = 0.1 #In seconds, how far each step of the simulation goes.\n",
    "    emission_path = 'data' #Where\n",
    "    want_render = False #If we want SUMO to render the environment and display the simulation.\n",
    "    sim_horizon = 5000 #How many simulation steps will be taken -> Runs for 300 seconds\n",
    "\n",
    "    #initialize the simulation using above parameters:\n",
    "    traffic_lights = TrafficLightParams() #This is empty, so no traffic lights are used.\n",
    "    initial_config = InitialConfig(spacing=\"uniform\", perturbation=1) #Vehicles start out evenly spaced.\n",
    "    vehicles = VehicleParams() #The vehicles object will store different classes of drivers:\n",
    "    sim_params = SumoParams(sim_step=time_step, render=want_render, emission_path=emission_path) #Sets the simulation time-step and where data will be recorded.\n",
    "    env_params = EnvParams(additional_params=ADDITIONAL_ENV_PARAMS)\n",
    "    net_params = NetParams(additional_params={'length':ring_length,\n",
    "                                              'lanes':1,\n",
    "                                              'speed_limit': 30,\n",
    "                                              'resolution': 40})\n",
    "\n",
    "    #Specify how human driven vehicles will drive:\n",
    "    num_human_drivers = 19\n",
    "    # Define a driver model human drivers:\n",
    "    vehicles.add(\"human\",\n",
    "                 acceleration_controller=(IDMController, {'noise':0.1}),\n",
    "                 routing_controller=(ContinuousRouter, {}),\n",
    "                 num_vehicles=num_human_drivers)\n",
    "    \n",
    "    vehicles.add(veh_id=\"Adv_AV\",\n",
    "             color=\"red\", #Let's make the adversary red\n",
    "             acceleration_controller=(cfm_adversarial, {'v_des':v_des,\n",
    "                                                        'braking_rate':braking_rate,\n",
    "                                                        'braking_period':braking_period}),\n",
    "             routing_controller=(ContinuousRouter, {}),\n",
    "             num_vehicles=1)\n",
    "\n",
    "    #initialize the simulation:\n",
    "    flow_params = dict(\n",
    "        exp_tag='ring_with_attack',\n",
    "        env_name=AccelEnv,\n",
    "        network=RingNetwork,\n",
    "        simulator='traci',\n",
    "        sim=sim_params,\n",
    "        env=env_params,\n",
    "        net=net_params,\n",
    "        veh=vehicles,\n",
    "        initial=initial_config,\n",
    "        tls=traffic_lights,\n",
    "    )\n",
    "\n",
    "    flow_params['env'].horizon = sim_horizon\n",
    "    exp = Experiment(flow_params)\n",
    "    print('Running ring attack, v_des: '+str(v_des))\n",
    "    \n",
    "    sim_res_list = exp.run(1, convert_to_csv=True)\n",
    "    \n",
    "    return sim_res_list\n",
    "\n",
    "print('Attack Simulation function defined.')"
   ]
  },
  {
   "cell_type": "markdown",
   "id": "27fbdb88",
   "metadata": {},
   "source": [
    "Let's specifically look at varying v_des:"
   ]
  },
  {
   "cell_type": "code",
   "execution_count": 44,
   "id": "94cd42d2",
   "metadata": {
    "scrolled": true
   },
   "outputs": [
    {
     "name": "stdout",
     "output_type": "stream",
     "text": [
      "Running ring simulation, ring length: 300\n",
      "Round 0, return: 567.9537677166932\n",
      "data/ring_with_attack_20211223-1203231640279003.9762912-0_emission.csv data\n",
      "Average, std returns: 567.9537677166932, 0.0\n",
      "Average, std velocities: 1.1594783893568288, 0.0\n",
      "Average, std outflows: 0.0, 0.0\n",
      "Total time: 21.585878133773804\n",
      "steps/second: 265.45936635257766\n",
      "Running ring simulation, ring length: 300\n",
      "Round 0, return: 1534.4568316301418\n",
      "data/ring_with_attack_20211223-1203461640279026.730783-0_emission.csv data\n",
      "Average, std returns: 1534.4568316301418, 0.0\n",
      "Average, std velocities: 3.087095096427138, 0.0\n",
      "Average, std outflows: 0.0, 0.0\n",
      "Total time: 22.75223398208618\n",
      "steps/second: 249.05286249625198\n",
      "Running ring simulation, ring length: 300\n",
      "Round 0, return: 2495.071804627135\n",
      "data/ring_with_attack_20211223-1204101640279050.5781991-0_emission.csv data\n",
      "Average, std returns: 2495.071804627135, 0.0\n",
      "Average, std velocities: 5.003441256280003, 0.0\n",
      "Average, std outflows: 0.0, 0.0\n",
      "Total time: 23.853082180023193\n",
      "steps/second: 238.76707855729782\n",
      "Running ring simulation, ring length: 300\n",
      "Round 0, return: 3464.170282774995\n",
      "data/ring_with_attack_20211223-1204351640279075.5323699-0_emission.csv data\n",
      "Average, std returns: 3464.170282774995, 0.0\n",
      "Average, std velocities: 6.937414251967318, 0.0\n",
      "Average, std outflows: 0.0, 0.0\n",
      "Total time: 24.60055184364319\n",
      "steps/second: 230.7713710056694\n",
      "Running ring simulation, ring length: 300\n",
      "Round 0, return: 4136.644733472328\n",
      "data/ring_with_attack_20211223-1205011640279101.225527-0_emission.csv data\n",
      "Average, std returns: 4136.644733472328, 0.0\n",
      "Average, std velocities: 8.302365775674689, 0.0\n",
      "Average, std outflows: 0.0, 0.0\n",
      "Total time: 25.609766244888306\n",
      "steps/second: 221.97665877481475\n",
      "Running ring simulation, ring length: 300\n",
      "Round 0, return: 4138.572963915677\n",
      "data/ring_with_attack_20211223-1205271640279127.9312599-0_emission.csv data\n",
      "Average, std returns: 4138.572963915677, 0.0\n",
      "Average, std velocities: 8.356836801994055, 0.0\n",
      "Average, std outflows: 0.0, 0.0\n",
      "Total time: 25.607388019561768\n",
      "steps/second: 222.49643044923008\n",
      "Data loaded.\n",
      "Data loaded.\n",
      "Data loaded.\n",
      "Data loaded.\n",
      "Data loaded.\n",
      "Data loaded.\n",
      "Total computation time: 155.77718997001648\n"
     ]
    }
   ],
   "source": [
    "begin_compute_time = time.time()\n",
    "\n",
    "v_des_vals = [1.0,3.0,5.0,7.0,9.0,11.0] #Different ring lengths\n",
    "sim_res_values = [] #Where sim_res_list is stored\n",
    "for v_des in v_des_vals:\n",
    "    sim_res_list = run_ring_sim_with_attack(v_des=v_des)\n",
    "    sim_res_values.append(sim_res_list)\n",
    "\n",
    "# Get quantities of interest from each simulation:\n",
    "ring_attack_sim_sweep_results = []\n",
    "for sim_res_list in sim_res_values:\n",
    "    ring_attack_sim_sweep_results.append(get_sim_results(sim_res_list))\n",
    "ring_attack_sim_sweep_results = np.array(ring_attack_sim_sweep_results)\n",
    "\n",
    "end_compute_time = time.time()\n",
    "print('Total computation time: '+str(end_compute_time-begin_compute_time))\n"
   ]
  },
  {
   "cell_type": "markdown",
   "id": "c4e24ba2",
   "metadata": {},
   "source": [
    "Again, we can visualize the results of the parameter sweep:"
   ]
  },
  {
   "cell_type": "code",
   "execution_count": 48,
   "id": "4b601746",
   "metadata": {},
   "outputs": [
    {
     "data": {
      "image/png": "[encoded data removed]",
      "text/plain": [
       "<Figure size 1080x720 with 3 Axes>"
      ]
     },
     "metadata": {
      "needs_background": "light"
     },
     "output_type": "display_data"
    }
   ],
   "source": [
    "import matplotlib.pyplot as plt\n",
    "fontsize=15\n",
    "markersize=15\n",
    "\n",
    "plt.figure(figsize=[15,10])\n",
    "plt.subplot(3,1,1)\n",
    "plt.plot(v_des_vals,ring_attack_sim_sweep_results[:,0],'.',markersize=markersize)\n",
    "plt.ylabel('Mean speed [m/s]',fontsize=fontsize)\n",
    "plt.grid()\n",
    "plt.subplot(3,1,2)\n",
    "plt.plot(v_des_vals,ring_attack_sim_sweep_results[:,1],'.',markersize=markersize)\n",
    "plt.ylabel('Speed standard dev. [m/s]',fontsize=fontsize)\n",
    "plt.grid()\n",
    "plt.subplot(3,1,3)\n",
    "plt.plot(v_des_vals,ring_attack_sim_sweep_results[:,2],'.',markersize=markersize)\n",
    "plt.ylabel('Mean fuel consumption rate',fontsize=fontsize)\n",
    "plt.xlabel('v_des [m/s]',fontsize=fontsize)\n",
    "plt.grid()"
   ]
  },
  {
   "cell_type": "markdown",
   "id": "10d1062e",
   "metadata": {},
   "source": [
    "It's interesting to note that depending on what criteria the attacking agent is most interested in, different choices of v_des migth be more or less desirable."
   ]
  },
  {
   "cell_type": "markdown",
   "id": "89658c4d",
   "metadata": {},
   "source": [
    "## General advice:\n",
    "\n",
    "Any given traffic simulation in Anti-Flow may have tens to hundreds of different parameters that could be varied/explored, however many may not change the simulation results much if changed. We recommend when trying to explore a traffic environment to try and isolate the set of parameters which are of most significance, or which might vary the most in a real world environment, rather than trying to sweep across all possible model parameter sets. \n",
    "\n",
    "As simulations grow in time and the number of vehicles on the network, so to will the size of simulation data files. Be warned that for sufficiently large simulations memory may become a legitimate issue."
   ]
  }
 ],
 "metadata": {
  "kernelspec": {
   "display_name": "anti_flow",
   "language": "python",
   "name": "anti_flow"
  },
  "language_info": {
   "codemirror_mode": {
    "name": "ipython",
    "version": 3
   },
   "file_extension": ".py",
   "mimetype": "text/x-python",
   "name": "python",
   "nbconvert_exporter": "python",
   "pygments_lexer": "ipython3",
   "version": "3.7.3"
  }
 },
 "nbformat": 4,
 "nbformat_minor": 5
}
