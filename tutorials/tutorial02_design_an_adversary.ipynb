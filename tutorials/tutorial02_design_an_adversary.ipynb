{
 "cells": [
  {
   "cell_type": "markdown",
   "id": "ae44755d",
   "metadata": {},
   "source": [
    "# Tutorial 02: Designing an adversary\n",
    "\n",
    "In order for an attack to be executed a model for how attacking vehicles should behave. In Anti-Flow this is done by taking advantage of the controller class in Flow, which specifies different components for how vehicles driver. In this tutorial we present the basic architecture for writing a car-following controller and then a lane-changing controller. We then implement simple adversarial controllers of those types, which we then simulate attacking a traffic flow."
   ]
  },
  {
   "cell_type": "markdown",
   "id": "a43d8546",
   "metadata": {},
   "source": [
    "Here we present the basic structure for a car-following controller:"
   ]
  },
  {
   "cell_type": "code",
   "execution_count": 3,
   "id": "ec48b4f7",
   "metadata": {},
   "outputs": [],
   "source": [
    "# First, we import a Base Controller, which other controllers inherit from:\n",
    "import numpy as np\n",
    "from Adversaries.controllers.base_controller import BaseController"
   ]
  },
  {
   "cell_type": "markdown",
   "id": "53f236f7",
   "metadata": {},
   "source": [
    "Let's start with a car-following controller. These dictate how a car moves laterally, and in Anti-Flow/Flow are typically acceleration based, and in the traffic literature are commonly referred to as car-following models (CFMs). First, we're going to design a 'normal' cfm, representing a non attacked vehicle."
   ]
  },
  {
   "cell_type": "code",
   "execution_count": null,
   "id": "e4a0ab2f",
   "metadata": {},
   "outputs": [],
   "source": [
    "class cfm_non_adversarial(BaseController):\n",
    "    def __init__(self,\n",
    "                 veh_id,\n",
    "                 car_following_params,\n",
    "                 delay=0.0,\n",
    "                 noise=0.0,\n",
    "                 fail_safe=None):\n",
    "        #Inherit the base controller:\n",
    "        BaseController.__init__(\n",
    "            self,\n",
    "            veh_id,\n",
    "            car_following_params,\n",
    "            delay=delay,\n",
    "            fail_safe=fail_safe,\n",
    "            noise=noise)\n",
    "        \n",
    "        def get_accel(self, env):\n",
    "        \"\"\"This function is queried during \"\"\"\n",
    "        \n",
    "        return self.a #return the acceleration that is set above.\n",
    "        \n",
    "    def get_custom_accel(self, this_vel, lead_vel, h):\n",
    "        \"\"\"See parent class.\"\"\"\n",
    "        # Not implemented...\n",
    "        return self.a\n",
    "        "
   ]
  }
 ],
 "metadata": {
  "kernelspec": {
   "display_name": "anti_flow",
   "language": "python",
   "name": "anti_flow"
  },
  "language_info": {
   "codemirror_mode": {
    "name": "ipython",
    "version": 3
   },
   "file_extension": ".py",
   "mimetype": "text/x-python",
   "name": "python",
   "nbconvert_exporter": "python",
   "pygments_lexer": "ipython3",
   "version": "3.7.3"
  }
 },
 "nbformat": 4,
 "nbformat_minor": 5
}
