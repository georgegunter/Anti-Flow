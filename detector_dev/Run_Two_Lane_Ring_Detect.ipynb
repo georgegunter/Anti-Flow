{
 "cells": [
  {
   "cell_type": "code",
   "execution_count": 3,
   "id": "b588f67c",
   "metadata": {},
   "outputs": [
    {
     "name": "stdout",
     "output_type": "stream",
     "text": [
      "1.7.1\n",
      "Libraries loaded.\n"
     ]
    }
   ],
   "source": [
    "import numpy as np\n",
    "import matplotlib.pyplot as plt\n",
    "from importlib import reload\n",
    "\n",
    "import Detectors.Deep_Learning.AutoEncoders.utils\n",
    "reload(Detectors.Deep_Learning.AutoEncoders.utils)\n",
    "from Detectors.Deep_Learning.AutoEncoders.utils import SeqDataset,train_epoch,eval_data,train_model\n",
    "\n",
    "import flow.visualize.visualize_ring as visualize_ring\n",
    "reload(visualize_ring)\n",
    "from flow.visualize.visualize_ring import get_measured_leader,get_rel_dist_to_measured_leader,get_vel_of_measured_leader\n",
    "\n",
    "\n",
    "import torch\n",
    "print(torch.__version__)\n",
    "\n",
    "# Anti-Flow specific functions for  detection:\n",
    "\n",
    "from Detectors.Deep_Learning.AutoEncoders.utils import sliding_window\n",
    "from Detectors.Deep_Learning.AutoEncoders.cnn_lstm_ae import CNNRecurrentAutoencoder\n",
    "\n",
    "import utils\n",
    "reload(utils)\n",
    "from utils import Bando_OVM_FTL\n",
    "\n",
    "import os\n",
    "\n",
    "import Adversaries.controllers.car_following_adversarial\n",
    "from Adversaries.controllers.car_following_adversarial import FollowerStopper_Overreact\n",
    "from Adversaries.controllers.car_following_adversarial import ACC_Benign\n",
    "\n",
    "print('Libraries loaded.')"
   ]
  },
  {
   "cell_type": "code",
   "execution_count": 4,
   "id": "b57ae4f9",
   "metadata": {},
   "outputs": [
    {
     "name": "stdout",
     "output_type": "stream",
     "text": [
      "Flow packages imported.\n"
     ]
    }
   ],
   "source": [
    "from flow.networks.ring import RingNetwork\n",
    "from flow.core.params import VehicleParams\n",
    "\n",
    "from flow.controllers.car_following_models import IDMController #Human driving model\n",
    "from flow.controllers.routing_controllers import ContinuousRouter #Router that keeps vehicles on the ring-road\n",
    "\n",
    "from flow.controllers.lane_change_controllers import AILaneChangeController,StaticLaneChanger\n",
    "\n",
    "\n",
    "from flow.networks.ring import ADDITIONAL_NET_PARAMS\n",
    "from flow.core.params import NetParams\n",
    "from flow.core.params import InitialConfig\n",
    "from flow.core.params import TrafficLightParams\n",
    "from flow.envs.ring.accel import AccelEnv\n",
    "from flow.envs.ring.accel import ADDITIONAL_ENV_PARAMS\n",
    "from flow.core.params import SumoParams\n",
    "from flow.core.params import EnvParams\n",
    "from flow.core.params import SumoCarFollowingParams\n",
    "from flow.core.experiment import Experiment\n",
    "\n",
    "print('Flow packages imported.')"
   ]
  },
  {
   "cell_type": "code",
   "execution_count": 11,
   "id": "540e07df",
   "metadata": {},
   "outputs": [
    {
     "name": "stdout",
     "output_type": "stream",
     "text": [
      "Defined multi-lane ring sim.\n"
     ]
    }
   ],
   "source": [
    "def run_ring_sim_variable_cfm(ring_length=300,\n",
    "    driver_controller_list=None,\n",
    "    lane_change_controller_list=None,\n",
    "    num_lanes=1,\n",
    "    sim_time=500):\n",
    "\n",
    "    #Simulation parameters:\n",
    "    time_step = 0.1 #In seconds, how far each step of the simulation goes.\n",
    "    emission_path = 'data' #Where csv is stored\n",
    "    want_render = True #If we want SUMO to render the environment and display the simulation.\n",
    "    sim_horizon = int(np.floor(sim_time/time_step)) #How many simulation steps will be taken -> Runs for 300 seconds\n",
    "\n",
    "    #initialize the simulation using above parameters:\n",
    "    traffic_lights = TrafficLightParams() #This is empty, so no traffic lights are used.\n",
    "    initial_config = InitialConfig(shuffle=True,spacing=\"uniform\", perturbation=1) #Vehicles start out evenly spaced.\n",
    "    vehicles = VehicleParams() #The vehicles object will store different classes of drivers:\n",
    "    sim_params = SumoParams(sim_step=time_step, render=want_render, emission_path=emission_path) #Sets the simulation time-step and where data will be recorded.\n",
    "    env_params = EnvParams(additional_params=ADDITIONAL_ENV_PARAMS)\n",
    "    net_params = NetParams(additional_params={'length':ring_length,\n",
    "                                              'lanes':num_lanes,\n",
    "                                              'speed_limit': 30,\n",
    "                                              'resolution': 40})\n",
    "\n",
    "    # Insert different vehicles:\n",
    "\n",
    "    if(driver_controller_list is None and lane_change_controller_list is None):\n",
    "        print('Running IDM.')\n",
    "        #Default to the IDM if otherwise controllers not specified:\n",
    "        vehicles.add(\"idm_driver\",\n",
    "                     acceleration_controller=(IDMController, {'noise':0.1}),\n",
    "                     routing_controller=(ContinuousRouter, {}),\n",
    "                     lane_change_controller=(StaticLaneChanger, {}),\n",
    "                     num_vehicles=num_human_drivers)\n",
    "\n",
    "    elif(driver_controller_list is not None and lane_change_controller_list is None):\n",
    "        print('Number unique drivers: '+str(len(driver_controller_list)))\n",
    "        for driver in driver_controller_list:\n",
    "            label = driver[0]\n",
    "            cfm_controller = driver[1]\n",
    "            num_vehicles = driver[2]\n",
    "\n",
    "            vehicles.add(label,\n",
    "                acceleration_controller = cfm_controller,\n",
    "                routing_controller=(ContinuousRouter, {}),\n",
    "                lane_change_controller=(StaticLaneChanger, {}),\n",
    "                num_vehicles=num_vehicles)\n",
    "            \n",
    "    elif(driver_controller_list is not None and lane_change_controller_list is not None):\n",
    "        print('Number unique drivers: '+str(len(driver_controller_list)))\n",
    "        print('Unique lane-change dynamics present.')\n",
    "        num_drivers = len(driver_controller_list)\n",
    "        for i in range(num_drivers):\n",
    "            driver = driver_controller_list[i]\n",
    "            \n",
    "            label = driver[0]\n",
    "            cfm_controller = driver[1]\n",
    "            num_vehicles = driver[2]\n",
    "            \n",
    "            lc_controller = lane_change_controller_list[i]\n",
    "\n",
    "            vehicles.add(label,\n",
    "                acceleration_controller = cfm_controller,\n",
    "                routing_controller=(ContinuousRouter, {}),\n",
    "                lane_change_controller=lc_controller,\n",
    "                num_vehicles=num_vehicles)\n",
    "\n",
    "\n",
    "    #initialize the simulation:\n",
    "    flow_params = dict(\n",
    "        exp_tag='ring_variable_cfm',\n",
    "        env_name=AccelEnv,\n",
    "        network=RingNetwork,\n",
    "        simulator='traci',\n",
    "        sim=sim_params,\n",
    "        env=env_params,\n",
    "        net=net_params,\n",
    "        veh=vehicles,\n",
    "        initial=initial_config,\n",
    "        tls=traffic_lights,\n",
    "    )\n",
    "\n",
    "    flow_params['env'].horizon = sim_horizon\n",
    "    exp = Experiment(flow_params)\n",
    "    print('Running ring simulation, ring length: '+str(ring_length))\n",
    "    \n",
    "    sim_res_list = exp.run(1, convert_to_csv=True)\n",
    "    \n",
    "    return sim_res_list\n",
    "\n",
    "print('Defined multi-lane ring sim.')"
   ]
  },
  {
   "cell_type": "code",
   "execution_count": 9,
   "id": "37c97ea7",
   "metadata": {},
   "outputs": [
    {
     "name": "stdout",
     "output_type": "stream",
     "text": [
      "Finished initializing sim dynamics.\n"
     ]
    }
   ],
   "source": [
    "driver_controller_list = []\n",
    "\n",
    "sim_time = 500\n",
    "ring_length = 400\n",
    "num_lanes = 2\n",
    "\n",
    "\n",
    "a_mean=0.8\n",
    "b_mean=20.0\n",
    "s0_mean=1.0\n",
    "s1_mean=2.0\n",
    "Vm_mean=15.0\n",
    "\n",
    "for i in range(30):\n",
    "    a = a_mean + np.random.normal(0,0.1)\n",
    "    b = b_mean + np.random.normal(0,0.5)\n",
    "    s0 = s0_mean + np.random.normal(0,0.2)\n",
    "    s1 = s1_mean + np.random.normal(0,0.2)\n",
    "    Vm = Vm_mean + np.random.normal(0,1.5)\n",
    "\n",
    "    label = 'bando_ftl_ovm_a'+str(np.round(a,2))+'_b'+str(np.round(b,2))+'_s0'+str(np.round(s0,2))+'_s1'+str(np.round(s1,2))+'_Vm'+str(np.round(Vm,2))\n",
    "    cfm_controller = (Bando_OVM_FTL,{'a':a,'b':b,'s0':s0,'s1':s1,'Vm':Vm,'noise':0.1})\n",
    "    driver_controller_list.append([label,cfm_controller,1])\n",
    "\n",
    "\n",
    "k_1_mean = 1.0\n",
    "k_2_mean = 1.0\n",
    "h_mean = 1.5\n",
    "V_m_mean = 15.0\n",
    "\n",
    "for i in range(10):\n",
    "    k_1 = k_1_mean + np.random.normal(0,0.2)\n",
    "    k_2 = k_2_mean + np.random.normal(0,0.2)\n",
    "    h = h_mean + np.random.normal(0,0.2)\n",
    "    V_m = V_m_mean + np.random.normal(0,1.0)\n",
    "    \n",
    "    label = 'ACC_k_1'+str(np.round(k_1,2))+'_k_2'+str(np.round(k_2,2))+'_h'+str(np.round(h,2))+'_V_m'+str(np.round(V_m,2))\n",
    "    cfm_controller = (ACC_Benign,{'k_1':k_1,'k_2':k_2,'h':h,'V_m':V_m})\n",
    "    driver_controller_list.append([label,cfm_controller,1])\n",
    "\n",
    "    \n",
    "lane_change_controller_list = []\n",
    "for i in range(40):\n",
    "    lane_change_controller_list.append((StaticLaneChanger, {}))\n",
    "    \n",
    "\n",
    "print('Finished initializing sim dynamics.')    "
   ]
  },
  {
   "cell_type": "code",
   "execution_count": 12,
   "id": "cc48a98e",
   "metadata": {},
   "outputs": [
    {
     "name": "stdout",
     "output_type": "stream",
     "text": [
      "Number unique drivers: 40\n",
      "Unique lane-change dynamics present.\n",
      "Running ring simulation, ring length: 400\n",
      "Round 0, return: 4295.24719143128\n",
      "data/ring_variable_cfm_20220313-1209451647191385.250991-0_emission.csv data\n",
      "Average, std returns: 4295.24719143128, 0.0\n",
      "Average, std velocities: 9.924239449116559, 0.0\n",
      "Average, std outflows: 0.0, 0.0\n",
      "Total time: 113.14419198036194\n",
      "steps/second: 69.74613057369939\n"
     ]
    }
   ],
   "source": [
    "sim_res_list_no_lane_change = run_ring_sim_variable_cfm(ring_length=ring_length,\n",
    "    driver_controller_list=driver_controller_list,\n",
    "    lane_change_controller_list=lane_change_controller_list,\n",
    "    num_lanes=num_lanes,\n",
    "    sim_time=sim_time)"
   ]
  },
  {
   "cell_type": "code",
   "execution_count": 13,
   "id": "5af3a2f6",
   "metadata": {},
   "outputs": [
    {
     "name": "stdout",
     "output_type": "stream",
     "text": [
      "Redifed lane-change dyamics.\n"
     ]
    }
   ],
   "source": [
    "lane_change_controller_list = []\n",
    "for i in range(40):\n",
    "    left_delta=0.5 + np.random.normal(0,0.1)\n",
    "    right_delta=0.5+ np.random.normal(0,0.1)\n",
    "    left_beta=np.min([0.5,1.5+ np.random.normal(0,0.1)])\n",
    "    right_beta=np.min([0.5,1.5+ np.random.normal(0,0.1)])\n",
    "    switching_threshold = 5.0\n",
    "    lane_change_controller_list.append((AILaneChangeController, {'left_delta':left_delta,\n",
    "                                                                'right_delta':right_delta,\n",
    "                                                                'left_beta':left_beta,\n",
    "                                                                'right_beta':right_beta}))\n",
    "    \n",
    "print('Redifed lane-change dyamics.')"
   ]
  },
  {
   "cell_type": "code",
   "execution_count": 14,
   "id": "437b03c3",
   "metadata": {},
   "outputs": [
    {
     "name": "stdout",
     "output_type": "stream",
     "text": [
      "Number unique drivers: 40\n",
      "Unique lane-change dynamics present.\n",
      "Running ring simulation, ring length: 400\n"
     ]
    },
    {
     "ename": "KeyError",
     "evalue": "'lane_leaders'",
     "output_type": "error",
     "traceback": [
      "\u001b[0;31m---------------------------------------------------------------------------\u001b[0m",
      "\u001b[0;31mKeyError\u001b[0m                                  Traceback (most recent call last)",
      "\u001b[0;32m<ipython-input-14-d4ff7abfc9d0>\u001b[0m in \u001b[0;36m<module>\u001b[0;34m\u001b[0m\n\u001b[1;32m      3\u001b[0m     \u001b[0mlane_change_controller_list\u001b[0m\u001b[0;34m=\u001b[0m\u001b[0mlane_change_controller_list\u001b[0m\u001b[0;34m,\u001b[0m\u001b[0;34m\u001b[0m\u001b[0;34m\u001b[0m\u001b[0m\n\u001b[1;32m      4\u001b[0m     \u001b[0mnum_lanes\u001b[0m\u001b[0;34m=\u001b[0m\u001b[0mnum_lanes\u001b[0m\u001b[0;34m,\u001b[0m\u001b[0;34m\u001b[0m\u001b[0;34m\u001b[0m\u001b[0m\n\u001b[0;32m----> 5\u001b[0;31m     sim_time=sim_time)\n\u001b[0m",
      "\u001b[0;32m<ipython-input-11-6dafb0f41357>\u001b[0m in \u001b[0;36mrun_ring_sim_variable_cfm\u001b[0;34m(ring_length, driver_controller_list, lane_change_controller_list, num_lanes, sim_time)\u001b[0m\n\u001b[1;32m     84\u001b[0m     \u001b[0mprint\u001b[0m\u001b[0;34m(\u001b[0m\u001b[0;34m'Running ring simulation, ring length: '\u001b[0m\u001b[0;34m+\u001b[0m\u001b[0mstr\u001b[0m\u001b[0;34m(\u001b[0m\u001b[0mring_length\u001b[0m\u001b[0;34m)\u001b[0m\u001b[0;34m)\u001b[0m\u001b[0;34m\u001b[0m\u001b[0;34m\u001b[0m\u001b[0m\n\u001b[1;32m     85\u001b[0m \u001b[0;34m\u001b[0m\u001b[0m\n\u001b[0;32m---> 86\u001b[0;31m     \u001b[0msim_res_list\u001b[0m \u001b[0;34m=\u001b[0m \u001b[0mexp\u001b[0m\u001b[0;34m.\u001b[0m\u001b[0mrun\u001b[0m\u001b[0;34m(\u001b[0m\u001b[0;36m1\u001b[0m\u001b[0;34m,\u001b[0m \u001b[0mconvert_to_csv\u001b[0m\u001b[0;34m=\u001b[0m\u001b[0;32mTrue\u001b[0m\u001b[0;34m)\u001b[0m\u001b[0;34m\u001b[0m\u001b[0;34m\u001b[0m\u001b[0m\n\u001b[0m\u001b[1;32m     87\u001b[0m \u001b[0;34m\u001b[0m\u001b[0m\n\u001b[1;32m     88\u001b[0m     \u001b[0;32mreturn\u001b[0m \u001b[0msim_res_list\u001b[0m\u001b[0;34m\u001b[0m\u001b[0;34m\u001b[0m\u001b[0m\n",
      "\u001b[0;32m~/Desktop/Research_2022/Anti-Flow/flow/core/experiment.py\u001b[0m in \u001b[0;36mrun\u001b[0;34m(self, num_runs, rl_actions, convert_to_csv)\u001b[0m\n\u001b[1;32m    143\u001b[0m             \u001b[0;32mfor\u001b[0m \u001b[0mj\u001b[0m \u001b[0;32min\u001b[0m \u001b[0mrange\u001b[0m\u001b[0;34m(\u001b[0m\u001b[0mnum_steps\u001b[0m\u001b[0;34m)\u001b[0m\u001b[0;34m:\u001b[0m\u001b[0;34m\u001b[0m\u001b[0;34m\u001b[0m\u001b[0m\n\u001b[1;32m    144\u001b[0m                 \u001b[0mt0\u001b[0m \u001b[0;34m=\u001b[0m \u001b[0mtime\u001b[0m\u001b[0;34m.\u001b[0m\u001b[0mtime\u001b[0m\u001b[0;34m(\u001b[0m\u001b[0;34m)\u001b[0m\u001b[0;34m\u001b[0m\u001b[0;34m\u001b[0m\u001b[0m\n\u001b[0;32m--> 145\u001b[0;31m                 \u001b[0mstate\u001b[0m\u001b[0;34m,\u001b[0m \u001b[0mreward\u001b[0m\u001b[0;34m,\u001b[0m \u001b[0mdone\u001b[0m\u001b[0;34m,\u001b[0m \u001b[0m_\u001b[0m \u001b[0;34m=\u001b[0m \u001b[0mself\u001b[0m\u001b[0;34m.\u001b[0m\u001b[0menv\u001b[0m\u001b[0;34m.\u001b[0m\u001b[0mstep\u001b[0m\u001b[0;34m(\u001b[0m\u001b[0mrl_actions\u001b[0m\u001b[0;34m(\u001b[0m\u001b[0mstate\u001b[0m\u001b[0;34m)\u001b[0m\u001b[0;34m)\u001b[0m\u001b[0;34m\u001b[0m\u001b[0;34m\u001b[0m\u001b[0m\n\u001b[0m\u001b[1;32m    146\u001b[0m                 \u001b[0mt1\u001b[0m \u001b[0;34m=\u001b[0m \u001b[0mtime\u001b[0m\u001b[0;34m.\u001b[0m\u001b[0mtime\u001b[0m\u001b[0;34m(\u001b[0m\u001b[0;34m)\u001b[0m\u001b[0;34m\u001b[0m\u001b[0;34m\u001b[0m\u001b[0m\n\u001b[1;32m    147\u001b[0m                 \u001b[0mtimes\u001b[0m\u001b[0;34m.\u001b[0m\u001b[0mappend\u001b[0m\u001b[0;34m(\u001b[0m\u001b[0;36m1\u001b[0m \u001b[0;34m/\u001b[0m \u001b[0;34m(\u001b[0m\u001b[0mt1\u001b[0m \u001b[0;34m-\u001b[0m \u001b[0mt0\u001b[0m\u001b[0;34m)\u001b[0m\u001b[0;34m)\u001b[0m\u001b[0;34m\u001b[0m\u001b[0;34m\u001b[0m\u001b[0m\n",
      "\u001b[0;32m~/Desktop/Research_2022/Anti-Flow/flow/envs/base.py\u001b[0m in \u001b[0;36mstep\u001b[0;34m(self, rl_actions)\u001b[0m\n\u001b[1;32m    342\u001b[0m                 \u001b[0;32mfor\u001b[0m \u001b[0mveh_id\u001b[0m \u001b[0;32min\u001b[0m \u001b[0mself\u001b[0m\u001b[0;34m.\u001b[0m\u001b[0mk\u001b[0m\u001b[0;34m.\u001b[0m\u001b[0mvehicle\u001b[0m\u001b[0;34m.\u001b[0m\u001b[0mget_controlled_lc_ids\u001b[0m\u001b[0;34m(\u001b[0m\u001b[0;34m)\u001b[0m\u001b[0;34m:\u001b[0m\u001b[0;34m\u001b[0m\u001b[0;34m\u001b[0m\u001b[0m\n\u001b[1;32m    343\u001b[0m                     target_lane = self.k.vehicle.get_lane_changing_controller(\n\u001b[0;32m--> 344\u001b[0;31m                         veh_id).get_action(self)\n\u001b[0m\u001b[1;32m    345\u001b[0m                     \u001b[0mdirection\u001b[0m\u001b[0;34m.\u001b[0m\u001b[0mappend\u001b[0m\u001b[0;34m(\u001b[0m\u001b[0mtarget_lane\u001b[0m\u001b[0;34m)\u001b[0m\u001b[0;34m\u001b[0m\u001b[0;34m\u001b[0m\u001b[0m\n\u001b[1;32m    346\u001b[0m                 self.k.vehicle.apply_lane_change(\n",
      "\u001b[0;32m~/Desktop/Research_2022/Anti-Flow/flow/controllers/base_lane_changing_controller.py\u001b[0m in \u001b[0;36mget_action\u001b[0;34m(self, env)\u001b[0m\n\u001b[1;32m     76\u001b[0m             \u001b[0mlane\u001b[0m \u001b[0mchange\u001b[0m \u001b[0maction\u001b[0m\u001b[0;34m\u001b[0m\u001b[0;34m\u001b[0m\u001b[0m\n\u001b[1;32m     77\u001b[0m         \"\"\"\n\u001b[0;32m---> 78\u001b[0;31m         \u001b[0mlc_action\u001b[0m \u001b[0;34m=\u001b[0m \u001b[0mself\u001b[0m\u001b[0;34m.\u001b[0m\u001b[0mget_lane_change_action\u001b[0m\u001b[0;34m(\u001b[0m\u001b[0menv\u001b[0m\u001b[0;34m)\u001b[0m\u001b[0;34m\u001b[0m\u001b[0;34m\u001b[0m\u001b[0m\n\u001b[0m\u001b[1;32m     79\u001b[0m         \u001b[0;31m# TODO(ak): add failsafe\u001b[0m\u001b[0;34m\u001b[0m\u001b[0;34m\u001b[0m\u001b[0;34m\u001b[0m\u001b[0m\n\u001b[1;32m     80\u001b[0m \u001b[0;34m\u001b[0m\u001b[0m\n",
      "\u001b[0;32m~/Desktop/Research_2022/Anti-Flow/flow/controllers/lane_change_controllers.py\u001b[0m in \u001b[0;36mget_lane_change_action\u001b[0;34m(self, env)\u001b[0m\n\u001b[1;32m     76\u001b[0m     \u001b[0;32mdef\u001b[0m \u001b[0mget_lane_change_action\u001b[0m\u001b[0;34m(\u001b[0m\u001b[0mself\u001b[0m\u001b[0;34m,\u001b[0m \u001b[0menv\u001b[0m\u001b[0;34m)\u001b[0m\u001b[0;34m:\u001b[0m\u001b[0;34m\u001b[0m\u001b[0;34m\u001b[0m\u001b[0m\n\u001b[1;32m     77\u001b[0m         \u001b[0;34m\"\"\"See parent class.\"\"\"\u001b[0m\u001b[0;34m\u001b[0m\u001b[0;34m\u001b[0m\u001b[0m\n\u001b[0;32m---> 78\u001b[0;31m         \u001b[0;32mreturn\u001b[0m \u001b[0mself\u001b[0m\u001b[0;34m.\u001b[0m\u001b[0mget_insentive_LC\u001b[0m\u001b[0;34m(\u001b[0m\u001b[0menv\u001b[0m\u001b[0;34m)\u001b[0m\u001b[0;34m\u001b[0m\u001b[0;34m\u001b[0m\u001b[0m\n\u001b[0m\u001b[1;32m     79\u001b[0m \u001b[0;34m\u001b[0m\u001b[0m\n\u001b[1;32m     80\u001b[0m \u001b[0;34m\u001b[0m\u001b[0m\n",
      "\u001b[0;32m~/Desktop/Research_2022/Anti-Flow/flow/controllers/lane_change_controllers.py\u001b[0m in \u001b[0;36mget_insentive_LC\u001b[0;34m(self, env)\u001b[0m\n\u001b[1;32m     93\u001b[0m \u001b[0;34m\u001b[0m\u001b[0m\n\u001b[1;32m     94\u001b[0m             \u001b[0;31m# get lane leaders, followers, headways, and tailways\u001b[0m\u001b[0;34m\u001b[0m\u001b[0;34m\u001b[0m\u001b[0;34m\u001b[0m\u001b[0m\n\u001b[0;32m---> 95\u001b[0;31m             \u001b[0mlane_leaders\u001b[0m \u001b[0;34m=\u001b[0m \u001b[0menv\u001b[0m\u001b[0;34m.\u001b[0m\u001b[0mk\u001b[0m\u001b[0;34m.\u001b[0m\u001b[0mvehicle\u001b[0m\u001b[0;34m.\u001b[0m\u001b[0mget_lane_leaders\u001b[0m\u001b[0;34m(\u001b[0m\u001b[0mself\u001b[0m\u001b[0;34m.\u001b[0m\u001b[0mveh_id\u001b[0m\u001b[0;34m)\u001b[0m\u001b[0;34m\u001b[0m\u001b[0;34m\u001b[0m\u001b[0m\n\u001b[0m\u001b[1;32m     96\u001b[0m \u001b[0;34m\u001b[0m\u001b[0m\n\u001b[1;32m     97\u001b[0m             \u001b[0;31m# print('Reached here. ego_id:'+self.veh_id+' , lane_leaders:'+str(lane_leaders))\u001b[0m\u001b[0;34m\u001b[0m\u001b[0;34m\u001b[0m\u001b[0;34m\u001b[0m\u001b[0m\n",
      "\u001b[0;32m~/Desktop/Research_2022/Anti-Flow/flow/core/kernel/vehicle/traci.py\u001b[0m in \u001b[0;36mget_lane_leaders\u001b[0;34m(self, veh_id, error)\u001b[0m\n\u001b[1;32m    723\u001b[0m         \u001b[0;32mif\u001b[0m \u001b[0misinstance\u001b[0m\u001b[0;34m(\u001b[0m\u001b[0mveh_id\u001b[0m\u001b[0;34m,\u001b[0m \u001b[0;34m(\u001b[0m\u001b[0mlist\u001b[0m\u001b[0;34m,\u001b[0m \u001b[0mnp\u001b[0m\u001b[0;34m.\u001b[0m\u001b[0mndarray\u001b[0m\u001b[0;34m)\u001b[0m\u001b[0;34m)\u001b[0m\u001b[0;34m:\u001b[0m\u001b[0;34m\u001b[0m\u001b[0;34m\u001b[0m\u001b[0m\n\u001b[1;32m    724\u001b[0m             \u001b[0;32mreturn\u001b[0m \u001b[0;34m[\u001b[0m\u001b[0mself\u001b[0m\u001b[0;34m.\u001b[0m\u001b[0mget_lane_leaders\u001b[0m\u001b[0;34m(\u001b[0m\u001b[0mvehID\u001b[0m\u001b[0;34m,\u001b[0m \u001b[0merror\u001b[0m\u001b[0;34m)\u001b[0m \u001b[0;32mfor\u001b[0m \u001b[0mvehID\u001b[0m \u001b[0;32min\u001b[0m \u001b[0mveh_id\u001b[0m\u001b[0;34m]\u001b[0m\u001b[0;34m\u001b[0m\u001b[0;34m\u001b[0m\u001b[0m\n\u001b[0;32m--> 725\u001b[0;31m         \u001b[0;32mreturn\u001b[0m \u001b[0mself\u001b[0m\u001b[0;34m.\u001b[0m\u001b[0m__vehicles\u001b[0m\u001b[0;34m[\u001b[0m\u001b[0mveh_id\u001b[0m\u001b[0;34m]\u001b[0m\u001b[0;34m[\u001b[0m\u001b[0;34m\"lane_leaders\"\u001b[0m\u001b[0;34m]\u001b[0m\u001b[0;34m\u001b[0m\u001b[0;34m\u001b[0m\u001b[0m\n\u001b[0m\u001b[1;32m    726\u001b[0m \u001b[0;34m\u001b[0m\u001b[0m\n\u001b[1;32m    727\u001b[0m     \u001b[0;32mdef\u001b[0m \u001b[0mset_lane_tailways\u001b[0m\u001b[0;34m(\u001b[0m\u001b[0mself\u001b[0m\u001b[0;34m,\u001b[0m \u001b[0mveh_id\u001b[0m\u001b[0;34m,\u001b[0m \u001b[0mlane_tailways\u001b[0m\u001b[0;34m)\u001b[0m\u001b[0;34m:\u001b[0m\u001b[0;34m\u001b[0m\u001b[0;34m\u001b[0m\u001b[0m\n",
      "\u001b[0;31mKeyError\u001b[0m: 'lane_leaders'"
     ]
    }
   ],
   "source": [
    "sim_res_list_with_lane_change = run_ring_sim_variable_cfm(ring_length=ring_length,\n",
    "    driver_controller_list=driver_controller_list,\n",
    "    lane_change_controller_list=lane_change_controller_list,\n",
    "    num_lanes=num_lanes,\n",
    "    sim_time=sim_time)"
   ]
  }
 ],
 "metadata": {
  "kernelspec": {
   "display_name": "anti_flow",
   "language": "python",
   "name": "anti_flow"
  },
  "language_info": {
   "codemirror_mode": {
    "name": "ipython",
    "version": 3
   },
   "file_extension": ".py",
   "mimetype": "text/x-python",
   "name": "python",
   "nbconvert_exporter": "python",
   "pygments_lexer": "ipython3",
   "version": "3.7.3"
  }
 },
 "nbformat": 4,
 "nbformat_minor": 5
}
