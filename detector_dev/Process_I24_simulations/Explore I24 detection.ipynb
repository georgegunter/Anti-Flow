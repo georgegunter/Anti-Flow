{
 "cells": [
  {
   "cell_type": "code",
   "execution_count": 1,
   "id": "84d79dc7",
   "metadata": {},
   "outputs": [
    {
     "name": "stdout",
     "output_type": "stream",
     "text": [
      "Libraries loaded.\n"
     ]
    }
   ],
   "source": [
    "import numpy as np\n",
    "import torch\n",
    "import time\n",
    "\n",
    "from Detectors.Deep_Learning.AutoEncoders.utils import SeqDataset,train_epoch,eval_data,train_model,get_cnn_lstm_ae_model,make_train_X,sliding_window_mult_feat\n",
    "from Detectors.Deep_Learning.AutoEncoders.utils import get_loss_filter_indiv as loss_smooth\n",
    "from Detectors.Deep_Learning.AutoEncoders.cnn_lstm_ae import CNNRecurrentAutoencoder\n",
    "\n",
    "import proccess_i24_losses\n",
    "from proccess_i24_losses import write_losses_to_file,get_sim_timeseries,get_rec_errors,get_sim_timeseries_all_data,get_losses_csv\n",
    "\n",
    "print('Libraries loaded.')"
   ]
  },
  {
   "cell_type": "code",
   "execution_count": 16,
   "id": "c78ff86a",
   "metadata": {},
   "outputs": [
    {
     "name": "stdout",
     "output_type": "stream",
     "text": [
      "Data loaded, total time: 34.836442947387695\n"
     ]
    }
   ],
   "source": [
    "import os\n",
    "warmup_period = 1200\n",
    "\n",
    "csv_path = '/Volumes/My Passport for Mac/misc/Dur_45_Mag_-1.0_Inflow_1800_ACCPenetration_0.2_AttackPenetration_0.1_ver_1.csv'\n",
    "\n",
    "# i24_sim_repo_path = '/Volumes/My Passport for Mac/i24_random_sample/simulations/'\n",
    "# sim_csv_path = 'Dur_19.15043308018294_Mag_-1.755389161086853_Inflow_1800_ACCPenetration_0.2_AttackPenetration_0.1_ver_1.csv'\n",
    "# sim_csv_path = os.path.join(i24_sim_repo_path,sim_csv_path)\n",
    "\n",
    "sim_timeseries = get_sim_timeseries(sim_csv_path,warmup_period)"
   ]
  },
  {
   "cell_type": "code",
   "execution_count": 22,
   "id": "31a4499c",
   "metadata": {},
   "outputs": [
    {
     "name": "stdout",
     "output_type": "stream",
     "text": [
      "Rec errors loaded.\n"
     ]
    }
   ],
   "source": [
    "loss_file_path = '/Volumes/My Passport for Mac/misc/Dur_45_Mag_-1.0_Inflow_1800_ae_rec_errors_seqlen_100.csv'\n",
    "\n",
    "# i24_loss_repo_path = '/Volumes/My Passport for Mac/i24_random_sample/ae_rec_error_results_seq_len_100/'\n",
    "# loss_file_path = os.path.join(i24_loss_repo_path,sim_csv_path )\n",
    "\n",
    "loss_dict = get_losses_csv(loss_file_path)\n",
    "print('Rec errors loaded.')"
   ]
  },
  {
   "cell_type": "code",
   "execution_count": null,
   "id": "92d1c7da",
   "metadata": {},
   "outputs": [],
   "source": []
  },
  {
   "cell_type": "code",
   "execution_count": 21,
   "id": "31d9cf02",
   "metadata": {},
   "outputs": [
    {
     "name": "stdout",
     "output_type": "stream",
     "text": [
      "flow_30.82\n",
      "flow_20.9\n"
     ]
    }
   ],
   "source": [
    "veh_ids_sim = list(sim_timeseries.keys())\n",
    "veh_ids_loss = list(loss_dict.keys())\n",
    "\n",
    "print(veh_ids_sim[0])\n",
    "print(veh_ids_loss[0])\n",
    "\n",
    "# print(loss_dict[veh_ids_loss[1000]])\n",
    "# print(sim_timeseries[veh_ids_sim[1000]])"
   ]
  }
 ],
 "metadata": {
  "kernelspec": {
   "display_name": "anti_flow",
   "language": "python",
   "name": "anti_flow"
  },
  "language_info": {
   "codemirror_mode": {
    "name": "ipython",
    "version": 3
   },
   "file_extension": ".py",
   "mimetype": "text/x-python",
   "name": "python",
   "nbconvert_exporter": "python",
   "pygments_lexer": "ipython3",
   "version": "3.7.3"
  }
 },
 "nbformat": 4,
 "nbformat_minor": 5
}
