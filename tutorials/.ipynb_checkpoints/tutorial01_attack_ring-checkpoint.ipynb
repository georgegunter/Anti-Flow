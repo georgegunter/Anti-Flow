{
 "cells": [
  {
   "cell_type": "markdown",
   "metadata": {},
   "source": [
    "# Tutorial 01: Running Sumo/Flow Simulations\n",
    "\n",
    "This tutorial walks a reader through setting up a simulation environment, initializing an attacking model, and subsequently running a simulation to understand the behavior of the simulation."
   ]
  },
  {
   "cell_type": "markdown",
   "metadata": {},
   "source": [
    "## Initialize the simulation environment: The Ring Road\n",
    "\n",
    "\n",
    "We will beging with one of the simplest traffic simulation environments, the ringroad. On a ring, a finite number of vehicles following one another. First, we must import the proper network file, in this case `RingNetwork`:"
   ]
  },
  {
   "cell_type": "code",
   "execution_count": null,
   "metadata": {},
   "outputs": [],
   "source": [
    "from flow.networks.ring import RingNetwork"
   ]
  },
  {
   "cell_type": "markdown",
   "metadata": {},
   "source": [
    "This network, as well as all other networks in Flow/Anti-Flow, is parametrized by the following arguments: \n",
    "* name\n",
    "* vehicles\n",
    "* net_params\n",
    "* initial_config\n",
    "* traffic_lights\n",
    "\n",
    "The following code shows how to initialize these quantities:"
   ]
  },
  {
   "cell_type": "code",
   "execution_count": null,
   "metadata": {},
   "outputs": [],
   "source": [
    "#Import different needed quantities:\n",
    "from flow.core.params import VehicleParams\n",
    "from flow.controllers.car_following_models import IDMController #Human driving model\n",
    "from flow.controllers.routing_controllers import ContinuousRouter #Router that keeps vehicles on the ring-road\n",
    "from flow.networks.ring import ADDITIONAL_NET_PARAMS\n",
    "from flow.core.params import NetParams\n",
    "from flow.core.params import InitialConfig\n",
    "from flow.core.params import TrafficLightParams\n",
    "from flow.envs.ring.accel import AccelEnv\n",
    "from flow.envs.ring.accel import ADDITIONAL_ENV_PARAMS\n",
    "from flow.core.params import SumoParams\n",
    "from flow.core.params import EnvParams\n",
    "from flow.core.experiment import Experiment\n",
    "\n",
    "print('Imports succesful.')"
   ]
  },
  {
   "cell_type": "markdown",
   "metadata": {},
   "source": [
    "We now use the above imported objects to set up out simulation environemnt:"
   ]
  },
  {
   "cell_type": "code",
   "execution_count": null,
   "metadata": {},
   "outputs": [],
   "source": [
    "#Simulation parameters:\n",
    "time_step = 0.1 #In seconds, how far each step of the simulation goes.\n",
    "ring_length = 300 #The diameter of the ring-road\n",
    "emission_path = 'data' #Where\n",
    "want_render = True #If we want SUMO to render the environment and display the simulation.\n",
    "sim_horizon = 3000 #How many simulation steps will be taken -> Runs for 300 seconds\n",
    "\n",
    "#initialize the simulation using above parameters:\n",
    "traffic_lights = TrafficLightParams() #This is empty, so no traffic lights are used.\n",
    "initial_config = InitialConfig(spacing=\"uniform\", perturbation=1) #Vehicles start out evenly spaced.\n",
    "vehicles = VehicleParams() #The vehicles object will store different classes of drivers:\n",
    "sim_params = SumoParams(sim_step=time_step, render=want_render, emission_path=emission_path) #Sets the simulation time-step and where data will be recorded.\n",
    "env_params = EnvParams(additional_params=ADDITIONAL_ENV_PARAMS)\n",
    "net_params = NetParams(additional_params={'length':ring_length,\n",
    "                                          'lanes':1,\n",
    "                                          'speed_limit': 30,\n",
    "                                          'resolution': 40})\n",
    "\n",
    "#Specify how human driven vehicles will drive:\n",
    "num_human_drivers = 20\n",
    "# Define a driver model human drivers:\n",
    "vehicles.add(\"human\",\n",
    "             acceleration_controller=(IDMController, {'noise':0.1}),\n",
    "             routing_controller=(ContinuousRouter, {}),\n",
    "             num_vehicles=num_human_drivers)\n",
    "\n",
    "\n",
    "#initialize the simulation:\n",
    "flow_params = dict(\n",
    "    exp_tag='ring_no_attack',\n",
    "    env_name=AccelEnv,\n",
    "    network=RingNetwork,\n",
    "    simulator='traci',\n",
    "    sim=sim_params,\n",
    "    env=env_params,\n",
    "    net=net_params,\n",
    "    veh=vehicles,\n",
    "    initial=initial_config,\n",
    "    tls=traffic_lights,\n",
    ")\n",
    "\n",
    "# number of time steps\n",
    "flow_params['env'].horizon = sim_horizon\n",
    "exp = Experiment(flow_params)\n",
    "print('Simulation ready.')\n"
   ]
  },
  {
   "cell_type": "markdown",
   "metadata": {},
   "source": [
    "Let's now run a simulation which doesn't have any malicious vehicles, and only human drivers:"
   ]
  },
  {
   "cell_type": "code",
   "execution_count": null,
   "metadata": {
    "scrolled": false
   },
   "outputs": [],
   "source": [
    "#Run the simulation and save the data:\n",
    "sim_res_list = exp.run(1, convert_to_csv=True)"
   ]
  },
  {
   "cell_type": "markdown",
   "metadata": {},
   "source": [
    "## Visualize simulation results:\n",
    "\n",
    "First, we need to find the path to the experiment that was just run, which is stored in the exp object. Plotting tools for visualizing the traffic can then be used, which are found in flow\\visualize. We plot the spacetime diagram which shows a slight travelling waves develop and then move backwards against the traffic flow."
   ]
  },
  {
   "cell_type": "code",
   "execution_count": null,
   "metadata": {},
   "outputs": [],
   "source": [
    "from importlib import reload\n",
    "import flow.visualize.visualize_ring as visualize_ring\n",
    "reload(visualize_ring)"
   ]
  },
  {
   "cell_type": "code",
   "execution_count": null,
   "metadata": {},
   "outputs": [],
   "source": [
    "import os\n",
    "import flow.visualize.visualize_ring as visualize_ring\n",
    "\n",
    "emission_location = os.path.join(os.getcwd(),sim_res_list[1])\n",
    "visualize_ring.make_ring_spacetime_fig(csv_path = emission_location)"
   ]
  },
  {
   "cell_type": "code",
   "execution_count": null,
   "metadata": {},
   "outputs": [],
   "source": [
    "import Adversaries.controllers.car_following_adversarial\n",
    "reload(Adversaries.controllers.car_following_adversarial)\n"
   ]
  },
  {
   "cell_type": "markdown",
   "metadata": {},
   "source": [
    "## Introduce an attacker:\n",
    "\n",
    "Here we use the compromised model for an ACC which executes a randomized deceleration event (RDA). A single ACC vehicle is defined which has a given attack mangitude and duration. The attacker waits 50 seconds, and to travel 900 m before it executes its attack, and the attack is only executed once."
   ]
  },
  {
   "cell_type": "code",
   "execution_count": null,
   "metadata": {},
   "outputs": [],
   "source": [
    "from Adversaries.controllers.car_following_adversarial import ACC_Switched_Controller_Attacked_Single\n",
    "\n",
    "attack_duration = 10 #How long the vehicle will slow down for.\n",
    "attack_magnitude = -1.5 #In m/s^2 how strong the braking event is.\n",
    "adversary_ACC_controller = (ACC_Switched_Controller_Attacked_Single,{\n",
    "    'warmup_steps':500,\n",
    "    'distance_threshold_max':800,\n",
    "    'Total_Attack_Duration':attack_duration,\n",
    "    'attack_decel_rate':attack_magnitude,\n",
    "    'display_attack_info':False,\n",
    "    'V_m':15.0})\n",
    "\n",
    "# Reinstantiate which vehicles are  being run:\n",
    "vehicles = VehicleParams()\n",
    "\n",
    "num_human_drivers = 19\n",
    "# Same human driver model as previously:\n",
    "vehicles.add(\"human\",\n",
    "             acceleration_controller=(IDMController, {'noise':0.1}),\n",
    "             routing_controller=(ContinuousRouter, {}),\n",
    "             num_vehicles=num_human_drivers)\n",
    "\n",
    "vehicles.add(\"AV_Adv\",\n",
    "             acceleration_controller=adversary_ACC_controller,\n",
    "             routing_controller=(ContinuousRouter, {}),\n",
    "             num_vehicles=1)\n",
    "             \n",
    "#initialize the simulation:\n",
    "flow_params = dict(\n",
    "    exp_tag='ring_with_attack',\n",
    "    env_name=AccelEnv,\n",
    "    network=RingNetwork,\n",
    "    simulator='traci',\n",
    "    sim=sim_params,\n",
    "    env=env_params,\n",
    "    net=net_params,\n",
    "    veh=vehicles,\n",
    "    initial=initial_config,\n",
    "    tls=traffic_lights,\n",
    ")\n",
    "\n",
    "# number of time steps\n",
    "flow_params['env'].horizon = sim_horizon\n",
    "exp = Experiment(flow_params)\n",
    "print('Simulation ready.')             "
   ]
  },
  {
   "cell_type": "markdown",
   "metadata": {},
   "source": [
    "Now we execute the simulation and visualize the results:"
   ]
  },
  {
   "cell_type": "code",
   "execution_count": null,
   "metadata": {},
   "outputs": [],
   "source": [
    "sim_res_list = exp.run(1, convert_to_csv=True)\n",
    "print('Simulation complete.')\n",
    "\n",
    "emission_location = os.path.join(os.getcwd(),sim_res_list[1])\n",
    "visualize_ring.make_ring_spacetime_fig(csv_path = emission_location)"
   ]
  },
  {
   "cell_type": "markdown",
   "metadata": {},
   "source": [
    "The attack, which happens around position 150, and time 120, first brings traffic to a stand-still and subsequently creates a travelling wave of larger magnitude than the un-attacked traffic."
   ]
  },
  {
   "cell_type": "markdown",
   "metadata": {},
   "source": [
    "## Bibliography\n",
    "[1] Sugiyama, Yuki, et al. \"Traffic jams without bottlenecks—experimental evidence for the physical mechanism of the formation of a jam.\" New journal of physics 10.3 (2008): 033001.\n",
    "\n",
    "[2] Treiber, Martin, Ansgar Hennecke, and Dirk Helbing. \"Congested traffic states in empirical observations and microscopic simulations.\" Physical review E 62.2 (2000): 1805."
   ]
  }
 ],
 "metadata": {
  "kernelspec": {
   "display_name": "anti_flow",
   "language": "python",
   "name": "anti_flow"
  },
  "language_info": {
   "codemirror_mode": {
    "name": "ipython",
    "version": 3
   },
   "file_extension": ".py",
   "mimetype": "text/x-python",
   "name": "python",
   "nbconvert_exporter": "python",
   "pygments_lexer": "ipython3",
   "version": "3.7.3"
  },
  "widgets": {
   "state": {},
   "version": "1.1.2"
  }
 },
 "nbformat": 4,
 "nbformat_minor": 1
}
