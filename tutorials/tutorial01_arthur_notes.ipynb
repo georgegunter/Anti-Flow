{
 "cells": [
  {
   "cell_type": "markdown",
   "metadata": {},
   "source": [
    "# Tutorial 01: Running Sumo/Flow Simulations\n",
    "\n",
    "This tutorial walks a reader through setting up a simulation environment, initializing an attacking model, and subsequently running a simulation to understand the behavior of the simulation."
   ]
  },
  {
   "cell_type": "markdown",
   "metadata": {},
   "source": [
    "## Initialize the Simulation: The Ring Road\n",
    "\n",
    "\n",
    "We will begin with one of the simplest traffic simulation environments, the ringroad. On a ring, a finite number of vehicles following one another. First, we must import the proper network file, in this case `RingNetwork`:"
   ]
  },
  {
   "cell_type": "code",
   "execution_count": 1,
   "metadata": {},
   "outputs": [],
   "source": [
    "from flow.networks.ring import RingNetwork"
   ]
  },
  {
   "cell_type": "markdown",
   "metadata": {},
   "source": [
    "## 1. Setting up a Network\n",
    "\n",
    "This network, as well as all other networks in Flow/Anti-Flow, is parametrized by the following arguments: \n",
    "* `name`\n",
    "* `vehicles`\n",
    "* `net_params`\n",
    "* `initial_config`\n",
    "* `traffic_lights`\n",
    "\n",
    "The following code shows how to initialize these quantities:"
   ]
  },
  {
   "cell_type": "code",
   "execution_count": 2,
   "metadata": {},
   "outputs": [],
   "source": [
    "# Initialize parameter : VEHICLES\n",
    "from flow.core.params import VehicleParams\n",
    "from flow.controllers.car_following_models import IDMController # A driving model that simulates a human driver.\n",
    "from flow.controllers.routing_controllers import ContinuousRouter # A Router that keeps vehicles on the ring-road.\n",
    "\n",
    "vehicles = VehicleParams() # The vehicles object will store different classes of drivers:\n",
    "\n",
    "# Specify how many human driven vehicles will drive:\n",
    "num_human_drivers = 20\n",
    "# Define a driver model human drivers:\n",
    "vehicles.add(\"human\",\n",
    "             acceleration_controller=(IDMController, {'noise':0.1}),\n",
    "             routing_controller=(ContinuousRouter, {}),\n",
    "             num_vehicles=num_human_drivers)"
   ]
  },
  {
   "cell_type": "code",
   "execution_count": 3,
   "metadata": {},
   "outputs": [],
   "source": [
    "# Initialize parameter : NET_PARAMS\n",
    "from flow.core.params import NetParams\n",
    "\n",
    "ring_length = 300 # The diameter of the ring-road\n",
    "net_params = NetParams(additional_params={'length':ring_length,\n",
    "                                          'lanes':1,\n",
    "                                          'speed_limit': 30,\n",
    "                                          'resolution': 40})"
   ]
  },
  {
   "cell_type": "code",
   "execution_count": 4,
   "metadata": {},
   "outputs": [],
   "source": [
    "# Initialize parameter : INITIAL_CONFIG\n",
    "from flow.core.params import InitialConfig\n",
    "\n",
    "initial_config = InitialConfig(spacing=\"uniform\", perturbation=1) # Vehicles start out evenly spaced."
   ]
  },
  {
   "cell_type": "code",
   "execution_count": 5,
   "metadata": {},
   "outputs": [],
   "source": [
    "# Initialize parameter : TRAFFIC_LIGHTS\n",
    "from flow.core.params import TrafficLightParams\n",
    "\n",
    "traffic_lights = TrafficLightParams() # This is empty, so no traffic lights are used."
   ]
  },
  {
   "cell_type": "markdown",
   "metadata": {},
   "source": [
    "## 2. Setting up the Environment\n",
    "\n",
    "Next, we must set up the Sumo simulation environment. Sumo envrionments in Flow are parametrized by three components:\n",
    "* `SumoParams`\n",
    "* `EnvParams`\n",
    "* `Network`\n",
    "\n",
    "`SumoParams` specifies simulation-specific variables. These variables maay include the length a simulation step (in seconds), whether to render the GUI when running the experiment, and other variables. Another useful parameter is `emission_path`, which is used to specify the path where the emissions output will be generated. They contain a lot of information about the simulation, for instance the position and speed of each car at each time step. If you do not specify any emission path, the emission file will not be generated.\n",
    "\n",
    "`EnvParams` specify environment and experiment-specific parameters that either affect the training process or the dynamics of various components within the network. Much like `NetParams`, the attributes associated with this parameter are mostly environment-specific, and can be found in the environment's `ADDITIONAL_ENV_PARAMS` dictionary. Importing the `ADDITIONAL_ENV_PARAMS` variable, we see that it consists of only one entry, \"target_velocity\", which is used when computing the reward function associated with the environment. We use this default value when generating the `EnvParams` object.\n",
    "\n",
    "`Network` specifies the network parameters that we initialized in Part 1. These parameters will be passed later as parameters of this simulation."
   ]
  },
  {
   "cell_type": "code",
   "execution_count": 6,
   "metadata": {},
   "outputs": [],
   "source": [
    "# Initialize parameter : SUMO_PARAMS\n",
    "from flow.core.params import SumoParams\n",
    "\n",
    "#Simulation parameters:\n",
    "time_step = 0.1 # In seconds, how far each step of the simulation goes.\n",
    "want_render = True # If we want SUMO to render the environment and display the simulation.\n",
    "emission_path = 'data' # Result file location.\n",
    "\n",
    "# Sets the simulation time-step and where data will be recorded.\n",
    "sim_params = SumoParams(sim_step=time_step, render=want_render, emission_path=emission_path) "
   ]
  },
  {
   "cell_type": "code",
   "execution_count": 7,
   "metadata": {},
   "outputs": [],
   "source": [
    "# Initialize parameter : ENV_PARAMS\n",
    "from flow.core.params import EnvParams\n",
    "from flow.envs.ring.accel import ADDITIONAL_ENV_PARAMS\n",
    "\n",
    "env_params = EnvParams(additional_params=ADDITIONAL_ENV_PARAMS)"
   ]
  },
  {
   "cell_type": "markdown",
   "metadata": {},
   "source": [
    "## 3. Running the Simulation"
   ]
  },
  {
   "cell_type": "markdown",
   "metadata": {},
   "source": [
    "We now use the initialized parameters above to set up out simulation environemnt:"
   ]
  },
  {
   "cell_type": "code",
   "execution_count": 8,
   "metadata": {},
   "outputs": [],
   "source": [
    "from flow.envs.ring.accel import AccelEnv\n",
    "from flow.core.experiment import Experiment"
   ]
  },
  {
   "cell_type": "code",
   "execution_count": 9,
   "metadata": {},
   "outputs": [
    {
     "name": "stdout",
     "output_type": "stream",
     "text": [
      "Simulation ready.\n"
     ]
    }
   ],
   "source": [
    "sim_horizon = 3000 # How many simulation steps will be taken -> Runs for 300 seconds\n",
    "\n",
    "# Compile all simulation parameters as a dictionary.\n",
    "flow_params = dict(\n",
    "    exp_tag='ring_no_attack',\n",
    "    env_name=AccelEnv,\n",
    "    network=RingNetwork,\n",
    "    simulator='traci',\n",
    "    sim=sim_params,\n",
    "    env=env_params,\n",
    "    net=net_params,\n",
    "    veh=vehicles,\n",
    "    initial=initial_config,\n",
    "    tls=traffic_lights,\n",
    ")\n",
    "\n",
    "# Set the number of time steps and initialize the exp object with the simulation parameters.\n",
    "flow_params['env'].horizon = sim_horizon\n",
    "exp = Experiment(flow_params)\n",
    "\n",
    "print('Simulation ready.')"
   ]
  },
  {
   "cell_type": "markdown",
   "metadata": {},
   "source": [
    "Let's now run a simulation which doesn't have any malicious vehicles, and only human drivers:"
   ]
  },
  {
   "cell_type": "code",
   "execution_count": 10,
   "metadata": {
    "scrolled": false
   },
   "outputs": [
    {
     "name": "stderr",
     "output_type": "stream",
     "text": [
      "/opt/anaconda3/envs/anti_flow/lib/python3.7/site-packages/numpy-1.18.4-py3.7-macosx-10.7-x86_64.egg/numpy/core/fromnumeric.py:3335: RuntimeWarning: Mean of empty slice.\n",
      "  out=out, **kwargs)\n",
      "/opt/anaconda3/envs/anti_flow/lib/python3.7/site-packages/numpy-1.18.4-py3.7-macosx-10.7-x86_64.egg/numpy/core/_methods.py:161: RuntimeWarning: invalid value encountered in double_scalars\n",
      "  ret = ret.dtype.type(ret / rcount)\n"
     ]
    },
    {
     "name": "stdout",
     "output_type": "stream",
     "text": [
      "Round 0, Return: 2203.0262087596902\n",
      "data/ring_no_attack_20220706-1635231657143323.98523-0_emission.csv data\n",
      "Average, std velocities: 7.35862341907247, 0.0\n",
      "Average, std outflows: 0.0, 0.0\n",
      "Average, std avg_trip_energy: nan, nan\n",
      "Average, std avg_trip_time: nan, nan\n",
      "Average, std total_completed_trips: 0.0, 0.0\n",
      "Average, std returns: 2203.0262087596902, 0.0\n",
      "Total time: 20.89385485649109\n",
      "steps/second: 189.84848215060327\n"
     ]
    }
   ],
   "source": [
    "# Run the simulation and save the data:\n",
    "sim_res_list = exp.run(1, convert_to_csv=True)"
   ]
  },
  {
   "cell_type": "markdown",
   "metadata": {},
   "source": [
    "## Visualize simulation results:\n",
    "\n",
    "First, we need to find the path to the experiment that was just run, which is stored in the exp object. Plotting tools for visualizing the traffic can then be used, which are found in flow\\visualize. We plot the spacetime diagram which shows a slight travelling waves develop and then move backwards against the traffic flow."
   ]
  },
  {
   "cell_type": "code",
   "execution_count": 11,
   "metadata": {},
   "outputs": [
    {
     "data": {
      "text/plain": [
       "<module 'flow.visualize.visualize_ring' from '/Users/arthursung/Documents/Anti-Flow/flow/visualize/visualize_ring.py'>"
      ]
     },
     "execution_count": 11,
     "metadata": {},
     "output_type": "execute_result"
    }
   ],
   "source": [
    "from importlib import reload\n",
    "import flow.visualize.visualize_ring as visualize_ring\n",
    "reload(visualize_ring)"
   ]
  },
  {
   "cell_type": "code",
   "execution_count": 12,
   "metadata": {},
   "outputs": [
    {
     "name": "stdout",
     "output_type": "stream",
     "text": [
      "Data loaded.\n"
     ]
    }
   ],
   "source": [
    "import os\n",
    "import flow.visualize.visualize_ring as visualize_ring\n",
    "\n",
    "emission_location = os.path.join(os.getcwd(),sim_res_list[1])\n",
    "visualize_ring.make_ring_spacetime_fig(csv_path = emission_location)"
   ]
  },
  {
   "cell_type": "markdown",
   "metadata": {},
   "source": [
    "## Introduce an attacker:\n",
    "\n",
    "Here we use the compromised model for an ACC which executes a randomized deceleration event (RDA). A single ACC vehicle is defined which has a given attack mangitude and duration. The attacker waits 50 seconds, and to travel 900 m before it executes its attack, and the attack is only executed once."
   ]
  },
  {
   "cell_type": "code",
   "execution_count": null,
   "metadata": {},
   "outputs": [],
   "source": [
    "import Adversaries.controllers.car_following_adversarial\n",
    "reload(Adversaries.controllers.car_following_adversarial)\n",
    "from flow.controllers.car_following_adversarial import ACC_Switched_Controller_Attacked_Single\n",
    "\n",
    "attack_duration = 10 #How long the vehicle will slow down for.\n",
    "attack_magnitude = -1.5 #In m/s^2 how strong the braking event is.\n",
    "adversary_ACC_controller = (ACC_Switched_Controller_Attacked_Single,{\n",
    "    'warmup_steps':500,\n",
    "    'distance_threshold_max':800,\n",
    "    'Total_Attack_Duration':attack_duration,\n",
    "    'attack_decel_rate':attack_magnitude,\n",
    "    'display_attack_info':False,\n",
    "    'V_m':15.0})\n",
    "\n",
    "# Reinstantiate which vehicles are  being run:\n",
    "vehicles = VehicleParams()\n",
    "\n",
    "num_human_drivers = 19\n",
    "# Same human driver model as previously:\n",
    "vehicles.add(\"human\",\n",
    "             acceleration_controller=(IDMController, {'noise':0.1}),\n",
    "             routing_controller=(ContinuousRouter, {}),\n",
    "             num_vehicles=num_human_drivers)\n",
    "\n",
    "vehicles.add(\"AV_Adv\",\n",
    "             acceleration_controller=adversary_ACC_controller,\n",
    "             routing_controller=(ContinuousRouter, {}),\n",
    "             num_vehicles=1)\n",
    "             \n",
    "#initialize the simulation:\n",
    "flow_params = dict(\n",
    "    exp_tag='ring_with_attack',\n",
    "    env_name=AccelEnv,\n",
    "    network=RingNetwork,\n",
    "    simulator='traci',\n",
    "    sim=sim_params,\n",
    "    env=env_params,\n",
    "    net=net_params,\n",
    "    veh=vehicles,\n",
    "    initial=initial_config,\n",
    "    tls=traffic_lights,\n",
    ")\n",
    "\n",
    "# number of time steps\n",
    "flow_params['env'].horizon = sim_horizon\n",
    "exp = Experiment(flow_params)\n",
    "print('Simulation ready.')             "
   ]
  },
  {
   "cell_type": "markdown",
   "metadata": {},
   "source": [
    "Now we execute the simulation and visualize the results:"
   ]
  },
  {
   "cell_type": "code",
   "execution_count": null,
   "metadata": {},
   "outputs": [],
   "source": [
    "sim_res_list = exp.run(1, convert_to_csv=True)\n",
    "print('Simulation complete.')\n",
    "\n",
    "emission_location = os.path.join(os.getcwd(),sim_res_list[1])\n",
    "visualize_ring.make_ring_spacetime_fig(csv_path = emission_location)"
   ]
  },
  {
   "cell_type": "markdown",
   "metadata": {},
   "source": [
    "The attack, which happens around position 150, and time 120, first brings traffic to a stand-still and subsequently creates a travelling wave of larger magnitude than the un-attacked traffic."
   ]
  },
  {
   "cell_type": "markdown",
   "metadata": {},
   "source": [
    "## Bibliography\n",
    "[1] Sugiyama, Yuki, et al. \"Traffic jams without bottlenecks—experimental evidence for the physical mechanism of the formation of a jam.\" New journal of physics 10.3 (2008): 033001.\n",
    "\n",
    "[2] Treiber, Martin, Ansgar Hennecke, and Dirk Helbing. \"Congested traffic states in empirical observations and microscopic simulations.\" Physical review E 62.2 (2000): 1805."
   ]
  }
 ],
 "metadata": {
  "kernelspec": {
   "display_name": "Python 3 (ipykernel)",
   "language": "python",
   "name": "python3"
  },
  "language_info": {
   "codemirror_mode": {
    "name": "ipython",
    "version": 3
   },
   "file_extension": ".py",
   "mimetype": "text/x-python",
   "name": "python",
   "nbconvert_exporter": "python",
   "pygments_lexer": "ipython3",
   "version": "3.7.3"
  },
  "widgets": {
   "state": {},
   "version": "1.1.2"
  }
 },
 "nbformat": 4,
 "nbformat_minor": 1
}
