{
 "cells": [
  {
   "cell_type": "code",
   "execution_count": 2,
   "id": "69d38d1e",
   "metadata": {},
   "outputs": [],
   "source": [
    "import numpy as np\n",
    "import torch\n",
    "import time\n",
    "from time import time as timer_start\n",
    "from Detectors.Deep_Learning.AutoEncoders.utils import SeqDataset,train_epoch,eval_data,train_model,get_cnn_lstm_ae_model,make_train_X,sliding_window_mult_feat\n",
    "from Detectors.Deep_Learning.AutoEncoders.utils import get_loss_filter_indiv as loss_smooth\n",
    "from Detectors.Deep_Learning.AutoEncoders.cnn_lstm_ae import CNNRecurrentAutoencoder\n",
    "import flow.visualize.visualize_ring as visualize_ring\n",
    "from flow.visualize.visualize_ring import get_measured_leader,get_rel_dist_to_measured_leader,get_vel_of_measured_leader\n",
    "from copy import deepcopy\n",
    "import sys\n",
    "import utils\n",
    "from utils import assess_relative_model_on_attack\n",
    "import ray\n",
    "import os\n",
    "import csv\n",
    "from sklearn.metrics import roc_curve,auc\n",
    "\n",
    "from importlib import reload\n",
    "import proccess_i24_losses\n",
    "reload(proccess_i24_losses)\n",
    "\n",
    "from proccess_i24_losses import get_sim_timeseries,get_rec_errors,get_sim_timeseries_all_data,get_losses_csv"
   ]
  },
  {
   "cell_type": "code",
   "execution_count": null,
   "id": "d722eb9a",
   "metadata": {},
   "outputs": [],
   "source": [
    "loss_emission_repo = '/Volumes/My Passport for Mac/i24_random_sample/ae_rec_error_results'"
   ]
  }
 ],
 "metadata": {
  "kernelspec": {
   "display_name": "anti_flow",
   "language": "python",
   "name": "anti_flow"
  },
  "language_info": {
   "codemirror_mode": {
    "name": "ipython",
    "version": 3
   },
   "file_extension": ".py",
   "mimetype": "text/x-python",
   "name": "python",
   "nbconvert_exporter": "python",
   "pygments_lexer": "ipython3",
   "version": "3.7.3"
  }
 },
 "nbformat": 4,
 "nbformat_minor": 5
}
