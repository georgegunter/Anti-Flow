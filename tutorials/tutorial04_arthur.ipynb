{
 "cells": [
  {
   "cell_type": "markdown",
   "id": "32dcd987",
   "metadata": {},
   "source": [
    "# Tutorial 04: Running an anomaly detector\n",
    "\n",
    "Anti-Flow is designed to support exploring cyber-attacks on intelligent transportation systems. This consists both of designing and testing different attack scenarios, as well as designing and testing detection techniques to try and catch said attacks. This tutorial focuses on the design of anomaly detectors. "
   ]
  },
  {
   "cell_type": "markdown",
   "id": "9822464e",
   "metadata": {},
   "source": [
    "First, let's rerun a simple ring simulation with no attacks. In utils.py version of both run_ring_sim_no_attack() and run_ring_sim_with_attack() are implemented which we can import here. run_ring_sim_with_attack() is slightly altered to accept any generic adversarial controller as an input."
   ]
  },
  {
   "cell_type": "code",
   "execution_count": 1,
   "id": "05c8ee63",
   "metadata": {
    "scrolled": true
   },
   "outputs": [
    {
     "name": "stdout",
     "output_type": "stream",
     "text": [
      "Running ring simulation, ring length: 300\n"
     ]
    },
    {
     "name": "stderr",
     "output_type": "stream",
     "text": [
      "/opt/anaconda3/envs/anti_flow/lib/python3.7/site-packages/numpy/core/fromnumeric.py:3441: RuntimeWarning: Mean of empty slice.\n",
      "  out=out, **kwargs)\n",
      "/opt/anaconda3/envs/anti_flow/lib/python3.7/site-packages/numpy/core/_methods.py:189: RuntimeWarning: invalid value encountered in double_scalars\n",
      "  ret = ret.dtype.type(ret / rcount)\n"
     ]
    },
    {
     "name": "stdout",
     "output_type": "stream",
     "text": [
      "Round 0, Return: 3673.502571271642\n",
      "data/ring_no_attack_20220711-1619511657574391.4190211-0_emission.csv data\n",
      "Average, std velocities: 7.4017103780530435, 0.0\n",
      "Average, std outflows: 0.0, 0.0\n",
      "Average, std avg_trip_energy: nan, nan\n",
      "Average, std avg_trip_time: nan, nan\n",
      "Average, std total_completed_trips: 0.0, 0.0\n",
      "Average, std returns: 3673.502571271642, 0.0\n",
      "Total time: 28.384660959243774\n",
      "steps/second: 198.18728956939356\n"
     ]
    }
   ],
   "source": [
    "import utils\n",
    "\n",
    "sim_res_list_no_attack = utils.run_ring_sim_no_attack()"
   ]
  },
  {
   "cell_type": "markdown",
   "id": "675265a6",
   "metadata": {},
   "source": [
    "Just as in <PATH_TO_ANTIFLOW>\\Adversaries there are a collection of different designs for adversaries in the traffic, in <PATH_TO_ANTIFLOW>\\Detectors a collection of anomaly detection techniques can be found. Both of these are subject to ongoing edits and additions.\n",
    "\n",
    "In Detectors\\Deep_Learning\\AutoEncoders a number of trained detection models exist, as well as functions to aid in training and testing new models. Let's first look at using a model trained for detection on a more complicated network to see the general structure. \n",
    "\n",
    "It may be important that the user make sure they have an updated version of PyTorch to be able to load in the given model. On my machine I was able to using version 1.7.1"
   ]
  },
  {
   "cell_type": "code",
   "execution_count": null,
   "id": "8fd92b55",
   "metadata": {},
   "outputs": [],
   "source": [
    "#Import relevant libraries:\n",
    "import numpy as np\n",
    "import flow.visualize.visualize_ring as visualize_ring\n",
    "\n",
    "import torch\n",
    "print(torch.__version__)\n",
    "\n",
    "# Anti-Flow specific functions for  detection:\n",
    "from Detectors.Deep_Learning.AutoEncoders.utils import sliding_window\n",
    "from Detectors.Deep_Learning.AutoEncoders.cnn_lstm_ae import CNNRecurrentAutoencoder"
   ]
  },
  {
   "cell_type": "code",
   "execution_count": null,
   "id": "2ccc2a0f",
   "metadata": {},
   "outputs": [],
   "source": [
    "#Define appropriate model parameters. Don't change these if you want\n",
    "#to load in the given model.\n",
    "\n",
    "#Network specific hyper-params:\n",
    "embedding_dim = 32\n",
    "cnn_channels = 8\n",
    "kernel_size = 16\n",
    "stride = 1\n",
    "batch_size = 16\n",
    "device = 'cpu' #Change to cuda if appropriate\n",
    "n_features=1 #Number of features, in the case only 1: speed\n",
    "seq_len = 100 #How many samples from the time-series we look at per time\n",
    "\n",
    "#initialize the CNN LSTM AutoEncoder:\n",
    "model = CNNRecurrentAutoencoder(seq_len,\n",
    "                                n_features,\n",
    "                                embedding_dim,\n",
    "                                cnn_channels, \n",
    "                                kernel_size, \n",
    "                                stride, \n",
    "                                device)\n",
    "\n",
    "# Load in a trained model:\n",
    "MODEL_PATH = '../Detectors/Deep_Learning/AutoEncoders/Models/Trained_RDA_Detect/cnn_lstm_ae_high_congestion_speed.pt'\n",
    "model.load_state_dict(torch.load(MODEL_PATH,map_location=torch.device(device)))"
   ]
  },
  {
   "cell_type": "markdown",
   "id": "faf9172a",
   "metadata": {},
   "source": [
    "IMPORTANT NOTE: We do NOT recommend using this model for anything outside of reproducing the results for the paper in which it was developed. This was developed for a specific traffic regime/model and may not translate to well to different contexts. Here we use it as an example.\n",
    "\n",
    "This detector uses only speed timeseries data from vehicles, and looks at a window of 100 consecutive measurements. To test it on our simulation we need to extract the speed timeseries for each vehicle.\n",
    "\n",
    "Let's load in trajectories from the simulation:"
   ]
  },
  {
   "cell_type": "code",
   "execution_count": null,
   "id": "de3dcd17",
   "metadata": {},
   "outputs": [],
   "source": [
    "import os\n",
    "import numpy as np\n",
    "import matplotlib.pyplot as plt\n",
    "import flow.visualize.visualize_ring as visualize_ring\n",
    "\n",
    "emission_path = os.path.join(os.getcwd(),sim_res_list_no_attack[1])\n",
    "\n",
    "timeseries_dict = visualize_ring.get_sim_timeseries(csv_path = emission_path,\n",
    "                                                    warmup_period=50.0)\n",
    "# Store speeds here:\n",
    "speeds = []\n",
    "for veh_id in timeseries_dict:\n",
    "    speeds.append(timeseries_dict[veh_id][:,1])"
   ]
  },
  {
   "cell_type": "markdown",
   "id": "853b7619",
   "metadata": {},
   "source": [
    "Let's now use the trained model on the loaded speed data. The sliding_window(model,input_data) function accepts an AE model and a  (n x 1) numpy array of timeseries data and slides the model across the data with a window length of seq_len. input_data must be longer than seq_len."
   ]
  },
  {
   "cell_type": "code",
   "execution_count": null,
   "id": "6349f8ac",
   "metadata": {},
   "outputs": [],
   "source": [
    "import time\n",
    "import sys\n",
    "\n",
    "begin_time = time.time()\n",
    "\n",
    "i = 0\n",
    "per_sample_computer_time = time.time()\n",
    "\n",
    "losses = []\n",
    "for speed in speeds:\n",
    "    p,l = sliding_window(model,speed)\n",
    "    losses.append(l)\n",
    "    i += 1\n",
    "    sys.stdout.write('\\r'+'Vehicle, '+str(i)+' compute time: '+str(time.time()-per_sample_computer_time))\n",
    "    per_sample_computer_time = time.time()\n",
    "    \n",
    "end_time = time.time()\n",
    "\n",
    "print('Losses found, compute time: '+str(end_time-begin_time))"
   ]
  },
  {
   "cell_type": "markdown",
   "id": "4773b7af",
   "metadata": {},
   "source": [
    "Let's now visualize the loss results:"
   ]
  },
  {
   "cell_type": "code",
   "execution_count": null,
   "id": "5a1f9bb8",
   "metadata": {},
   "outputs": [],
   "source": [
    "plt.figure(figsize=[7,3])\n",
    "\n",
    "for loss in losses:\n",
    "    plt.plot(loss)\n",
    "plt.ylabel('Loss value',fontsize=15)"
   ]
  },
  {
   "cell_type": "markdown",
   "id": "f8d041a6",
   "metadata": {},
   "source": [
    "Here, larger loss values from the AutoEncoder indiciate that the corresponding portion of data was more anomalous. \n",
    "\n",
    "Another useful way to visualize anomalies in the traffic flow is to shade a space-time diagram with the losses. To do so we make use of two functions, get_loss_filter_indiv() and make_ring_spacetime_fig_with_losses(). The first averages loss values across time. The second creates a space-time plot and shades with respect to the loss:"
   ]
  },
  {
   "cell_type": "code",
   "execution_count": null,
   "id": "32cb4577",
   "metadata": {},
   "outputs": [],
   "source": [
    "# First reorganize the data\n",
    "\n",
    "#Creates a rolling average loss value over time:\n",
    "from Detectors.Deep_Learning.AutoEncoders.utils import get_loss_filter_indiv as loss_smooth\n",
    "\n",
    "#Loads all data from simulation in, but doesn't format into numpy arrays:\n",
    "full_sim_data_dict = visualize_ring.get_sim_data_dict_ring(csv_path = emission_path,warmup_period=50.0)\n",
    "\n",
    "#veh ids for all vehicles in the flow:\n",
    "veh_ids = list(timeseries_dict.keys())\n",
    "\n",
    "#A dictionary which holds smoothed losses for vehicles:\n",
    "smoothed_losses = dict.fromkeys(veh_ids)\n",
    "\n",
    "#Get smoothed loss values:\n",
    "for i in range(len(losses)):\n",
    "    temp_veh_data = np.array(full_sim_data_dict[veh_ids[i]])\n",
    "    time = temp_veh_data[:,0].astype(float)\n",
    "    loss = losses[i]\n",
    "    smoothed_losses[veh_ids[i]] =  loss_smooth(time,loss)\n"
   ]
  },
  {
   "cell_type": "markdown",
   "id": "af6c9265",
   "metadata": {},
   "source": [
    "Now we plot the spacetime diagram:"
   ]
  },
  {
   "cell_type": "code",
   "execution_count": null,
   "id": "811d9a8c",
   "metadata": {},
   "outputs": [],
   "source": [
    "#Create the spacetime plot:\n",
    "visualize_ring.make_ring_spacetime_fig_with_losses(smoothed_losses,\n",
    "                                                   sim_data_dict=full_sim_data_dict,\n",
    "                                                   ring_length=300)\n",
    "    "
   ]
  },
  {
   "cell_type": "markdown",
   "id": "a9ca419d",
   "metadata": {},
   "source": [
    "For this detector it seems that fluctuations in the loss correlates strongly with the travling waves in the simulation, which is not surprising as speed fluctuations are cuased by the wave. One way we can use this data is to create a classifier for anamalous agents. A simple way to do such is to use the maximum loss seen for a given agent to determine whether or not that agent behaved anomalously.\n",
    "\n",
    "In single class classification we might only have data coming from "
   ]
  },
  {
   "cell_type": "code",
   "execution_count": null,
   "id": "66677482",
   "metadata": {},
   "outputs": [],
   "source": [
    "import utils\n",
    "reload(utils)\n",
    "reload(Adversaries.controllers.car_following_adversarial)\n",
    "\n",
    "from Adversaries.controllers.car_following_adversarial import FollowerStopper_Overreact\n",
    "\n",
    "# Define our advesary:\n",
    "adversary = (FollowerStopper_Overreact, {'v_des':10,\n",
    "                                        'braking_rate':-3.0,\n",
    "                                        'braking_period':5.0})"
   ]
  },
  {
   "cell_type": "markdown",
   "id": "4143f0ef",
   "metadata": {},
   "source": [
    "Then we can run the simulation:"
   ]
  },
  {
   "cell_type": "code",
   "execution_count": null,
   "id": "ebee6cba",
   "metadata": {},
   "outputs": [],
   "source": [
    "sim_res_list_with_attack = utils.run_ring_sim_with_attack(adversary=adversary)"
   ]
  },
  {
   "cell_type": "markdown",
   "id": "f8ff739c",
   "metadata": {},
   "source": [
    "Before using the anomaly detector, let's visualize the attack in space-time:"
   ]
  },
  {
   "cell_type": "code",
   "execution_count": null,
   "id": "0d3fa27d",
   "metadata": {},
   "outputs": [],
   "source": [
    "emission_path = os.path.join(os.getcwd(),sim_res_list_with_attack[1])\n",
    "visualize_ring.make_ring_spacetime_fig(csv_path = emission_path)"
   ]
  },
  {
   "cell_type": "markdown",
   "id": "33c4eec7",
   "metadata": {},
   "source": [
    "Now, we perform the same data processing as before:"
   ]
  },
  {
   "cell_type": "code",
   "execution_count": null,
   "id": "dc1b7fc6",
   "metadata": {},
   "outputs": [],
   "source": [
    "timeseries_dict_attack = visualize_ring.get_sim_timeseries(csv_path = emission_path,\n",
    "                                                    warmup_period=50.0)\n",
    "veh_ids_attack = list(timeseries_dict_attack.keys())\n",
    "\n",
    "#Get speeds again:\n",
    "speeds_attack = []\n",
    "for veh_id in veh_ids_attack:\n",
    "    speeds_attack.append(timeseries_dict_attack[veh_id][:,1])\n",
    "\n",
    "print('Calculating losses...')\n",
    "losses_attack = []\n",
    "for speed in speeds_attack:\n",
    "    p,l = sliding_window(model,speed)\n",
    "    losses_attack.append(l)\n",
    "print('Losses calculated.')\n",
    "\n",
    "#Loads all data from simulation in, but doesn't format into numpy arrays:\n",
    "full_sim_attack_data_dict = visualize_ring.get_sim_data_dict_ring(csv_path = emission_path,warmup_period=50.0)\n",
    "\n",
    "#A dictionary which holds smoothed losses for vehicles:\n",
    "smoothed_losses_attack = dict.fromkeys(veh_ids_attack)\n",
    "\n",
    "#Get smoothed loss values:\n",
    "for i in range(len(losses_attack)):\n",
    "    temp_veh_data = np.array(full_sim_attack_data_dict[veh_ids_attack[i]])\n",
    "    time = temp_veh_data[:,0].astype(float)\n",
    "    loss = losses_attack[i]\n",
    "    smoothed_losses_attack[veh_ids_attack[i]] = loss_smooth(time,loss)\n",
    "\n",
    "print('Smoothed losses found.')"
   ]
  },
  {
   "cell_type": "code",
   "execution_count": null,
   "id": "e82f7536",
   "metadata": {},
   "outputs": [],
   "source": [
    "#Create the spacetime plot shaded with losses:\n",
    "visualize_ring.make_ring_spacetime_fig_with_losses(smoothed_losses_attack,\n",
    "                                                   sim_data_dict=full_sim_attack_data_dict,\n",
    "                                                   ring_length=300)\n",
    "\n",
    "print('Analysis of attack finished.')\n",
    "    "
   ]
  },
  {
   "cell_type": "code",
   "execution_count": null,
   "id": "2777b982",
   "metadata": {},
   "outputs": [],
   "source": [
    "veh_id = 'Adv_AV_0'\n",
    "\n",
    "time = timeseries_dict_attack[veh_id][:,0]\n",
    "speed = timeseries_dict_attack[veh_id][:,1]\n",
    "spacing = timeseries_dict_attack[veh_id][:,2]\n",
    "loss = smoothed_losses_attack[veh_id]\n",
    "\n",
    "plt.figure(figsize=[15,5])\n",
    "plt.plot(time,spacing)\n",
    "\n",
    "# plt.figure(figsize=[15,10])\n",
    "# plt.subplot(2,1,1)\n",
    "# plt.plot(time,speed)\n",
    "# plt.subplot(2,1,2)\n",
    "# plt.plot(time,loss)\n",
    "\n",
    "# plt.figure()\n",
    "# plt.scatter(speed,loss)\n"
   ]
  }
 ],
 "metadata": {
  "kernelspec": {
   "display_name": "Python 3 (ipykernel)",
   "language": "python",
   "name": "python3"
  },
  "language_info": {
   "codemirror_mode": {
    "name": "ipython",
    "version": 3
   },
   "file_extension": ".py",
   "mimetype": "text/x-python",
   "name": "python",
   "nbconvert_exporter": "python",
   "pygments_lexer": "ipython3",
   "version": "3.7.3"
  }
 },
 "nbformat": 4,
 "nbformat_minor": 5
}
