{
 "cells": [
  {
   "cell_type": "code",
   "execution_count": 2,
   "metadata": {},
   "outputs": [
    {
     "name": "stdout",
     "output_type": "stream",
     "text": [
      "Loaded libraries for detection.\n"
     ]
    }
   ],
   "source": [
    "import os\n",
    "\n",
    "from importlib import reload\n",
    "\n",
    "from Detectors.Deep_Learning.AutoEncoders.utils import SeqDataset,train_epoch,eval_data,train_model,get_cnn_lstm_ae_model,make_train_X,sliding_window_mult_feat\n",
    "from Detectors.Deep_Learning.AutoEncoders.utils import get_loss_filter_indiv as loss_smooth\n",
    "from Detectors.Deep_Learning.AutoEncoders.cnn_lstm_ae import CNNRecurrentAutoencoder\n",
    "\n",
    "\n",
    "import flow.visualize.visualize_ring as visualize_ring\n",
    "from flow.visualize.visualize_ring import get_measured_leader,get_rel_dist_to_measured_leader,get_vel_of_measured_leader\n",
    "\n",
    "\n",
    "import Detectors.Deep_Learning.AutoEncoders.utils\n",
    "reload(Detectors.Deep_Learning.AutoEncoders.utils)\n",
    "from Detectors.Deep_Learning.AutoEncoders.utils import SeqDataset,train_epoch,eval_data,train_model\n",
    "\n",
    "import torch\n",
    "\n",
    "# Anti-Flow specific functions for  detection:\n",
    "\n",
    "from Detectors.Deep_Learning.AutoEncoders.utils import sliding_window\n",
    "from Detectors.Deep_Learning.AutoEncoders.cnn_lstm_ae import CNNRecurrentAutoencoder\n",
    "\n",
    "model = get_cnn_lstm_ae_model(n_features=4)\n",
    "\n",
    "print('Loaded libraries for detection.')"
   ]
  },
  {
   "cell_type": "code",
   "execution_count": 24,
   "metadata": {},
   "outputs": [
    {
     "name": "stdout",
     "output_type": "stream",
     "text": [
      "Training procedure defined.\n"
     ]
    }
   ],
   "source": [
    "import csv\n",
    "import numpy as np\n",
    "import sys\n",
    "def get_sim_timeseries(csv_path,warmup_period=0.0):\n",
    "    row_num = 1\n",
    "    curr_veh_id = 'id'\n",
    "    sim_dict = {}\n",
    "    curr_veh_data = []\n",
    "    \n",
    "    edge_list = ['Eastbound_3','Eastbound_4','Eastbound_5','Eastbound_6','Eastbound_7']\n",
    "\n",
    "    with open(csv_path, newline='') as csvfile:\n",
    "        csvreader = csv.reader(csvfile, delimiter=',')\n",
    "        for row in csvreader:\n",
    "            if(row_num > 1):\n",
    "                # Don't read header\n",
    "                if(curr_veh_id != row[1]):\n",
    "                    #Add in new data to the dictionary:\n",
    "\n",
    "                    #Store old data:\n",
    "                    if(len(curr_veh_data)>0):\n",
    "                        sim_dict[curr_veh_id] = np.array(curr_veh_data).astype(float)\n",
    "                        sys.stdout.write('\\r'+'Veh id: '+curr_veh_id+ ' row: ' +str(row_num)+'\\r')\n",
    "                    #Rest where data is being stashed:\n",
    "                    curr_veh_data = []\n",
    "                    curr_veh_id = row[1] # Set new veh id\n",
    "                    #Allocate space for storing:\n",
    "#                     sim_dict[curr_veh_id] = []\n",
    "\n",
    "                curr_veh_id = row[1]\n",
    "                time = float(row[0])\n",
    "                edge = row[-4]\n",
    "                if(time > warmup_period and edge in edge_list):\n",
    "                    # data = [time,speed,headway,leader_rel_speed]\n",
    "                    data = [row[0],row[4],row[5],row[8]]\n",
    "                    curr_veh_data.append(data)\n",
    "            row_num += 1\n",
    "\n",
    "        #Add the very last vehicle's information:\n",
    "        sim_dict[curr_veh_id] = np.array(curr_veh_data).astype(float)\n",
    "        print('Data loaded.')\n",
    "    return sim_dict\n",
    "\n",
    "def train_i24_model(timeseries_dict,n_epoch=300,model=None):\n",
    "    veh_ids = list(timeseries_dict.keys())\n",
    "    timeseries_list = []\n",
    "\n",
    "    for veh_id in veh_ids:\n",
    "        #[time,speed,headway,accel,leader_speed,fuel_consumption]\n",
    "        num_samples = len(timeseries_dict[veh_id][:,0])\n",
    "        if(num_samples > 10):\n",
    "            speed = timeseries_dict[veh_id][:,1]\n",
    "            accel = np.gradient(speed,.1)\n",
    "            head_way = timeseries_dict[veh_id][:,2]\n",
    "            rel_vel = timeseries_dict[veh_id][:,3]\n",
    "\n",
    "            timeseries_list.append([speed,accel,head_way,rel_vel])\n",
    "        \n",
    "    train_X = make_train_X(timeseries_list)\n",
    "    \n",
    "    if(model is None):\n",
    "        model = get_cnn_lstm_ae_model(n_features=4)\n",
    "    \n",
    "    model_file_name = 'i24_detector_complete_obs'\n",
    "    \n",
    "    print('Beginning training...')\n",
    "    begin_time = time.time()\n",
    "    model = train_model(model,train_X,model_file_name,n_epoch=n_epoch)\n",
    "    finish_time = time.time()\n",
    "    print('Finished training, total time: '+str(finish_time-begin_time))\n",
    "\n",
    "    return model\n",
    "    \n",
    "print('Training procedure defined.')"
   ]
  },
  {
   "cell_type": "code",
   "execution_count": 16,
   "metadata": {},
   "outputs": [
    {
     "name": "stdout",
     "output_type": "stream",
     "text": [
      "Data loaded._60.647 row: 4714685\n",
      "Total loading time: 39.22787404060364\n"
     ]
    }
   ],
   "source": [
    "import time\n",
    "csv_path = '/Volumes/Backup/George_Research/benign_initial_i24/1800_inflow_0.2_ACC.csv'\n",
    "warmup_period = 600.0\n",
    "\n",
    "begin_load_time = time.time()\n",
    "timeseries_dict = get_sim_timeseries(csv_path,warmup_period)\n",
    "end_load_time = time.time()\n",
    "\n",
    "print('Total loading time: '+str(end_load_time-begin_load_time))"
   ]
  },
  {
   "cell_type": "code",
   "execution_count": 22,
   "metadata": {},
   "outputs": [
    {
     "data": {
      "text/plain": [
       "[<matplotlib.lines.Line2D at 0x7fdb92073668>]"
      ]
     },
     "execution_count": 22,
     "metadata": {},
     "output_type": "execute_result"
    },
    {
     "data": {
      "image/png": "[encoded data removed]",
      "text/plain": [
       "<Figure size 432x288 with 1 Axes>"
      ]
     },
     "metadata": {
      "needs_background": "light"
     },
     "output_type": "display_data"
    }
   ],
   "source": [
    "import matplotlib.pyplot as plt\n",
    "veh_ids = list(timeseries_dict.keys())\n",
    "veh_id = veh_ids[900]\n",
    "# print(timeseries_dict[veh_id])\n",
    "plt.plot(timeseries_dict[veh_id][:,0],timeseries_dict[veh_id][:,1])"
   ]
  },
  {
   "cell_type": "code",
   "execution_count": 25,
   "metadata": {},
   "outputs": [
    {
     "ename": "ValueError",
     "evalue": "low >= high",
     "output_type": "error",
     "traceback": [
      "\u001b[0;31m---------------------------------------------------------------------------\u001b[0m",
      "\u001b[0;31mValueError\u001b[0m                                Traceback (most recent call last)",
      "\u001b[0;32m/var/folders/bt/d84yntr511g4zwxvqcr6j_280000gn/T/ipykernel_46172/3643470508.py\u001b[0m in \u001b[0;36m<module>\u001b[0;34m\u001b[0m\n\u001b[0;32m----> 1\u001b[0;31m \u001b[0mi24_detection_model\u001b[0m \u001b[0;34m=\u001b[0m \u001b[0mtrain_i24_model\u001b[0m\u001b[0;34m(\u001b[0m\u001b[0mtimeseries_dict\u001b[0m\u001b[0;34m,\u001b[0m\u001b[0mn_epoch\u001b[0m\u001b[0;34m=\u001b[0m\u001b[0;36m300\u001b[0m\u001b[0;34m,\u001b[0m\u001b[0mmodel\u001b[0m\u001b[0;34m=\u001b[0m\u001b[0;32mNone\u001b[0m\u001b[0;34m)\u001b[0m\u001b[0;34m\u001b[0m\u001b[0;34m\u001b[0m\u001b[0m\n\u001b[0m",
      "\u001b[0;32m/var/folders/bt/d84yntr511g4zwxvqcr6j_280000gn/T/ipykernel_46172/4279838431.py\u001b[0m in \u001b[0;36mtrain_i24_model\u001b[0;34m(timeseries_dict, n_epoch, model)\u001b[0m\n\u001b[1;32m     55\u001b[0m         \u001b[0mtimeseries_list\u001b[0m\u001b[0;34m.\u001b[0m\u001b[0mappend\u001b[0m\u001b[0;34m(\u001b[0m\u001b[0;34m[\u001b[0m\u001b[0mspeed\u001b[0m\u001b[0;34m,\u001b[0m\u001b[0maccel\u001b[0m\u001b[0;34m,\u001b[0m\u001b[0mhead_way\u001b[0m\u001b[0;34m,\u001b[0m\u001b[0mrel_vel\u001b[0m\u001b[0;34m]\u001b[0m\u001b[0;34m)\u001b[0m\u001b[0;34m\u001b[0m\u001b[0;34m\u001b[0m\u001b[0m\n\u001b[1;32m     56\u001b[0m \u001b[0;34m\u001b[0m\u001b[0m\n\u001b[0;32m---> 57\u001b[0;31m     \u001b[0mtrain_X\u001b[0m \u001b[0;34m=\u001b[0m \u001b[0mmake_train_X\u001b[0m\u001b[0;34m(\u001b[0m\u001b[0mtimeseries_list\u001b[0m\u001b[0;34m)\u001b[0m\u001b[0;34m\u001b[0m\u001b[0;34m\u001b[0m\u001b[0m\n\u001b[0m\u001b[1;32m     58\u001b[0m \u001b[0;34m\u001b[0m\u001b[0m\n\u001b[1;32m     59\u001b[0m     \u001b[0;32mif\u001b[0m\u001b[0;34m(\u001b[0m\u001b[0mmodel\u001b[0m \u001b[0;32mis\u001b[0m \u001b[0;32mNone\u001b[0m\u001b[0;34m)\u001b[0m\u001b[0;34m:\u001b[0m\u001b[0;34m\u001b[0m\u001b[0;34m\u001b[0m\u001b[0m\n",
      "\u001b[0;32m~/Desktop/Vanderbilt/Anti-Flow/Detectors/Deep_Learning/AutoEncoders/utils.py\u001b[0m in \u001b[0;36mmake_train_X\u001b[0;34m(timeseries_list, num_samples_per_veh, seq_len)\u001b[0m\n\u001b[1;32m    263\u001b[0m         \u001b[0mnum_features\u001b[0m \u001b[0;34m=\u001b[0m \u001b[0mlen\u001b[0m\u001b[0;34m(\u001b[0m\u001b[0msample\u001b[0m\u001b[0;34m)\u001b[0m\u001b[0;34m\u001b[0m\u001b[0;34m\u001b[0m\u001b[0m\n\u001b[1;32m    264\u001b[0m \u001b[0;34m\u001b[0m\u001b[0m\n\u001b[0;32m--> 265\u001b[0;31m         \u001b[0msample_start_points\u001b[0m \u001b[0;34m=\u001b[0m \u001b[0mnp\u001b[0m\u001b[0;34m.\u001b[0m\u001b[0mrandom\u001b[0m\u001b[0;34m.\u001b[0m\u001b[0mrandint\u001b[0m\u001b[0;34m(\u001b[0m\u001b[0msample_length\u001b[0m\u001b[0;34m-\u001b[0m\u001b[0mseq_len\u001b[0m\u001b[0;34m,\u001b[0m\u001b[0msize\u001b[0m\u001b[0;34m=\u001b[0m\u001b[0mnum_samples_per_veh\u001b[0m\u001b[0;34m)\u001b[0m\u001b[0;34m\u001b[0m\u001b[0;34m\u001b[0m\u001b[0m\n\u001b[0m\u001b[1;32m    266\u001b[0m         \u001b[0;32mfor\u001b[0m \u001b[0mi\u001b[0m \u001b[0;32min\u001b[0m \u001b[0mrange\u001b[0m\u001b[0;34m(\u001b[0m\u001b[0mnum_samples_per_veh\u001b[0m\u001b[0;34m)\u001b[0m\u001b[0;34m:\u001b[0m\u001b[0;34m\u001b[0m\u001b[0;34m\u001b[0m\u001b[0m\n\u001b[1;32m    267\u001b[0m             \u001b[0mstart\u001b[0m \u001b[0;34m=\u001b[0m \u001b[0msample_start_points\u001b[0m\u001b[0;34m[\u001b[0m\u001b[0mi\u001b[0m\u001b[0;34m]\u001b[0m\u001b[0;34m\u001b[0m\u001b[0;34m\u001b[0m\u001b[0m\n",
      "\u001b[0;32mmtrand.pyx\u001b[0m in \u001b[0;36mnumpy.random.mtrand.RandomState.randint\u001b[0;34m()\u001b[0m\n",
      "\u001b[0;32m_bounded_integers.pyx\u001b[0m in \u001b[0;36mnumpy.random._bounded_integers._rand_int64\u001b[0;34m()\u001b[0m\n",
      "\u001b[0;31mValueError\u001b[0m: low >= high"
     ]
    }
   ],
   "source": [
    "i24_detection_model = train_i24_model(timeseries_dict,n_epoch=300,model=None)"
   ]
  }
 ],
 "metadata": {
  "kernelspec": {
   "display_name": "anti_flow",
   "language": "python",
   "name": "anti_flow"
  },
  "language_info": {
   "codemirror_mode": {
    "name": "ipython",
    "version": 3
   },
   "file_extension": ".py",
   "mimetype": "text/x-python",
   "name": "python",
   "nbconvert_exporter": "python",
   "pygments_lexer": "ipython3",
   "version": "3.7.3"
  }
 },
 "nbformat": 4,
 "nbformat_minor": 2
}
